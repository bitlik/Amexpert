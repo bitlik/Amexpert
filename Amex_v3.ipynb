{
 "cells": [
  {
   "cell_type": "code",
   "execution_count": 193,
   "metadata": {},
   "outputs": [],
   "source": [
    "import pandas as pd\n",
    "import numpy as np\n",
    "pd.set_option('max_columns',None)\n",
    "from datetime import date\n",
    "import matplotlib.pyplot as plt\n",
    "from sklearn.model_selection import train_test_split\n",
    "from xgboost import XGBClassifier\n",
    "from sklearn.metrics import roc_auc_score\n",
    "from sklearn.metrics import classification_report\n",
    "from sklearn.model_selection import GridSearchCV\n",
    "from sklearn.preprocessing import Imputer"
   ]
  },
  {
   "cell_type": "code",
   "execution_count": 194,
   "metadata": {},
   "outputs": [],
   "source": [
    "train = pd.read_csv(r'C:\\Users\\ezchave\\Desktop\\Work\\Amex\\train.csv')\n",
    "campaign_data = pd.read_csv(r'C:\\Users\\ezchave\\Desktop\\Work\\Amex\\campaign_data.csv')\n",
    "coupon_item_mapping = pd.read_csv(r'C:\\Users\\ezchave\\Desktop\\Work\\Amex\\coupon_item_mapping.csv')\n",
    "customer_demographics = pd.read_csv(r'C:\\Users\\ezchave\\Desktop\\Work\\Amex\\customer_demographics.csv')\n",
    "customer_transaction_data = pd.read_csv(r'C:\\Users\\ezchave\\Desktop\\Work\\Amex\\customer_transaction_data.csv')\n",
    "item_data = pd.read_csv(r'C:\\Users\\ezchave\\Desktop\\Work\\Amex\\item_data.csv')\n",
    "sample_submission = pd.read_csv(r'C:\\Users\\ezchave\\Desktop\\Work\\Amex\\sample_submission_Byiv0dS.csv')\n",
    "test = pd.read_csv(r'C:\\Users\\ezchave\\Desktop\\Work\\Amex\\test_QyjYwdj.csv')\n"
   ]
  },
  {
   "cell_type": "code",
   "execution_count": 353,
   "metadata": {},
   "outputs": [],
   "source": [
    "test = pd.read_csv(r'C:\\Users\\ezchave\\Desktop\\Work\\Amex\\test_QyjYwdj.csv')"
   ]
  },
  {
   "cell_type": "markdown",
   "metadata": {},
   "source": [
    "### explore campaign_data"
   ]
  },
  {
   "cell_type": "code",
   "execution_count": 196,
   "metadata": {},
   "outputs": [
    {
     "data": {
      "text/html": [
       "<div>\n",
       "<style scoped>\n",
       "    .dataframe tbody tr th:only-of-type {\n",
       "        vertical-align: middle;\n",
       "    }\n",
       "\n",
       "    .dataframe tbody tr th {\n",
       "        vertical-align: top;\n",
       "    }\n",
       "\n",
       "    .dataframe thead th {\n",
       "        text-align: right;\n",
       "    }\n",
       "</style>\n",
       "<table border=\"1\" class=\"dataframe\">\n",
       "  <thead>\n",
       "    <tr style=\"text-align: right;\">\n",
       "      <th></th>\n",
       "      <th>campaign_id</th>\n",
       "      <th>campaign_type</th>\n",
       "      <th>start_date</th>\n",
       "      <th>end_date</th>\n",
       "    </tr>\n",
       "  </thead>\n",
       "  <tbody>\n",
       "    <tr>\n",
       "      <th>0</th>\n",
       "      <td>24</td>\n",
       "      <td>Y</td>\n",
       "      <td>21/10/13</td>\n",
       "      <td>20/12/13</td>\n",
       "    </tr>\n",
       "    <tr>\n",
       "      <th>1</th>\n",
       "      <td>25</td>\n",
       "      <td>Y</td>\n",
       "      <td>21/10/13</td>\n",
       "      <td>22/11/13</td>\n",
       "    </tr>\n",
       "    <tr>\n",
       "      <th>2</th>\n",
       "      <td>20</td>\n",
       "      <td>Y</td>\n",
       "      <td>07/09/13</td>\n",
       "      <td>16/11/13</td>\n",
       "    </tr>\n",
       "    <tr>\n",
       "      <th>3</th>\n",
       "      <td>23</td>\n",
       "      <td>Y</td>\n",
       "      <td>08/10/13</td>\n",
       "      <td>15/11/13</td>\n",
       "    </tr>\n",
       "    <tr>\n",
       "      <th>4</th>\n",
       "      <td>21</td>\n",
       "      <td>Y</td>\n",
       "      <td>16/09/13</td>\n",
       "      <td>18/10/13</td>\n",
       "    </tr>\n",
       "  </tbody>\n",
       "</table>\n",
       "</div>"
      ],
      "text/plain": [
       "   campaign_id campaign_type start_date  end_date\n",
       "0           24             Y   21/10/13  20/12/13\n",
       "1           25             Y   21/10/13  22/11/13\n",
       "2           20             Y   07/09/13  16/11/13\n",
       "3           23             Y   08/10/13  15/11/13\n",
       "4           21             Y   16/09/13  18/10/13"
      ]
     },
     "execution_count": 196,
     "metadata": {},
     "output_type": "execute_result"
    }
   ],
   "source": [
    "campaign_data.head()"
   ]
  },
  {
   "cell_type": "code",
   "execution_count": 197,
   "metadata": {},
   "outputs": [
    {
     "name": "stdout",
     "output_type": "stream",
     "text": [
      "<class 'pandas.core.frame.DataFrame'>\n",
      "RangeIndex: 28 entries, 0 to 27\n",
      "Data columns (total 4 columns):\n",
      "campaign_id      28 non-null int64\n",
      "campaign_type    28 non-null object\n",
      "start_date       28 non-null object\n",
      "end_date         28 non-null object\n",
      "dtypes: int64(1), object(3)\n",
      "memory usage: 976.0+ bytes\n"
     ]
    }
   ],
   "source": [
    "campaign_data.info()"
   ]
  },
  {
   "cell_type": "code",
   "execution_count": 198,
   "metadata": {},
   "outputs": [
    {
     "data": {
      "text/plain": [
       "array(['Y', 'X'], dtype=object)"
      ]
     },
     "execution_count": 198,
     "metadata": {},
     "output_type": "execute_result"
    }
   ],
   "source": [
    "campaign_data.campaign_type.unique()"
   ]
  },
  {
   "cell_type": "code",
   "execution_count": 199,
   "metadata": {},
   "outputs": [
    {
     "data": {
      "text/plain": [
       "(28,)"
      ]
     },
     "execution_count": 199,
     "metadata": {},
     "output_type": "execute_result"
    }
   ],
   "source": [
    "# number of campaigns\n",
    "campaign_data.campaign_id.unique().shape"
   ]
  },
  {
   "cell_type": "code",
   "execution_count": 200,
   "metadata": {},
   "outputs": [],
   "source": [
    "campaign_data.start_date = pd.to_datetime(campaign_data.start_date,dayfirst=True)\n",
    "campaign_data.end_date = pd.to_datetime(campaign_data.end_date,dayfirst=True)"
   ]
  },
  {
   "cell_type": "code",
   "execution_count": 201,
   "metadata": {},
   "outputs": [],
   "source": [
    "campaign_data['campaign_length'] = campaign_data.end_date - campaign_data.start_date"
   ]
  },
  {
   "cell_type": "code",
   "execution_count": 202,
   "metadata": {},
   "outputs": [
    {
     "data": {
      "text/html": [
       "<div>\n",
       "<style scoped>\n",
       "    .dataframe tbody tr th:only-of-type {\n",
       "        vertical-align: middle;\n",
       "    }\n",
       "\n",
       "    .dataframe tbody tr th {\n",
       "        vertical-align: top;\n",
       "    }\n",
       "\n",
       "    .dataframe thead th {\n",
       "        text-align: right;\n",
       "    }\n",
       "</style>\n",
       "<table border=\"1\" class=\"dataframe\">\n",
       "  <thead>\n",
       "    <tr style=\"text-align: right;\">\n",
       "      <th></th>\n",
       "      <th>campaign_id</th>\n",
       "      <th>campaign_type</th>\n",
       "      <th>start_date</th>\n",
       "      <th>end_date</th>\n",
       "      <th>campaign_length</th>\n",
       "    </tr>\n",
       "  </thead>\n",
       "  <tbody>\n",
       "    <tr>\n",
       "      <th>0</th>\n",
       "      <td>24</td>\n",
       "      <td>Y</td>\n",
       "      <td>2013-10-21</td>\n",
       "      <td>2013-12-20</td>\n",
       "      <td>60 days</td>\n",
       "    </tr>\n",
       "    <tr>\n",
       "      <th>1</th>\n",
       "      <td>25</td>\n",
       "      <td>Y</td>\n",
       "      <td>2013-10-21</td>\n",
       "      <td>2013-11-22</td>\n",
       "      <td>32 days</td>\n",
       "    </tr>\n",
       "    <tr>\n",
       "      <th>2</th>\n",
       "      <td>20</td>\n",
       "      <td>Y</td>\n",
       "      <td>2013-09-07</td>\n",
       "      <td>2013-11-16</td>\n",
       "      <td>70 days</td>\n",
       "    </tr>\n",
       "    <tr>\n",
       "      <th>3</th>\n",
       "      <td>23</td>\n",
       "      <td>Y</td>\n",
       "      <td>2013-10-08</td>\n",
       "      <td>2013-11-15</td>\n",
       "      <td>38 days</td>\n",
       "    </tr>\n",
       "    <tr>\n",
       "      <th>4</th>\n",
       "      <td>21</td>\n",
       "      <td>Y</td>\n",
       "      <td>2013-09-16</td>\n",
       "      <td>2013-10-18</td>\n",
       "      <td>32 days</td>\n",
       "    </tr>\n",
       "    <tr>\n",
       "      <th>5</th>\n",
       "      <td>22</td>\n",
       "      <td>X</td>\n",
       "      <td>2013-09-16</td>\n",
       "      <td>2013-10-18</td>\n",
       "      <td>32 days</td>\n",
       "    </tr>\n",
       "    <tr>\n",
       "      <th>6</th>\n",
       "      <td>18</td>\n",
       "      <td>X</td>\n",
       "      <td>2013-08-10</td>\n",
       "      <td>2013-10-04</td>\n",
       "      <td>55 days</td>\n",
       "    </tr>\n",
       "    <tr>\n",
       "      <th>7</th>\n",
       "      <td>19</td>\n",
       "      <td>Y</td>\n",
       "      <td>2013-08-26</td>\n",
       "      <td>2013-09-27</td>\n",
       "      <td>32 days</td>\n",
       "    </tr>\n",
       "    <tr>\n",
       "      <th>8</th>\n",
       "      <td>17</td>\n",
       "      <td>Y</td>\n",
       "      <td>2013-07-29</td>\n",
       "      <td>2013-08-30</td>\n",
       "      <td>32 days</td>\n",
       "    </tr>\n",
       "    <tr>\n",
       "      <th>9</th>\n",
       "      <td>16</td>\n",
       "      <td>Y</td>\n",
       "      <td>2013-07-15</td>\n",
       "      <td>2013-08-16</td>\n",
       "      <td>32 days</td>\n",
       "    </tr>\n",
       "    <tr>\n",
       "      <th>10</th>\n",
       "      <td>13</td>\n",
       "      <td>X</td>\n",
       "      <td>2013-05-19</td>\n",
       "      <td>2013-07-05</td>\n",
       "      <td>47 days</td>\n",
       "    </tr>\n",
       "    <tr>\n",
       "      <th>11</th>\n",
       "      <td>11</td>\n",
       "      <td>Y</td>\n",
       "      <td>2013-04-22</td>\n",
       "      <td>2013-06-07</td>\n",
       "      <td>46 days</td>\n",
       "    </tr>\n",
       "    <tr>\n",
       "      <th>12</th>\n",
       "      <td>12</td>\n",
       "      <td>Y</td>\n",
       "      <td>2013-04-22</td>\n",
       "      <td>2013-05-24</td>\n",
       "      <td>32 days</td>\n",
       "    </tr>\n",
       "    <tr>\n",
       "      <th>13</th>\n",
       "      <td>10</td>\n",
       "      <td>Y</td>\n",
       "      <td>2013-04-08</td>\n",
       "      <td>2013-05-10</td>\n",
       "      <td>32 days</td>\n",
       "    </tr>\n",
       "    <tr>\n",
       "      <th>14</th>\n",
       "      <td>9</td>\n",
       "      <td>Y</td>\n",
       "      <td>2013-03-11</td>\n",
       "      <td>2013-04-12</td>\n",
       "      <td>32 days</td>\n",
       "    </tr>\n",
       "    <tr>\n",
       "      <th>15</th>\n",
       "      <td>8</td>\n",
       "      <td>X</td>\n",
       "      <td>2013-02-16</td>\n",
       "      <td>2013-04-05</td>\n",
       "      <td>48 days</td>\n",
       "    </tr>\n",
       "    <tr>\n",
       "      <th>16</th>\n",
       "      <td>7</td>\n",
       "      <td>Y</td>\n",
       "      <td>2013-02-02</td>\n",
       "      <td>2013-03-08</td>\n",
       "      <td>34 days</td>\n",
       "    </tr>\n",
       "    <tr>\n",
       "      <th>17</th>\n",
       "      <td>6</td>\n",
       "      <td>Y</td>\n",
       "      <td>2013-01-28</td>\n",
       "      <td>2013-03-01</td>\n",
       "      <td>32 days</td>\n",
       "    </tr>\n",
       "    <tr>\n",
       "      <th>18</th>\n",
       "      <td>3</td>\n",
       "      <td>Y</td>\n",
       "      <td>2012-12-22</td>\n",
       "      <td>2013-02-16</td>\n",
       "      <td>56 days</td>\n",
       "    </tr>\n",
       "    <tr>\n",
       "      <th>19</th>\n",
       "      <td>5</td>\n",
       "      <td>Y</td>\n",
       "      <td>2013-01-12</td>\n",
       "      <td>2013-02-15</td>\n",
       "      <td>34 days</td>\n",
       "    </tr>\n",
       "    <tr>\n",
       "      <th>20</th>\n",
       "      <td>4</td>\n",
       "      <td>Y</td>\n",
       "      <td>2013-01-07</td>\n",
       "      <td>2013-02-08</td>\n",
       "      <td>32 days</td>\n",
       "    </tr>\n",
       "    <tr>\n",
       "      <th>21</th>\n",
       "      <td>1</td>\n",
       "      <td>Y</td>\n",
       "      <td>2012-12-12</td>\n",
       "      <td>2013-01-18</td>\n",
       "      <td>37 days</td>\n",
       "    </tr>\n",
       "    <tr>\n",
       "      <th>22</th>\n",
       "      <td>2</td>\n",
       "      <td>Y</td>\n",
       "      <td>2012-12-17</td>\n",
       "      <td>2013-01-18</td>\n",
       "      <td>32 days</td>\n",
       "    </tr>\n",
       "    <tr>\n",
       "      <th>23</th>\n",
       "      <td>30</td>\n",
       "      <td>X</td>\n",
       "      <td>2012-11-19</td>\n",
       "      <td>2013-01-04</td>\n",
       "      <td>46 days</td>\n",
       "    </tr>\n",
       "    <tr>\n",
       "      <th>24</th>\n",
       "      <td>29</td>\n",
       "      <td>Y</td>\n",
       "      <td>2012-10-08</td>\n",
       "      <td>2012-11-30</td>\n",
       "      <td>53 days</td>\n",
       "    </tr>\n",
       "    <tr>\n",
       "      <th>25</th>\n",
       "      <td>28</td>\n",
       "      <td>Y</td>\n",
       "      <td>2012-09-16</td>\n",
       "      <td>2012-11-16</td>\n",
       "      <td>61 days</td>\n",
       "    </tr>\n",
       "    <tr>\n",
       "      <th>26</th>\n",
       "      <td>27</td>\n",
       "      <td>Y</td>\n",
       "      <td>2012-08-25</td>\n",
       "      <td>2012-10-27</td>\n",
       "      <td>63 days</td>\n",
       "    </tr>\n",
       "    <tr>\n",
       "      <th>27</th>\n",
       "      <td>26</td>\n",
       "      <td>X</td>\n",
       "      <td>2012-08-12</td>\n",
       "      <td>2012-09-21</td>\n",
       "      <td>40 days</td>\n",
       "    </tr>\n",
       "  </tbody>\n",
       "</table>\n",
       "</div>"
      ],
      "text/plain": [
       "    campaign_id campaign_type start_date   end_date campaign_length\n",
       "0            24             Y 2013-10-21 2013-12-20         60 days\n",
       "1            25             Y 2013-10-21 2013-11-22         32 days\n",
       "2            20             Y 2013-09-07 2013-11-16         70 days\n",
       "3            23             Y 2013-10-08 2013-11-15         38 days\n",
       "4            21             Y 2013-09-16 2013-10-18         32 days\n",
       "5            22             X 2013-09-16 2013-10-18         32 days\n",
       "6            18             X 2013-08-10 2013-10-04         55 days\n",
       "7            19             Y 2013-08-26 2013-09-27         32 days\n",
       "8            17             Y 2013-07-29 2013-08-30         32 days\n",
       "9            16             Y 2013-07-15 2013-08-16         32 days\n",
       "10           13             X 2013-05-19 2013-07-05         47 days\n",
       "11           11             Y 2013-04-22 2013-06-07         46 days\n",
       "12           12             Y 2013-04-22 2013-05-24         32 days\n",
       "13           10             Y 2013-04-08 2013-05-10         32 days\n",
       "14            9             Y 2013-03-11 2013-04-12         32 days\n",
       "15            8             X 2013-02-16 2013-04-05         48 days\n",
       "16            7             Y 2013-02-02 2013-03-08         34 days\n",
       "17            6             Y 2013-01-28 2013-03-01         32 days\n",
       "18            3             Y 2012-12-22 2013-02-16         56 days\n",
       "19            5             Y 2013-01-12 2013-02-15         34 days\n",
       "20            4             Y 2013-01-07 2013-02-08         32 days\n",
       "21            1             Y 2012-12-12 2013-01-18         37 days\n",
       "22            2             Y 2012-12-17 2013-01-18         32 days\n",
       "23           30             X 2012-11-19 2013-01-04         46 days\n",
       "24           29             Y 2012-10-08 2012-11-30         53 days\n",
       "25           28             Y 2012-09-16 2012-11-16         61 days\n",
       "26           27             Y 2012-08-25 2012-10-27         63 days\n",
       "27           26             X 2012-08-12 2012-09-21         40 days"
      ]
     },
     "execution_count": 202,
     "metadata": {},
     "output_type": "execute_result"
    }
   ],
   "source": [
    "campaign_data"
   ]
  },
  {
   "cell_type": "code",
   "execution_count": 203,
   "metadata": {},
   "outputs": [],
   "source": [
    "campaign_data.campaign_length = campaign_data.campaign_length.dt.days"
   ]
  },
  {
   "cell_type": "code",
   "execution_count": 204,
   "metadata": {},
   "outputs": [],
   "source": [
    "campaign_data.loc[campaign_data.campaign_length < 0,'start_date'],campaign_data.loc[campaign_data.campaign_length < 0,'end_date'] = campaign_data.loc[campaign_data.campaign_length < 0,'end_date'] ,campaign_data.loc[campaign_data.campaign_length < 0,'start_date']"
   ]
  },
  {
   "cell_type": "code",
   "execution_count": 205,
   "metadata": {},
   "outputs": [],
   "source": [
    "campaign_data.sort_values('campaign_id',inplace=True)\n",
    "campaign_data.reset_index(inplace=True,drop = True)"
   ]
  },
  {
   "cell_type": "code",
   "execution_count": 206,
   "metadata": {},
   "outputs": [],
   "source": [
    "campaign_data.campaign_length = campaign_data.campaign_length.abs()"
   ]
  },
  {
   "cell_type": "code",
   "execution_count": 207,
   "metadata": {},
   "outputs": [
    {
     "data": {
      "text/html": [
       "<div>\n",
       "<style scoped>\n",
       "    .dataframe tbody tr th:only-of-type {\n",
       "        vertical-align: middle;\n",
       "    }\n",
       "\n",
       "    .dataframe tbody tr th {\n",
       "        vertical-align: top;\n",
       "    }\n",
       "\n",
       "    .dataframe thead th {\n",
       "        text-align: right;\n",
       "    }\n",
       "</style>\n",
       "<table border=\"1\" class=\"dataframe\">\n",
       "  <thead>\n",
       "    <tr style=\"text-align: right;\">\n",
       "      <th></th>\n",
       "      <th>campaign_id</th>\n",
       "      <th>campaign_type</th>\n",
       "      <th>start_date</th>\n",
       "      <th>end_date</th>\n",
       "      <th>campaign_length</th>\n",
       "    </tr>\n",
       "  </thead>\n",
       "  <tbody>\n",
       "    <tr>\n",
       "      <th>0</th>\n",
       "      <td>1</td>\n",
       "      <td>Y</td>\n",
       "      <td>2012-12-12</td>\n",
       "      <td>2013-01-18</td>\n",
       "      <td>37</td>\n",
       "    </tr>\n",
       "    <tr>\n",
       "      <th>1</th>\n",
       "      <td>2</td>\n",
       "      <td>Y</td>\n",
       "      <td>2012-12-17</td>\n",
       "      <td>2013-01-18</td>\n",
       "      <td>32</td>\n",
       "    </tr>\n",
       "    <tr>\n",
       "      <th>2</th>\n",
       "      <td>3</td>\n",
       "      <td>Y</td>\n",
       "      <td>2012-12-22</td>\n",
       "      <td>2013-02-16</td>\n",
       "      <td>56</td>\n",
       "    </tr>\n",
       "    <tr>\n",
       "      <th>3</th>\n",
       "      <td>4</td>\n",
       "      <td>Y</td>\n",
       "      <td>2013-01-07</td>\n",
       "      <td>2013-02-08</td>\n",
       "      <td>32</td>\n",
       "    </tr>\n",
       "    <tr>\n",
       "      <th>4</th>\n",
       "      <td>5</td>\n",
       "      <td>Y</td>\n",
       "      <td>2013-01-12</td>\n",
       "      <td>2013-02-15</td>\n",
       "      <td>34</td>\n",
       "    </tr>\n",
       "  </tbody>\n",
       "</table>\n",
       "</div>"
      ],
      "text/plain": [
       "   campaign_id campaign_type start_date   end_date  campaign_length\n",
       "0            1             Y 2012-12-12 2013-01-18               37\n",
       "1            2             Y 2012-12-17 2013-01-18               32\n",
       "2            3             Y 2012-12-22 2013-02-16               56\n",
       "3            4             Y 2013-01-07 2013-02-08               32\n",
       "4            5             Y 2013-01-12 2013-02-15               34"
      ]
     },
     "execution_count": 207,
     "metadata": {},
     "output_type": "execute_result"
    }
   ],
   "source": [
    "campaign_data.head()"
   ]
  },
  {
   "cell_type": "code",
   "execution_count": 208,
   "metadata": {},
   "outputs": [
    {
     "name": "stdout",
     "output_type": "stream",
     "text": [
      "<class 'pandas.core.frame.DataFrame'>\n",
      "RangeIndex: 28 entries, 0 to 27\n",
      "Data columns (total 5 columns):\n",
      "campaign_id        28 non-null int64\n",
      "campaign_type      28 non-null object\n",
      "start_date         28 non-null datetime64[ns]\n",
      "end_date           28 non-null datetime64[ns]\n",
      "campaign_length    28 non-null int64\n",
      "dtypes: datetime64[ns](2), int64(2), object(1)\n",
      "memory usage: 1.2+ KB\n"
     ]
    }
   ],
   "source": [
    "campaign_data.info()"
   ]
  },
  {
   "cell_type": "code",
   "execution_count": 209,
   "metadata": {},
   "outputs": [
    {
     "data": {
      "text/plain": [
       "[<matplotlib.lines.Line2D at 0x1c2e826d0b8>]"
      ]
     },
     "execution_count": 209,
     "metadata": {},
     "output_type": "execute_result"
    },
    {
     "data": {
      "image/png": "[encoded data removed]",
      "text/plain": [
       "<Figure size 432x288 with 1 Axes>"
      ]
     },
     "metadata": {
      "needs_background": "light"
     },
     "output_type": "display_data"
    }
   ],
   "source": [
    "plt.plot(campaign_data.campaign_length)"
   ]
  },
  {
   "cell_type": "code",
   "execution_count": 210,
   "metadata": {},
   "outputs": [
    {
     "data": {
      "text/plain": [
       "{'bodies': [<matplotlib.collections.PolyCollection at 0x1c2e86ab828>],\n",
       " 'cmaxes': <matplotlib.collections.LineCollection at 0x1c2e86abdd8>,\n",
       " 'cmins': <matplotlib.collections.LineCollection at 0x1c2e82d8048>,\n",
       " 'cbars': <matplotlib.collections.LineCollection at 0x1c2e82d8358>}"
      ]
     },
     "execution_count": 210,
     "metadata": {},
     "output_type": "execute_result"
    },
    {
     "data": {
      "image/png": "[encoded data removed]",
      "text/plain": [
       "<Figure size 432x288 with 1 Axes>"
      ]
     },
     "metadata": {
      "needs_background": "light"
     },
     "output_type": "display_data"
    }
   ],
   "source": [
    "# most of the campaigns had less than 120 days length !\n",
    "plt.violinplot(campaign_data.campaign_length)"
   ]
  },
  {
   "cell_type": "markdown",
   "metadata": {},
   "source": [
    "### explore coupon_item_mapping"
   ]
  },
  {
   "cell_type": "code",
   "execution_count": 211,
   "metadata": {},
   "outputs": [
    {
     "data": {
      "text/html": [
       "<div>\n",
       "<style scoped>\n",
       "    .dataframe tbody tr th:only-of-type {\n",
       "        vertical-align: middle;\n",
       "    }\n",
       "\n",
       "    .dataframe tbody tr th {\n",
       "        vertical-align: top;\n",
       "    }\n",
       "\n",
       "    .dataframe thead th {\n",
       "        text-align: right;\n",
       "    }\n",
       "</style>\n",
       "<table border=\"1\" class=\"dataframe\">\n",
       "  <thead>\n",
       "    <tr style=\"text-align: right;\">\n",
       "      <th></th>\n",
       "      <th>coupon_id</th>\n",
       "      <th>item_id</th>\n",
       "    </tr>\n",
       "  </thead>\n",
       "  <tbody>\n",
       "    <tr>\n",
       "      <th>0</th>\n",
       "      <td>105</td>\n",
       "      <td>37</td>\n",
       "    </tr>\n",
       "    <tr>\n",
       "      <th>1</th>\n",
       "      <td>107</td>\n",
       "      <td>75</td>\n",
       "    </tr>\n",
       "    <tr>\n",
       "      <th>2</th>\n",
       "      <td>494</td>\n",
       "      <td>76</td>\n",
       "    </tr>\n",
       "    <tr>\n",
       "      <th>3</th>\n",
       "      <td>522</td>\n",
       "      <td>77</td>\n",
       "    </tr>\n",
       "    <tr>\n",
       "      <th>4</th>\n",
       "      <td>518</td>\n",
       "      <td>77</td>\n",
       "    </tr>\n",
       "  </tbody>\n",
       "</table>\n",
       "</div>"
      ],
      "text/plain": [
       "   coupon_id  item_id\n",
       "0        105       37\n",
       "1        107       75\n",
       "2        494       76\n",
       "3        522       77\n",
       "4        518       77"
      ]
     },
     "execution_count": 211,
     "metadata": {},
     "output_type": "execute_result"
    }
   ],
   "source": [
    "coupon_item_mapping.head()"
   ]
  },
  {
   "cell_type": "code",
   "execution_count": 212,
   "metadata": {},
   "outputs": [
    {
     "name": "stdout",
     "output_type": "stream",
     "text": [
      "<class 'pandas.core.frame.DataFrame'>\n",
      "RangeIndex: 92663 entries, 0 to 92662\n",
      "Data columns (total 2 columns):\n",
      "coupon_id    92663 non-null int64\n",
      "item_id      92663 non-null int64\n",
      "dtypes: int64(2)\n",
      "memory usage: 1.4 MB\n"
     ]
    }
   ],
   "source": [
    "coupon_item_mapping.info()"
   ]
  },
  {
   "cell_type": "code",
   "execution_count": 213,
   "metadata": {},
   "outputs": [
    {
     "data": {
      "text/plain": [
       "(1116,)"
      ]
     },
     "execution_count": 213,
     "metadata": {},
     "output_type": "execute_result"
    }
   ],
   "source": [
    "# number of type of coupons around\n",
    "coupon_item_mapping.coupon_id.unique().shape"
   ]
  },
  {
   "cell_type": "code",
   "execution_count": 214,
   "metadata": {},
   "outputs": [],
   "source": [
    "coupon_item_mapping = pd.merge(coupon_item_mapping,coupon_item_mapping.groupby('coupon_id').count().reset_index().rename(columns = {'item_id':'no_of_items'}),on='coupon_id',how='inner')"
   ]
  },
  {
   "cell_type": "code",
   "execution_count": 215,
   "metadata": {},
   "outputs": [
    {
     "data": {
      "text/html": [
       "<div>\n",
       "<style scoped>\n",
       "    .dataframe tbody tr th:only-of-type {\n",
       "        vertical-align: middle;\n",
       "    }\n",
       "\n",
       "    .dataframe tbody tr th {\n",
       "        vertical-align: top;\n",
       "    }\n",
       "\n",
       "    .dataframe thead th {\n",
       "        text-align: right;\n",
       "    }\n",
       "</style>\n",
       "<table border=\"1\" class=\"dataframe\">\n",
       "  <thead>\n",
       "    <tr style=\"text-align: right;\">\n",
       "      <th></th>\n",
       "      <th>coupon_id</th>\n",
       "      <th>item_id</th>\n",
       "      <th>no_of_items</th>\n",
       "    </tr>\n",
       "  </thead>\n",
       "  <tbody>\n",
       "    <tr>\n",
       "      <th>0</th>\n",
       "      <td>105</td>\n",
       "      <td>37</td>\n",
       "      <td>17</td>\n",
       "    </tr>\n",
       "    <tr>\n",
       "      <th>1</th>\n",
       "      <td>105</td>\n",
       "      <td>2360</td>\n",
       "      <td>17</td>\n",
       "    </tr>\n",
       "    <tr>\n",
       "      <th>2</th>\n",
       "      <td>105</td>\n",
       "      <td>9944</td>\n",
       "      <td>17</td>\n",
       "    </tr>\n",
       "    <tr>\n",
       "      <th>3</th>\n",
       "      <td>105</td>\n",
       "      <td>13208</td>\n",
       "      <td>17</td>\n",
       "    </tr>\n",
       "    <tr>\n",
       "      <th>4</th>\n",
       "      <td>105</td>\n",
       "      <td>17451</td>\n",
       "      <td>17</td>\n",
       "    </tr>\n",
       "  </tbody>\n",
       "</table>\n",
       "</div>"
      ],
      "text/plain": [
       "   coupon_id  item_id  no_of_items\n",
       "0        105       37           17\n",
       "1        105     2360           17\n",
       "2        105     9944           17\n",
       "3        105    13208           17\n",
       "4        105    17451           17"
      ]
     },
     "execution_count": 215,
     "metadata": {},
     "output_type": "execute_result"
    }
   ],
   "source": [
    "coupon_item_mapping.head()"
   ]
  },
  {
   "cell_type": "markdown",
   "metadata": {},
   "source": [
    " ### explore customer_demographics"
   ]
  },
  {
   "cell_type": "code",
   "execution_count": 216,
   "metadata": {},
   "outputs": [
    {
     "data": {
      "text/html": [
       "<div>\n",
       "<style scoped>\n",
       "    .dataframe tbody tr th:only-of-type {\n",
       "        vertical-align: middle;\n",
       "    }\n",
       "\n",
       "    .dataframe tbody tr th {\n",
       "        vertical-align: top;\n",
       "    }\n",
       "\n",
       "    .dataframe thead th {\n",
       "        text-align: right;\n",
       "    }\n",
       "</style>\n",
       "<table border=\"1\" class=\"dataframe\">\n",
       "  <thead>\n",
       "    <tr style=\"text-align: right;\">\n",
       "      <th></th>\n",
       "      <th>customer_id</th>\n",
       "      <th>age_range</th>\n",
       "      <th>marital_status</th>\n",
       "      <th>rented</th>\n",
       "      <th>family_size</th>\n",
       "      <th>no_of_children</th>\n",
       "      <th>income_bracket</th>\n",
       "    </tr>\n",
       "  </thead>\n",
       "  <tbody>\n",
       "    <tr>\n",
       "      <th>0</th>\n",
       "      <td>1</td>\n",
       "      <td>70+</td>\n",
       "      <td>Married</td>\n",
       "      <td>0</td>\n",
       "      <td>2</td>\n",
       "      <td>NaN</td>\n",
       "      <td>4</td>\n",
       "    </tr>\n",
       "    <tr>\n",
       "      <th>1</th>\n",
       "      <td>6</td>\n",
       "      <td>46-55</td>\n",
       "      <td>Married</td>\n",
       "      <td>0</td>\n",
       "      <td>2</td>\n",
       "      <td>NaN</td>\n",
       "      <td>5</td>\n",
       "    </tr>\n",
       "    <tr>\n",
       "      <th>2</th>\n",
       "      <td>7</td>\n",
       "      <td>26-35</td>\n",
       "      <td>NaN</td>\n",
       "      <td>0</td>\n",
       "      <td>3</td>\n",
       "      <td>1</td>\n",
       "      <td>3</td>\n",
       "    </tr>\n",
       "    <tr>\n",
       "      <th>3</th>\n",
       "      <td>8</td>\n",
       "      <td>26-35</td>\n",
       "      <td>NaN</td>\n",
       "      <td>0</td>\n",
       "      <td>4</td>\n",
       "      <td>2</td>\n",
       "      <td>6</td>\n",
       "    </tr>\n",
       "    <tr>\n",
       "      <th>4</th>\n",
       "      <td>10</td>\n",
       "      <td>46-55</td>\n",
       "      <td>Single</td>\n",
       "      <td>0</td>\n",
       "      <td>1</td>\n",
       "      <td>NaN</td>\n",
       "      <td>5</td>\n",
       "    </tr>\n",
       "    <tr>\n",
       "      <th>5</th>\n",
       "      <td>11</td>\n",
       "      <td>70+</td>\n",
       "      <td>Single</td>\n",
       "      <td>0</td>\n",
       "      <td>2</td>\n",
       "      <td>NaN</td>\n",
       "      <td>1</td>\n",
       "    </tr>\n",
       "    <tr>\n",
       "      <th>6</th>\n",
       "      <td>12</td>\n",
       "      <td>46-55</td>\n",
       "      <td>Married</td>\n",
       "      <td>0</td>\n",
       "      <td>2</td>\n",
       "      <td>NaN</td>\n",
       "      <td>7</td>\n",
       "    </tr>\n",
       "    <tr>\n",
       "      <th>7</th>\n",
       "      <td>13</td>\n",
       "      <td>36-45</td>\n",
       "      <td>Single</td>\n",
       "      <td>0</td>\n",
       "      <td>1</td>\n",
       "      <td>NaN</td>\n",
       "      <td>2</td>\n",
       "    </tr>\n",
       "    <tr>\n",
       "      <th>8</th>\n",
       "      <td>14</td>\n",
       "      <td>26-35</td>\n",
       "      <td>Married</td>\n",
       "      <td>1</td>\n",
       "      <td>2</td>\n",
       "      <td>NaN</td>\n",
       "      <td>6</td>\n",
       "    </tr>\n",
       "    <tr>\n",
       "      <th>9</th>\n",
       "      <td>15</td>\n",
       "      <td>46-55</td>\n",
       "      <td>Married</td>\n",
       "      <td>0</td>\n",
       "      <td>2</td>\n",
       "      <td>NaN</td>\n",
       "      <td>6</td>\n",
       "    </tr>\n",
       "  </tbody>\n",
       "</table>\n",
       "</div>"
      ],
      "text/plain": [
       "   customer_id age_range marital_status  rented family_size no_of_children  \\\n",
       "0            1       70+        Married       0           2            NaN   \n",
       "1            6     46-55        Married       0           2            NaN   \n",
       "2            7     26-35            NaN       0           3              1   \n",
       "3            8     26-35            NaN       0           4              2   \n",
       "4           10     46-55         Single       0           1            NaN   \n",
       "5           11       70+         Single       0           2            NaN   \n",
       "6           12     46-55        Married       0           2            NaN   \n",
       "7           13     36-45         Single       0           1            NaN   \n",
       "8           14     26-35        Married       1           2            NaN   \n",
       "9           15     46-55        Married       0           2            NaN   \n",
       "\n",
       "   income_bracket  \n",
       "0               4  \n",
       "1               5  \n",
       "2               3  \n",
       "3               6  \n",
       "4               5  \n",
       "5               1  \n",
       "6               7  \n",
       "7               2  \n",
       "8               6  \n",
       "9               6  "
      ]
     },
     "execution_count": 216,
     "metadata": {},
     "output_type": "execute_result"
    }
   ],
   "source": [
    "customer_demographics.head(10)"
   ]
  },
  {
   "cell_type": "code",
   "execution_count": 217,
   "metadata": {},
   "outputs": [
    {
     "name": "stdout",
     "output_type": "stream",
     "text": [
      "<class 'pandas.core.frame.DataFrame'>\n",
      "RangeIndex: 760 entries, 0 to 759\n",
      "Data columns (total 7 columns):\n",
      "customer_id       760 non-null int64\n",
      "age_range         760 non-null object\n",
      "marital_status    431 non-null object\n",
      "rented            760 non-null int64\n",
      "family_size       760 non-null object\n",
      "no_of_children    222 non-null object\n",
      "income_bracket    760 non-null int64\n",
      "dtypes: int64(3), object(4)\n",
      "memory usage: 41.6+ KB\n"
     ]
    }
   ],
   "source": [
    "customer_demographics.info()"
   ]
  },
  {
   "cell_type": "code",
   "execution_count": 218,
   "metadata": {},
   "outputs": [
    {
     "data": {
      "text/html": [
       "<div>\n",
       "<style scoped>\n",
       "    .dataframe tbody tr th:only-of-type {\n",
       "        vertical-align: middle;\n",
       "    }\n",
       "\n",
       "    .dataframe tbody tr th {\n",
       "        vertical-align: top;\n",
       "    }\n",
       "\n",
       "    .dataframe thead th {\n",
       "        text-align: right;\n",
       "    }\n",
       "</style>\n",
       "<table border=\"1\" class=\"dataframe\">\n",
       "  <thead>\n",
       "    <tr style=\"text-align: right;\">\n",
       "      <th></th>\n",
       "      <th>id</th>\n",
       "      <th>campaign_id</th>\n",
       "      <th>coupon_id</th>\n",
       "      <th>customer_id</th>\n",
       "      <th>redemption_status</th>\n",
       "    </tr>\n",
       "  </thead>\n",
       "  <tbody>\n",
       "    <tr>\n",
       "      <th>3</th>\n",
       "      <td>7</td>\n",
       "      <td>13</td>\n",
       "      <td>644</td>\n",
       "      <td>1050</td>\n",
       "      <td>0</td>\n",
       "    </tr>\n",
       "    <tr>\n",
       "      <th>8</th>\n",
       "      <td>17</td>\n",
       "      <td>30</td>\n",
       "      <td>857</td>\n",
       "      <td>523</td>\n",
       "      <td>0</td>\n",
       "    </tr>\n",
       "    <tr>\n",
       "      <th>14</th>\n",
       "      <td>24</td>\n",
       "      <td>5</td>\n",
       "      <td>893</td>\n",
       "      <td>761</td>\n",
       "      <td>0</td>\n",
       "    </tr>\n",
       "    <tr>\n",
       "      <th>21</th>\n",
       "      <td>32</td>\n",
       "      <td>30</td>\n",
       "      <td>320</td>\n",
       "      <td>1255</td>\n",
       "      <td>0</td>\n",
       "    </tr>\n",
       "    <tr>\n",
       "      <th>25</th>\n",
       "      <td>39</td>\n",
       "      <td>26</td>\n",
       "      <td>326</td>\n",
       "      <td>63</td>\n",
       "      <td>0</td>\n",
       "    </tr>\n",
       "    <tr>\n",
       "      <th>26</th>\n",
       "      <td>42</td>\n",
       "      <td>30</td>\n",
       "      <td>363</td>\n",
       "      <td>88</td>\n",
       "      <td>0</td>\n",
       "    </tr>\n",
       "    <tr>\n",
       "      <th>28</th>\n",
       "      <td>45</td>\n",
       "      <td>8</td>\n",
       "      <td>383</td>\n",
       "      <td>1095</td>\n",
       "      <td>0</td>\n",
       "    </tr>\n",
       "    <tr>\n",
       "      <th>29</th>\n",
       "      <td>46</td>\n",
       "      <td>13</td>\n",
       "      <td>482</td>\n",
       "      <td>1096</td>\n",
       "      <td>0</td>\n",
       "    </tr>\n",
       "    <tr>\n",
       "      <th>30</th>\n",
       "      <td>48</td>\n",
       "      <td>26</td>\n",
       "      <td>813</td>\n",
       "      <td>919</td>\n",
       "      <td>0</td>\n",
       "    </tr>\n",
       "    <tr>\n",
       "      <th>34</th>\n",
       "      <td>55</td>\n",
       "      <td>30</td>\n",
       "      <td>500</td>\n",
       "      <td>91</td>\n",
       "      <td>0</td>\n",
       "    </tr>\n",
       "    <tr>\n",
       "      <th>35</th>\n",
       "      <td>56</td>\n",
       "      <td>8</td>\n",
       "      <td>757</td>\n",
       "      <td>1447</td>\n",
       "      <td>0</td>\n",
       "    </tr>\n",
       "    <tr>\n",
       "      <th>37</th>\n",
       "      <td>61</td>\n",
       "      <td>8</td>\n",
       "      <td>87</td>\n",
       "      <td>661</td>\n",
       "      <td>0</td>\n",
       "    </tr>\n",
       "    <tr>\n",
       "      <th>40</th>\n",
       "      <td>65</td>\n",
       "      <td>13</td>\n",
       "      <td>152</td>\n",
       "      <td>680</td>\n",
       "      <td>0</td>\n",
       "    </tr>\n",
       "    <tr>\n",
       "      <th>42</th>\n",
       "      <td>69</td>\n",
       "      <td>8</td>\n",
       "      <td>383</td>\n",
       "      <td>883</td>\n",
       "      <td>0</td>\n",
       "    </tr>\n",
       "    <tr>\n",
       "      <th>43</th>\n",
       "      <td>71</td>\n",
       "      <td>8</td>\n",
       "      <td>271</td>\n",
       "      <td>1366</td>\n",
       "      <td>0</td>\n",
       "    </tr>\n",
       "    <tr>\n",
       "      <th>45</th>\n",
       "      <td>74</td>\n",
       "      <td>26</td>\n",
       "      <td>582</td>\n",
       "      <td>578</td>\n",
       "      <td>0</td>\n",
       "    </tr>\n",
       "    <tr>\n",
       "      <th>46</th>\n",
       "      <td>75</td>\n",
       "      <td>30</td>\n",
       "      <td>333</td>\n",
       "      <td>895</td>\n",
       "      <td>0</td>\n",
       "    </tr>\n",
       "    <tr>\n",
       "      <th>49</th>\n",
       "      <td>80</td>\n",
       "      <td>11</td>\n",
       "      <td>980</td>\n",
       "      <td>1351</td>\n",
       "      <td>0</td>\n",
       "    </tr>\n",
       "    <tr>\n",
       "      <th>50</th>\n",
       "      <td>82</td>\n",
       "      <td>29</td>\n",
       "      <td>538</td>\n",
       "      <td>1162</td>\n",
       "      <td>0</td>\n",
       "    </tr>\n",
       "    <tr>\n",
       "      <th>53</th>\n",
       "      <td>85</td>\n",
       "      <td>13</td>\n",
       "      <td>136</td>\n",
       "      <td>200</td>\n",
       "      <td>0</td>\n",
       "    </tr>\n",
       "    <tr>\n",
       "      <th>56</th>\n",
       "      <td>90</td>\n",
       "      <td>8</td>\n",
       "      <td>761</td>\n",
       "      <td>341</td>\n",
       "      <td>0</td>\n",
       "    </tr>\n",
       "    <tr>\n",
       "      <th>58</th>\n",
       "      <td>92</td>\n",
       "      <td>3</td>\n",
       "      <td>828</td>\n",
       "      <td>998</td>\n",
       "      <td>0</td>\n",
       "    </tr>\n",
       "    <tr>\n",
       "      <th>59</th>\n",
       "      <td>93</td>\n",
       "      <td>13</td>\n",
       "      <td>881</td>\n",
       "      <td>1418</td>\n",
       "      <td>0</td>\n",
       "    </tr>\n",
       "    <tr>\n",
       "      <th>61</th>\n",
       "      <td>97</td>\n",
       "      <td>26</td>\n",
       "      <td>867</td>\n",
       "      <td>321</td>\n",
       "      <td>0</td>\n",
       "    </tr>\n",
       "    <tr>\n",
       "      <th>62</th>\n",
       "      <td>99</td>\n",
       "      <td>8</td>\n",
       "      <td>709</td>\n",
       "      <td>372</td>\n",
       "      <td>0</td>\n",
       "    </tr>\n",
       "    <tr>\n",
       "      <th>64</th>\n",
       "      <td>102</td>\n",
       "      <td>8</td>\n",
       "      <td>8</td>\n",
       "      <td>659</td>\n",
       "      <td>0</td>\n",
       "    </tr>\n",
       "    <tr>\n",
       "      <th>65</th>\n",
       "      <td>103</td>\n",
       "      <td>30</td>\n",
       "      <td>1083</td>\n",
       "      <td>340</td>\n",
       "      <td>0</td>\n",
       "    </tr>\n",
       "    <tr>\n",
       "      <th>67</th>\n",
       "      <td>106</td>\n",
       "      <td>3</td>\n",
       "      <td>822</td>\n",
       "      <td>998</td>\n",
       "      <td>0</td>\n",
       "    </tr>\n",
       "    <tr>\n",
       "      <th>69</th>\n",
       "      <td>110</td>\n",
       "      <td>8</td>\n",
       "      <td>700</td>\n",
       "      <td>1044</td>\n",
       "      <td>0</td>\n",
       "    </tr>\n",
       "    <tr>\n",
       "      <th>70</th>\n",
       "      <td>113</td>\n",
       "      <td>26</td>\n",
       "      <td>917</td>\n",
       "      <td>435</td>\n",
       "      <td>0</td>\n",
       "    </tr>\n",
       "    <tr>\n",
       "      <th>...</th>\n",
       "      <td>...</td>\n",
       "      <td>...</td>\n",
       "      <td>...</td>\n",
       "      <td>...</td>\n",
       "      <td>...</td>\n",
       "    </tr>\n",
       "    <tr>\n",
       "      <th>78293</th>\n",
       "      <td>128468</td>\n",
       "      <td>13</td>\n",
       "      <td>771</td>\n",
       "      <td>714</td>\n",
       "      <td>0</td>\n",
       "    </tr>\n",
       "    <tr>\n",
       "      <th>78294</th>\n",
       "      <td>128469</td>\n",
       "      <td>8</td>\n",
       "      <td>810</td>\n",
       "      <td>1277</td>\n",
       "      <td>0</td>\n",
       "    </tr>\n",
       "    <tr>\n",
       "      <th>78303</th>\n",
       "      <td>128488</td>\n",
       "      <td>13</td>\n",
       "      <td>164</td>\n",
       "      <td>1559</td>\n",
       "      <td>0</td>\n",
       "    </tr>\n",
       "    <tr>\n",
       "      <th>78308</th>\n",
       "      <td>128498</td>\n",
       "      <td>30</td>\n",
       "      <td>945</td>\n",
       "      <td>846</td>\n",
       "      <td>0</td>\n",
       "    </tr>\n",
       "    <tr>\n",
       "      <th>78314</th>\n",
       "      <td>128509</td>\n",
       "      <td>12</td>\n",
       "      <td>526</td>\n",
       "      <td>394</td>\n",
       "      <td>0</td>\n",
       "    </tr>\n",
       "    <tr>\n",
       "      <th>78316</th>\n",
       "      <td>128511</td>\n",
       "      <td>11</td>\n",
       "      <td>913</td>\n",
       "      <td>208</td>\n",
       "      <td>0</td>\n",
       "    </tr>\n",
       "    <tr>\n",
       "      <th>78317</th>\n",
       "      <td>128512</td>\n",
       "      <td>13</td>\n",
       "      <td>844</td>\n",
       "      <td>1282</td>\n",
       "      <td>0</td>\n",
       "    </tr>\n",
       "    <tr>\n",
       "      <th>78319</th>\n",
       "      <td>128515</td>\n",
       "      <td>5</td>\n",
       "      <td>955</td>\n",
       "      <td>616</td>\n",
       "      <td>0</td>\n",
       "    </tr>\n",
       "    <tr>\n",
       "      <th>78320</th>\n",
       "      <td>128518</td>\n",
       "      <td>10</td>\n",
       "      <td>824</td>\n",
       "      <td>1419</td>\n",
       "      <td>0</td>\n",
       "    </tr>\n",
       "    <tr>\n",
       "      <th>78321</th>\n",
       "      <td>128520</td>\n",
       "      <td>13</td>\n",
       "      <td>143</td>\n",
       "      <td>733</td>\n",
       "      <td>0</td>\n",
       "    </tr>\n",
       "    <tr>\n",
       "      <th>78322</th>\n",
       "      <td>128521</td>\n",
       "      <td>13</td>\n",
       "      <td>164</td>\n",
       "      <td>1042</td>\n",
       "      <td>0</td>\n",
       "    </tr>\n",
       "    <tr>\n",
       "      <th>78324</th>\n",
       "      <td>128525</td>\n",
       "      <td>13</td>\n",
       "      <td>26</td>\n",
       "      <td>1030</td>\n",
       "      <td>0</td>\n",
       "    </tr>\n",
       "    <tr>\n",
       "      <th>78329</th>\n",
       "      <td>128538</td>\n",
       "      <td>5</td>\n",
       "      <td>431</td>\n",
       "      <td>301</td>\n",
       "      <td>0</td>\n",
       "    </tr>\n",
       "    <tr>\n",
       "      <th>78330</th>\n",
       "      <td>128539</td>\n",
       "      <td>8</td>\n",
       "      <td>256</td>\n",
       "      <td>729</td>\n",
       "      <td>0</td>\n",
       "    </tr>\n",
       "    <tr>\n",
       "      <th>78332</th>\n",
       "      <td>128542</td>\n",
       "      <td>10</td>\n",
       "      <td>1043</td>\n",
       "      <td>302</td>\n",
       "      <td>0</td>\n",
       "    </tr>\n",
       "    <tr>\n",
       "      <th>78333</th>\n",
       "      <td>128543</td>\n",
       "      <td>8</td>\n",
       "      <td>610</td>\n",
       "      <td>640</td>\n",
       "      <td>0</td>\n",
       "    </tr>\n",
       "    <tr>\n",
       "      <th>78336</th>\n",
       "      <td>128546</td>\n",
       "      <td>30</td>\n",
       "      <td>1101</td>\n",
       "      <td>1017</td>\n",
       "      <td>0</td>\n",
       "    </tr>\n",
       "    <tr>\n",
       "      <th>78338</th>\n",
       "      <td>128548</td>\n",
       "      <td>13</td>\n",
       "      <td>129</td>\n",
       "      <td>309</td>\n",
       "      <td>0</td>\n",
       "    </tr>\n",
       "    <tr>\n",
       "      <th>78339</th>\n",
       "      <td>128549</td>\n",
       "      <td>13</td>\n",
       "      <td>578</td>\n",
       "      <td>772</td>\n",
       "      <td>0</td>\n",
       "    </tr>\n",
       "    <tr>\n",
       "      <th>78340</th>\n",
       "      <td>128550</td>\n",
       "      <td>26</td>\n",
       "      <td>947</td>\n",
       "      <td>758</td>\n",
       "      <td>0</td>\n",
       "    </tr>\n",
       "    <tr>\n",
       "      <th>78341</th>\n",
       "      <td>128551</td>\n",
       "      <td>13</td>\n",
       "      <td>865</td>\n",
       "      <td>1365</td>\n",
       "      <td>0</td>\n",
       "    </tr>\n",
       "    <tr>\n",
       "      <th>78346</th>\n",
       "      <td>128559</td>\n",
       "      <td>2</td>\n",
       "      <td>347</td>\n",
       "      <td>1086</td>\n",
       "      <td>0</td>\n",
       "    </tr>\n",
       "    <tr>\n",
       "      <th>78349</th>\n",
       "      <td>128563</td>\n",
       "      <td>13</td>\n",
       "      <td>142</td>\n",
       "      <td>1331</td>\n",
       "      <td>0</td>\n",
       "    </tr>\n",
       "    <tr>\n",
       "      <th>78350</th>\n",
       "      <td>128565</td>\n",
       "      <td>30</td>\n",
       "      <td>857</td>\n",
       "      <td>979</td>\n",
       "      <td>0</td>\n",
       "    </tr>\n",
       "    <tr>\n",
       "      <th>78356</th>\n",
       "      <td>128576</td>\n",
       "      <td>12</td>\n",
       "      <td>705</td>\n",
       "      <td>621</td>\n",
       "      <td>0</td>\n",
       "    </tr>\n",
       "    <tr>\n",
       "      <th>78357</th>\n",
       "      <td>128577</td>\n",
       "      <td>26</td>\n",
       "      <td>368</td>\n",
       "      <td>1508</td>\n",
       "      <td>0</td>\n",
       "    </tr>\n",
       "    <tr>\n",
       "      <th>78361</th>\n",
       "      <td>128582</td>\n",
       "      <td>29</td>\n",
       "      <td>443</td>\n",
       "      <td>992</td>\n",
       "      <td>0</td>\n",
       "    </tr>\n",
       "    <tr>\n",
       "      <th>78362</th>\n",
       "      <td>128585</td>\n",
       "      <td>10</td>\n",
       "      <td>662</td>\n",
       "      <td>1563</td>\n",
       "      <td>0</td>\n",
       "    </tr>\n",
       "    <tr>\n",
       "      <th>78366</th>\n",
       "      <td>128590</td>\n",
       "      <td>8</td>\n",
       "      <td>754</td>\n",
       "      <td>1004</td>\n",
       "      <td>0</td>\n",
       "    </tr>\n",
       "    <tr>\n",
       "      <th>78368</th>\n",
       "      <td>128595</td>\n",
       "      <td>13</td>\n",
       "      <td>681</td>\n",
       "      <td>623</td>\n",
       "      <td>0</td>\n",
       "    </tr>\n",
       "  </tbody>\n",
       "</table>\n",
       "<p>34708 rows × 5 columns</p>\n",
       "</div>"
      ],
      "text/plain": [
       "           id  campaign_id  coupon_id  customer_id  redemption_status\n",
       "3           7           13        644         1050                  0\n",
       "8          17           30        857          523                  0\n",
       "14         24            5        893          761                  0\n",
       "21         32           30        320         1255                  0\n",
       "25         39           26        326           63                  0\n",
       "26         42           30        363           88                  0\n",
       "28         45            8        383         1095                  0\n",
       "29         46           13        482         1096                  0\n",
       "30         48           26        813          919                  0\n",
       "34         55           30        500           91                  0\n",
       "35         56            8        757         1447                  0\n",
       "37         61            8         87          661                  0\n",
       "40         65           13        152          680                  0\n",
       "42         69            8        383          883                  0\n",
       "43         71            8        271         1366                  0\n",
       "45         74           26        582          578                  0\n",
       "46         75           30        333          895                  0\n",
       "49         80           11        980         1351                  0\n",
       "50         82           29        538         1162                  0\n",
       "53         85           13        136          200                  0\n",
       "56         90            8        761          341                  0\n",
       "58         92            3        828          998                  0\n",
       "59         93           13        881         1418                  0\n",
       "61         97           26        867          321                  0\n",
       "62         99            8        709          372                  0\n",
       "64        102            8          8          659                  0\n",
       "65        103           30       1083          340                  0\n",
       "67        106            3        822          998                  0\n",
       "69        110            8        700         1044                  0\n",
       "70        113           26        917          435                  0\n",
       "...       ...          ...        ...          ...                ...\n",
       "78293  128468           13        771          714                  0\n",
       "78294  128469            8        810         1277                  0\n",
       "78303  128488           13        164         1559                  0\n",
       "78308  128498           30        945          846                  0\n",
       "78314  128509           12        526          394                  0\n",
       "78316  128511           11        913          208                  0\n",
       "78317  128512           13        844         1282                  0\n",
       "78319  128515            5        955          616                  0\n",
       "78320  128518           10        824         1419                  0\n",
       "78321  128520           13        143          733                  0\n",
       "78322  128521           13        164         1042                  0\n",
       "78324  128525           13         26         1030                  0\n",
       "78329  128538            5        431          301                  0\n",
       "78330  128539            8        256          729                  0\n",
       "78332  128542           10       1043          302                  0\n",
       "78333  128543            8        610          640                  0\n",
       "78336  128546           30       1101         1017                  0\n",
       "78338  128548           13        129          309                  0\n",
       "78339  128549           13        578          772                  0\n",
       "78340  128550           26        947          758                  0\n",
       "78341  128551           13        865         1365                  0\n",
       "78346  128559            2        347         1086                  0\n",
       "78349  128563           13        142         1331                  0\n",
       "78350  128565           30        857          979                  0\n",
       "78356  128576           12        705          621                  0\n",
       "78357  128577           26        368         1508                  0\n",
       "78361  128582           29        443          992                  0\n",
       "78362  128585           10        662         1563                  0\n",
       "78366  128590            8        754         1004                  0\n",
       "78368  128595           13        681          623                  0\n",
       "\n",
       "[34708 rows x 5 columns]"
      ]
     },
     "execution_count": 218,
     "metadata": {},
     "output_type": "execute_result"
    }
   ],
   "source": [
    "train[~train.customer_id.isin(customer_demographics.customer_id)]"
   ]
  },
  {
   "cell_type": "code",
   "execution_count": 219,
   "metadata": {},
   "outputs": [],
   "source": [
    "customer_demographics.fillna(0,inplace=True)"
   ]
  },
  {
   "cell_type": "code",
   "execution_count": 220,
   "metadata": {},
   "outputs": [
    {
     "data": {
      "text/plain": [
       "(760,)"
      ]
     },
     "execution_count": 220,
     "metadata": {},
     "output_type": "execute_result"
    }
   ],
   "source": [
    "# number of customers\n",
    "customer_demographics.customer_id.unique().shape"
   ]
  },
  {
   "cell_type": "code",
   "execution_count": 221,
   "metadata": {},
   "outputs": [
    {
     "data": {
      "text/plain": [
       "array(['70+', '46-55', '26-35', '36-45', '18-25', '56-70'], dtype=object)"
      ]
     },
     "execution_count": 221,
     "metadata": {},
     "output_type": "execute_result"
    }
   ],
   "source": [
    "# customer age ranges\n",
    "customer_demographics.age_range.unique()"
   ]
  },
  {
   "cell_type": "code",
   "execution_count": 222,
   "metadata": {},
   "outputs": [],
   "source": [
    "customer_demographics.age_range.replace('18-25',0,inplace = True)\n",
    "customer_demographics.age_range.replace('26-35',1,inplace = True)\n",
    "customer_demographics.age_range.replace('36-45',2,inplace = True)\n",
    "customer_demographics.age_range.replace('46-55',3,inplace = True)\n",
    "customer_demographics.age_range.replace('56-70',4,inplace = True)\n",
    "customer_demographics.age_range.replace('70+',5,inplace = True)"
   ]
  },
  {
   "cell_type": "code",
   "execution_count": 223,
   "metadata": {},
   "outputs": [
    {
     "data": {
      "text/plain": [
       "[<matplotlib.lines.Line2D at 0x1c2e82a1e48>]"
      ]
     },
     "execution_count": 223,
     "metadata": {},
     "output_type": "execute_result"
    },
    {
     "data": {
      "image/png": "[encoded data removed]",
      "text/plain": [
       "<Figure size 432x288 with 1 Axes>"
      ]
     },
     "metadata": {
      "needs_background": "light"
     },
     "output_type": "display_data"
    }
   ],
   "source": [
    "plt.plot(customer_demographics.age_range.value_counts())"
   ]
  },
  {
   "cell_type": "code",
   "execution_count": 224,
   "metadata": {},
   "outputs": [
    {
     "data": {
      "text/plain": [
       "0          329\n",
       "Married    317\n",
       "Single     114\n",
       "Name: marital_status, dtype: int64"
      ]
     },
     "execution_count": 224,
     "metadata": {},
     "output_type": "execute_result"
    }
   ],
   "source": [
    "customer_demographics.marital_status.value_counts()"
   ]
  },
  {
   "cell_type": "code",
   "execution_count": 225,
   "metadata": {},
   "outputs": [],
   "source": [
    "customer_demographics['marital_status'] = customer_demographics.marital_status.map(lambda x : 1 if x == 'Married' else 2 if x =='Single' else 3)"
   ]
  },
  {
   "cell_type": "code",
   "execution_count": 226,
   "metadata": {},
   "outputs": [
    {
     "data": {
      "text/plain": [
       "0    719\n",
       "1     41\n",
       "Name: rented, dtype: int64"
      ]
     },
     "execution_count": 226,
     "metadata": {},
     "output_type": "execute_result"
    }
   ],
   "source": [
    "customer_demographics.rented.value_counts()"
   ]
  },
  {
   "cell_type": "code",
   "execution_count": 227,
   "metadata": {},
   "outputs": [],
   "source": [
    "customer_demographics.family_size.replace('5+','5',inplace=True)"
   ]
  },
  {
   "cell_type": "code",
   "execution_count": 228,
   "metadata": {},
   "outputs": [
    {
     "data": {
      "text/plain": [
       "2    303\n",
       "1    248\n",
       "3    104\n",
       "5     57\n",
       "4     48\n",
       "Name: family_size, dtype: int64"
      ]
     },
     "execution_count": 228,
     "metadata": {},
     "output_type": "execute_result"
    }
   ],
   "source": [
    "customer_demographics.family_size.value_counts()"
   ]
  },
  {
   "cell_type": "code",
   "execution_count": 229,
   "metadata": {},
   "outputs": [
    {
     "data": {
      "text/plain": [
       "0     538\n",
       "1     107\n",
       "3+     60\n",
       "2      55\n",
       "Name: no_of_children, dtype: int64"
      ]
     },
     "execution_count": 229,
     "metadata": {},
     "output_type": "execute_result"
    }
   ],
   "source": [
    "customer_demographics.no_of_children.value_counts()"
   ]
  },
  {
   "cell_type": "code",
   "execution_count": 230,
   "metadata": {},
   "outputs": [],
   "source": [
    "customer_demographics.no_of_children.replace('3+',3,inplace = True)"
   ]
  },
  {
   "cell_type": "code",
   "execution_count": 231,
   "metadata": {},
   "outputs": [
    {
     "data": {
      "text/plain": [
       "5     187\n",
       "4     165\n",
       "6      88\n",
       "3      70\n",
       "2      68\n",
       "1      59\n",
       "8      37\n",
       "7      32\n",
       "9      29\n",
       "12     10\n",
       "10     10\n",
       "11      5\n",
       "Name: income_bracket, dtype: int64"
      ]
     },
     "execution_count": 231,
     "metadata": {},
     "output_type": "execute_result"
    }
   ],
   "source": [
    "customer_demographics.income_bracket.value_counts()"
   ]
  },
  {
   "cell_type": "code",
   "execution_count": 232,
   "metadata": {},
   "outputs": [],
   "source": [
    "customer_demographics.family_size = customer_demographics.family_size.astype(int)\n",
    "customer_demographics.no_of_children = customer_demographics.no_of_children.astype(int)"
   ]
  },
  {
   "cell_type": "code",
   "execution_count": null,
   "metadata": {},
   "outputs": [],
   "source": []
  },
  {
   "cell_type": "markdown",
   "metadata": {},
   "source": [
    "### explore customer_transaction_data"
   ]
  },
  {
   "cell_type": "code",
   "execution_count": 233,
   "metadata": {},
   "outputs": [
    {
     "data": {
      "text/html": [
       "<div>\n",
       "<style scoped>\n",
       "    .dataframe tbody tr th:only-of-type {\n",
       "        vertical-align: middle;\n",
       "    }\n",
       "\n",
       "    .dataframe tbody tr th {\n",
       "        vertical-align: top;\n",
       "    }\n",
       "\n",
       "    .dataframe thead th {\n",
       "        text-align: right;\n",
       "    }\n",
       "</style>\n",
       "<table border=\"1\" class=\"dataframe\">\n",
       "  <thead>\n",
       "    <tr style=\"text-align: right;\">\n",
       "      <th></th>\n",
       "      <th>date</th>\n",
       "      <th>customer_id</th>\n",
       "      <th>item_id</th>\n",
       "      <th>quantity</th>\n",
       "      <th>selling_price</th>\n",
       "      <th>other_discount</th>\n",
       "      <th>coupon_discount</th>\n",
       "    </tr>\n",
       "  </thead>\n",
       "  <tbody>\n",
       "    <tr>\n",
       "      <th>0</th>\n",
       "      <td>2012-01-02</td>\n",
       "      <td>1501</td>\n",
       "      <td>26830</td>\n",
       "      <td>1</td>\n",
       "      <td>35.26</td>\n",
       "      <td>-10.69</td>\n",
       "      <td>0.0</td>\n",
       "    </tr>\n",
       "    <tr>\n",
       "      <th>1</th>\n",
       "      <td>2012-01-02</td>\n",
       "      <td>1501</td>\n",
       "      <td>54253</td>\n",
       "      <td>1</td>\n",
       "      <td>53.43</td>\n",
       "      <td>-13.89</td>\n",
       "      <td>0.0</td>\n",
       "    </tr>\n",
       "    <tr>\n",
       "      <th>2</th>\n",
       "      <td>2012-01-02</td>\n",
       "      <td>1501</td>\n",
       "      <td>31962</td>\n",
       "      <td>1</td>\n",
       "      <td>106.50</td>\n",
       "      <td>-14.25</td>\n",
       "      <td>0.0</td>\n",
       "    </tr>\n",
       "    <tr>\n",
       "      <th>3</th>\n",
       "      <td>2012-01-02</td>\n",
       "      <td>1501</td>\n",
       "      <td>33647</td>\n",
       "      <td>1</td>\n",
       "      <td>67.32</td>\n",
       "      <td>0.00</td>\n",
       "      <td>0.0</td>\n",
       "    </tr>\n",
       "    <tr>\n",
       "      <th>4</th>\n",
       "      <td>2012-01-02</td>\n",
       "      <td>1501</td>\n",
       "      <td>48199</td>\n",
       "      <td>1</td>\n",
       "      <td>71.24</td>\n",
       "      <td>-28.14</td>\n",
       "      <td>0.0</td>\n",
       "    </tr>\n",
       "  </tbody>\n",
       "</table>\n",
       "</div>"
      ],
      "text/plain": [
       "         date  customer_id  item_id  quantity  selling_price  other_discount  \\\n",
       "0  2012-01-02         1501    26830         1          35.26          -10.69   \n",
       "1  2012-01-02         1501    54253         1          53.43          -13.89   \n",
       "2  2012-01-02         1501    31962         1         106.50          -14.25   \n",
       "3  2012-01-02         1501    33647         1          67.32            0.00   \n",
       "4  2012-01-02         1501    48199         1          71.24          -28.14   \n",
       "\n",
       "   coupon_discount  \n",
       "0              0.0  \n",
       "1              0.0  \n",
       "2              0.0  \n",
       "3              0.0  \n",
       "4              0.0  "
      ]
     },
     "execution_count": 233,
     "metadata": {},
     "output_type": "execute_result"
    }
   ],
   "source": [
    "customer_transaction_data.head()"
   ]
  },
  {
   "cell_type": "code",
   "execution_count": 234,
   "metadata": {},
   "outputs": [
    {
     "name": "stdout",
     "output_type": "stream",
     "text": [
      "<class 'pandas.core.frame.DataFrame'>\n",
      "RangeIndex: 1324566 entries, 0 to 1324565\n",
      "Data columns (total 7 columns):\n",
      "date               1324566 non-null object\n",
      "customer_id        1324566 non-null int64\n",
      "item_id            1324566 non-null int64\n",
      "quantity           1324566 non-null int64\n",
      "selling_price      1324566 non-null float64\n",
      "other_discount     1324566 non-null float64\n",
      "coupon_discount    1324566 non-null float64\n",
      "dtypes: float64(3), int64(3), object(1)\n",
      "memory usage: 70.7+ MB\n"
     ]
    }
   ],
   "source": [
    "customer_transaction_data.info()"
   ]
  },
  {
   "cell_type": "code",
   "execution_count": 235,
   "metadata": {},
   "outputs": [],
   "source": [
    "customer_transaction_data.date = pd.to_datetime(customer_transaction_data.date)"
   ]
  },
  {
   "cell_type": "code",
   "execution_count": 236,
   "metadata": {},
   "outputs": [
    {
     "data": {
      "text/plain": [
       "(1582,)"
      ]
     },
     "execution_count": 236,
     "metadata": {},
     "output_type": "execute_result"
    }
   ],
   "source": [
    "customer_transaction_data.customer_id.unique().shape"
   ]
  },
  {
   "cell_type": "code",
   "execution_count": 237,
   "metadata": {},
   "outputs": [
    {
     "data": {
      "text/plain": [
       "-787982.0900000004"
      ]
     },
     "execution_count": 237,
     "metadata": {},
     "output_type": "execute_result"
    }
   ],
   "source": [
    "customer_transaction_data.coupon_discount.sum()"
   ]
  },
  {
   "cell_type": "code",
   "execution_count": 238,
   "metadata": {},
   "outputs": [],
   "source": [
    "customer_transaction_data['total_discount'] = customer_transaction_data.other_discount + customer_transaction_data.coupon_discount"
   ]
  },
  {
   "cell_type": "code",
   "execution_count": 239,
   "metadata": {},
   "outputs": [
    {
     "data": {
      "text/plain": [
       "-24323806.740000006"
      ]
     },
     "execution_count": 239,
     "metadata": {},
     "output_type": "execute_result"
    }
   ],
   "source": [
    "customer_transaction_data.total_discount.sum()"
   ]
  },
  {
   "cell_type": "code",
   "execution_count": 240,
   "metadata": {},
   "outputs": [],
   "source": [
    "customer_transaction_data = pd.merge(customer_transaction_data,customer_transaction_data[['customer_id','total_discount']].groupby('customer_id').sum().reset_index(),on='customer_id',how = 'left')"
   ]
  },
  {
   "cell_type": "code",
   "execution_count": 241,
   "metadata": {},
   "outputs": [],
   "source": [
    "customer_transaction_data.rename(columns = {'total_discount_x':'total_discount_transaction','total_discount_y':'total_discount_customer'},inplace=True)"
   ]
  },
  {
   "cell_type": "code",
   "execution_count": null,
   "metadata": {},
   "outputs": [],
   "source": []
  },
  {
   "cell_type": "code",
   "execution_count": 242,
   "metadata": {},
   "outputs": [],
   "source": [
    "customer_transaction_data['day'] = customer_transaction_data.date.dt.day"
   ]
  },
  {
   "cell_type": "code",
   "execution_count": 243,
   "metadata": {},
   "outputs": [],
   "source": [
    "customer_transaction_data['dotw'] = customer_transaction_data.date.dt.strftime('%A')"
   ]
  },
  {
   "cell_type": "code",
   "execution_count": 244,
   "metadata": {},
   "outputs": [
    {
     "data": {
      "text/plain": [
       "[<matplotlib.lines.Line2D at 0x1c2e848de80>]"
      ]
     },
     "execution_count": 244,
     "metadata": {},
     "output_type": "execute_result"
    },
    {
     "data": {
      "image/png": "[encoded data removed]",
      "text/plain": [
       "<Figure size 432x288 with 1 Axes>"
      ]
     },
     "metadata": {
      "needs_background": "light"
     },
     "output_type": "display_data"
    }
   ],
   "source": [
    "plt.plot(customer_transaction_data.dotw.value_counts())"
   ]
  },
  {
   "cell_type": "code",
   "execution_count": 245,
   "metadata": {},
   "outputs": [
    {
     "data": {
      "text/plain": [
       "[<matplotlib.lines.Line2D at 0x1c2e137ea20>]"
      ]
     },
     "execution_count": 245,
     "metadata": {},
     "output_type": "execute_result"
    },
    {
     "data": {
      "image/png": "[encoded data removed]",
      "text/plain": [
       "<Figure size 432x288 with 1 Axes>"
      ]
     },
     "metadata": {
      "needs_background": "light"
     },
     "output_type": "display_data"
    }
   ],
   "source": [
    "## shopping trends according to the day of the manth\n",
    "plt.plot(pd.DataFrame(customer_transaction_data.day.value_counts()).reset_index().sort_values('index').reset_index(drop=True)['day'])"
   ]
  },
  {
   "cell_type": "code",
   "execution_count": 246,
   "metadata": {},
   "outputs": [],
   "source": [
    "customer_transaction_data = pd.merge(customer_transaction_data,customer_transaction_data[['item_id','total_discount_transaction']].groupby('item_id').sum().reset_index(),on='item_id',how='inner')"
   ]
  },
  {
   "cell_type": "code",
   "execution_count": 247,
   "metadata": {},
   "outputs": [
    {
     "data": {
      "text/html": [
       "<div>\n",
       "<style scoped>\n",
       "    .dataframe tbody tr th:only-of-type {\n",
       "        vertical-align: middle;\n",
       "    }\n",
       "\n",
       "    .dataframe tbody tr th {\n",
       "        vertical-align: top;\n",
       "    }\n",
       "\n",
       "    .dataframe thead th {\n",
       "        text-align: right;\n",
       "    }\n",
       "</style>\n",
       "<table border=\"1\" class=\"dataframe\">\n",
       "  <thead>\n",
       "    <tr style=\"text-align: right;\">\n",
       "      <th></th>\n",
       "      <th>date</th>\n",
       "      <th>customer_id</th>\n",
       "      <th>item_id</th>\n",
       "      <th>quantity</th>\n",
       "      <th>selling_price</th>\n",
       "      <th>other_discount</th>\n",
       "      <th>coupon_discount</th>\n",
       "      <th>total_discount_transaction</th>\n",
       "      <th>total_discount_customer</th>\n",
       "      <th>day</th>\n",
       "      <th>dotw</th>\n",
       "      <th>item_ttl_discnt</th>\n",
       "    </tr>\n",
       "  </thead>\n",
       "  <tbody>\n",
       "    <tr>\n",
       "      <th>0</th>\n",
       "      <td>2012-01-02</td>\n",
       "      <td>1501</td>\n",
       "      <td>26830</td>\n",
       "      <td>1</td>\n",
       "      <td>35.26</td>\n",
       "      <td>-10.69</td>\n",
       "      <td>0.0</td>\n",
       "      <td>-10.69</td>\n",
       "      <td>-7289.57</td>\n",
       "      <td>2</td>\n",
       "      <td>Monday</td>\n",
       "      <td>-224.45</td>\n",
       "    </tr>\n",
       "    <tr>\n",
       "      <th>1</th>\n",
       "      <td>2012-01-02</td>\n",
       "      <td>135</td>\n",
       "      <td>26830</td>\n",
       "      <td>1</td>\n",
       "      <td>35.26</td>\n",
       "      <td>-10.69</td>\n",
       "      <td>0.0</td>\n",
       "      <td>-10.69</td>\n",
       "      <td>-10704.39</td>\n",
       "      <td>2</td>\n",
       "      <td>Monday</td>\n",
       "      <td>-224.45</td>\n",
       "    </tr>\n",
       "    <tr>\n",
       "      <th>2</th>\n",
       "      <td>2012-01-02</td>\n",
       "      <td>464</td>\n",
       "      <td>26830</td>\n",
       "      <td>1</td>\n",
       "      <td>35.26</td>\n",
       "      <td>-10.69</td>\n",
       "      <td>0.0</td>\n",
       "      <td>-10.69</td>\n",
       "      <td>-81477.05</td>\n",
       "      <td>2</td>\n",
       "      <td>Monday</td>\n",
       "      <td>-224.45</td>\n",
       "    </tr>\n",
       "    <tr>\n",
       "      <th>3</th>\n",
       "      <td>2012-01-12</td>\n",
       "      <td>1185</td>\n",
       "      <td>26830</td>\n",
       "      <td>1</td>\n",
       "      <td>45.95</td>\n",
       "      <td>0.00</td>\n",
       "      <td>0.0</td>\n",
       "      <td>0.00</td>\n",
       "      <td>-5290.64</td>\n",
       "      <td>12</td>\n",
       "      <td>Thursday</td>\n",
       "      <td>-224.45</td>\n",
       "    </tr>\n",
       "    <tr>\n",
       "      <th>4</th>\n",
       "      <td>2012-01-13</td>\n",
       "      <td>1140</td>\n",
       "      <td>26830</td>\n",
       "      <td>1</td>\n",
       "      <td>45.95</td>\n",
       "      <td>0.00</td>\n",
       "      <td>0.0</td>\n",
       "      <td>0.00</td>\n",
       "      <td>-16854.23</td>\n",
       "      <td>13</td>\n",
       "      <td>Friday</td>\n",
       "      <td>-224.45</td>\n",
       "    </tr>\n",
       "  </tbody>\n",
       "</table>\n",
       "</div>"
      ],
      "text/plain": [
       "        date  customer_id  item_id  quantity  selling_price  other_discount  \\\n",
       "0 2012-01-02         1501    26830         1          35.26          -10.69   \n",
       "1 2012-01-02          135    26830         1          35.26          -10.69   \n",
       "2 2012-01-02          464    26830         1          35.26          -10.69   \n",
       "3 2012-01-12         1185    26830         1          45.95            0.00   \n",
       "4 2012-01-13         1140    26830         1          45.95            0.00   \n",
       "\n",
       "   coupon_discount  total_discount_transaction  total_discount_customer  day  \\\n",
       "0              0.0                      -10.69                 -7289.57    2   \n",
       "1              0.0                      -10.69                -10704.39    2   \n",
       "2              0.0                      -10.69                -81477.05    2   \n",
       "3              0.0                        0.00                 -5290.64   12   \n",
       "4              0.0                        0.00                -16854.23   13   \n",
       "\n",
       "       dotw  item_ttl_discnt  \n",
       "0    Monday          -224.45  \n",
       "1    Monday          -224.45  \n",
       "2    Monday          -224.45  \n",
       "3  Thursday          -224.45  \n",
       "4    Friday          -224.45  "
      ]
     },
     "execution_count": 247,
     "metadata": {},
     "output_type": "execute_result"
    }
   ],
   "source": [
    "customer_transaction_data.rename(columns= {'total_discount_transaction_x':'total_discount_transaction','total_discount_transaction_y':'item_ttl_discnt'},inplace=True)\n",
    "customer_transaction_data.head()"
   ]
  },
  {
   "cell_type": "code",
   "execution_count": 248,
   "metadata": {},
   "outputs": [
    {
     "data": {
      "text/html": [
       "<div>\n",
       "<style scoped>\n",
       "    .dataframe tbody tr th:only-of-type {\n",
       "        vertical-align: middle;\n",
       "    }\n",
       "\n",
       "    .dataframe tbody tr th {\n",
       "        vertical-align: top;\n",
       "    }\n",
       "\n",
       "    .dataframe thead th {\n",
       "        text-align: right;\n",
       "    }\n",
       "</style>\n",
       "<table border=\"1\" class=\"dataframe\">\n",
       "  <thead>\n",
       "    <tr style=\"text-align: right;\">\n",
       "      <th></th>\n",
       "      <th>date</th>\n",
       "      <th>customer_id</th>\n",
       "      <th>item_id</th>\n",
       "      <th>quantity</th>\n",
       "      <th>selling_price</th>\n",
       "      <th>other_discount</th>\n",
       "      <th>coupon_discount</th>\n",
       "      <th>total_discount_transaction</th>\n",
       "      <th>total_discount_customer</th>\n",
       "      <th>day</th>\n",
       "      <th>dotw</th>\n",
       "      <th>item_ttl_discnt</th>\n",
       "    </tr>\n",
       "  </thead>\n",
       "  <tbody>\n",
       "    <tr>\n",
       "      <th>1147075</th>\n",
       "      <td>2012-05-11</td>\n",
       "      <td>1225</td>\n",
       "      <td>300</td>\n",
       "      <td>1</td>\n",
       "      <td>35.62</td>\n",
       "      <td>0.00</td>\n",
       "      <td>0.0</td>\n",
       "      <td>0.00</td>\n",
       "      <td>-6763.46</td>\n",
       "      <td>11</td>\n",
       "      <td>Friday</td>\n",
       "      <td>-7.12</td>\n",
       "    </tr>\n",
       "    <tr>\n",
       "      <th>1147076</th>\n",
       "      <td>2012-05-29</td>\n",
       "      <td>1225</td>\n",
       "      <td>300</td>\n",
       "      <td>1</td>\n",
       "      <td>35.62</td>\n",
       "      <td>0.00</td>\n",
       "      <td>0.0</td>\n",
       "      <td>0.00</td>\n",
       "      <td>-6763.46</td>\n",
       "      <td>29</td>\n",
       "      <td>Tuesday</td>\n",
       "      <td>-7.12</td>\n",
       "    </tr>\n",
       "    <tr>\n",
       "      <th>1147077</th>\n",
       "      <td>2012-06-09</td>\n",
       "      <td>1225</td>\n",
       "      <td>300</td>\n",
       "      <td>1</td>\n",
       "      <td>28.50</td>\n",
       "      <td>-7.12</td>\n",
       "      <td>0.0</td>\n",
       "      <td>-7.12</td>\n",
       "      <td>-6763.46</td>\n",
       "      <td>9</td>\n",
       "      <td>Saturday</td>\n",
       "      <td>-7.12</td>\n",
       "    </tr>\n",
       "    <tr>\n",
       "      <th>1147078</th>\n",
       "      <td>2013-06-11</td>\n",
       "      <td>999</td>\n",
       "      <td>300</td>\n",
       "      <td>1</td>\n",
       "      <td>35.62</td>\n",
       "      <td>0.00</td>\n",
       "      <td>0.0</td>\n",
       "      <td>0.00</td>\n",
       "      <td>-14022.08</td>\n",
       "      <td>11</td>\n",
       "      <td>Tuesday</td>\n",
       "      <td>-7.12</td>\n",
       "    </tr>\n",
       "  </tbody>\n",
       "</table>\n",
       "</div>"
      ],
      "text/plain": [
       "              date  customer_id  item_id  quantity  selling_price  \\\n",
       "1147075 2012-05-11         1225      300         1          35.62   \n",
       "1147076 2012-05-29         1225      300         1          35.62   \n",
       "1147077 2012-06-09         1225      300         1          28.50   \n",
       "1147078 2013-06-11          999      300         1          35.62   \n",
       "\n",
       "         other_discount  coupon_discount  total_discount_transaction  \\\n",
       "1147075            0.00              0.0                        0.00   \n",
       "1147076            0.00              0.0                        0.00   \n",
       "1147077           -7.12              0.0                       -7.12   \n",
       "1147078            0.00              0.0                        0.00   \n",
       "\n",
       "         total_discount_customer  day      dotw  item_ttl_discnt  \n",
       "1147075                 -6763.46   11    Friday            -7.12  \n",
       "1147076                 -6763.46   29   Tuesday            -7.12  \n",
       "1147077                 -6763.46    9  Saturday            -7.12  \n",
       "1147078                -14022.08   11   Tuesday            -7.12  "
      ]
     },
     "execution_count": 248,
     "metadata": {},
     "output_type": "execute_result"
    }
   ],
   "source": [
    "customer_transaction_data[customer_transaction_data.item_id == 300]"
   ]
  },
  {
   "cell_type": "code",
   "execution_count": 249,
   "metadata": {},
   "outputs": [],
   "source": [
    "customer_transaction_data['item_best_dotw'] = customer_transaction_data.groupby('item_id').dotw.transform(lambda x : (x).value_counts().idxmax())"
   ]
  },
  {
   "cell_type": "code",
   "execution_count": 250,
   "metadata": {},
   "outputs": [],
   "source": [
    "customer_transaction_data['most_purchased_item'] = customer_transaction_data[['customer_id','item_id']].groupby('customer_id').item_id.transform(lambda x : (x).value_counts().idxmax())"
   ]
  },
  {
   "cell_type": "code",
   "execution_count": 251,
   "metadata": {},
   "outputs": [],
   "source": [
    "customer_transaction_data['customer_best_dotw'] = customer_transaction_data.groupby('customer_id').dotw.transform(lambda x : (x).value_counts().idxmax())"
   ]
  },
  {
   "cell_type": "code",
   "execution_count": 252,
   "metadata": {},
   "outputs": [
    {
     "data": {
      "text/html": [
       "<div>\n",
       "<style scoped>\n",
       "    .dataframe tbody tr th:only-of-type {\n",
       "        vertical-align: middle;\n",
       "    }\n",
       "\n",
       "    .dataframe tbody tr th {\n",
       "        vertical-align: top;\n",
       "    }\n",
       "\n",
       "    .dataframe thead th {\n",
       "        text-align: right;\n",
       "    }\n",
       "</style>\n",
       "<table border=\"1\" class=\"dataframe\">\n",
       "  <thead>\n",
       "    <tr style=\"text-align: right;\">\n",
       "      <th></th>\n",
       "      <th>date</th>\n",
       "      <th>customer_id</th>\n",
       "      <th>item_id</th>\n",
       "      <th>quantity</th>\n",
       "      <th>selling_price</th>\n",
       "      <th>other_discount</th>\n",
       "      <th>coupon_discount</th>\n",
       "      <th>total_discount_transaction</th>\n",
       "      <th>total_discount_customer</th>\n",
       "      <th>day</th>\n",
       "      <th>dotw</th>\n",
       "      <th>item_ttl_discnt</th>\n",
       "      <th>item_best_dotw</th>\n",
       "      <th>most_purchased_item</th>\n",
       "      <th>customer_best_dotw</th>\n",
       "    </tr>\n",
       "  </thead>\n",
       "  <tbody>\n",
       "    <tr>\n",
       "      <th>0</th>\n",
       "      <td>2012-01-02</td>\n",
       "      <td>1501</td>\n",
       "      <td>26830</td>\n",
       "      <td>1</td>\n",
       "      <td>35.26</td>\n",
       "      <td>-10.69</td>\n",
       "      <td>0.0</td>\n",
       "      <td>-10.69</td>\n",
       "      <td>-7289.57</td>\n",
       "      <td>2</td>\n",
       "      <td>Monday</td>\n",
       "      <td>-224.45</td>\n",
       "      <td>Thursday</td>\n",
       "      <td>26854</td>\n",
       "      <td>Thursday</td>\n",
       "    </tr>\n",
       "    <tr>\n",
       "      <th>1</th>\n",
       "      <td>2012-01-02</td>\n",
       "      <td>135</td>\n",
       "      <td>26830</td>\n",
       "      <td>1</td>\n",
       "      <td>35.26</td>\n",
       "      <td>-10.69</td>\n",
       "      <td>0.0</td>\n",
       "      <td>-10.69</td>\n",
       "      <td>-10704.39</td>\n",
       "      <td>2</td>\n",
       "      <td>Monday</td>\n",
       "      <td>-224.45</td>\n",
       "      <td>Thursday</td>\n",
       "      <td>48922</td>\n",
       "      <td>Thursday</td>\n",
       "    </tr>\n",
       "    <tr>\n",
       "      <th>2</th>\n",
       "      <td>2012-01-02</td>\n",
       "      <td>464</td>\n",
       "      <td>26830</td>\n",
       "      <td>1</td>\n",
       "      <td>35.26</td>\n",
       "      <td>-10.69</td>\n",
       "      <td>0.0</td>\n",
       "      <td>-10.69</td>\n",
       "      <td>-81477.05</td>\n",
       "      <td>2</td>\n",
       "      <td>Monday</td>\n",
       "      <td>-224.45</td>\n",
       "      <td>Thursday</td>\n",
       "      <td>49009</td>\n",
       "      <td>Monday</td>\n",
       "    </tr>\n",
       "    <tr>\n",
       "      <th>3</th>\n",
       "      <td>2012-01-12</td>\n",
       "      <td>1185</td>\n",
       "      <td>26830</td>\n",
       "      <td>1</td>\n",
       "      <td>45.95</td>\n",
       "      <td>0.00</td>\n",
       "      <td>0.0</td>\n",
       "      <td>0.00</td>\n",
       "      <td>-5290.64</td>\n",
       "      <td>12</td>\n",
       "      <td>Thursday</td>\n",
       "      <td>-224.45</td>\n",
       "      <td>Thursday</td>\n",
       "      <td>34047</td>\n",
       "      <td>Friday</td>\n",
       "    </tr>\n",
       "    <tr>\n",
       "      <th>4</th>\n",
       "      <td>2012-01-13</td>\n",
       "      <td>1140</td>\n",
       "      <td>26830</td>\n",
       "      <td>1</td>\n",
       "      <td>45.95</td>\n",
       "      <td>0.00</td>\n",
       "      <td>0.0</td>\n",
       "      <td>0.00</td>\n",
       "      <td>-16854.23</td>\n",
       "      <td>13</td>\n",
       "      <td>Friday</td>\n",
       "      <td>-224.45</td>\n",
       "      <td>Thursday</td>\n",
       "      <td>25759</td>\n",
       "      <td>Friday</td>\n",
       "    </tr>\n",
       "  </tbody>\n",
       "</table>\n",
       "</div>"
      ],
      "text/plain": [
       "        date  customer_id  item_id  quantity  selling_price  other_discount  \\\n",
       "0 2012-01-02         1501    26830         1          35.26          -10.69   \n",
       "1 2012-01-02          135    26830         1          35.26          -10.69   \n",
       "2 2012-01-02          464    26830         1          35.26          -10.69   \n",
       "3 2012-01-12         1185    26830         1          45.95            0.00   \n",
       "4 2012-01-13         1140    26830         1          45.95            0.00   \n",
       "\n",
       "   coupon_discount  total_discount_transaction  total_discount_customer  day  \\\n",
       "0              0.0                      -10.69                 -7289.57    2   \n",
       "1              0.0                      -10.69                -10704.39    2   \n",
       "2              0.0                      -10.69                -81477.05    2   \n",
       "3              0.0                        0.00                 -5290.64   12   \n",
       "4              0.0                        0.00                -16854.23   13   \n",
       "\n",
       "       dotw  item_ttl_discnt item_best_dotw  most_purchased_item  \\\n",
       "0    Monday          -224.45       Thursday                26854   \n",
       "1    Monday          -224.45       Thursday                48922   \n",
       "2    Monday          -224.45       Thursday                49009   \n",
       "3  Thursday          -224.45       Thursday                34047   \n",
       "4    Friday          -224.45       Thursday                25759   \n",
       "\n",
       "  customer_best_dotw  \n",
       "0           Thursday  \n",
       "1           Thursday  \n",
       "2             Monday  \n",
       "3             Friday  \n",
       "4             Friday  "
      ]
     },
     "execution_count": 252,
     "metadata": {},
     "output_type": "execute_result"
    }
   ],
   "source": [
    "customer_transaction_data.head()"
   ]
  },
  {
   "cell_type": "code",
   "execution_count": 253,
   "metadata": {},
   "outputs": [],
   "source": [
    "customer_transaction_data['item_price'] = customer_transaction_data.selling_price + customer_transaction_data.total_discount_transaction"
   ]
  },
  {
   "cell_type": "code",
   "execution_count": null,
   "metadata": {},
   "outputs": [],
   "source": []
  },
  {
   "cell_type": "code",
   "execution_count": null,
   "metadata": {},
   "outputs": [],
   "source": []
  },
  {
   "cell_type": "markdown",
   "metadata": {},
   "source": [
    "### explore item_data"
   ]
  },
  {
   "cell_type": "code",
   "execution_count": 254,
   "metadata": {
    "scrolled": true
   },
   "outputs": [
    {
     "data": {
      "text/html": [
       "<div>\n",
       "<style scoped>\n",
       "    .dataframe tbody tr th:only-of-type {\n",
       "        vertical-align: middle;\n",
       "    }\n",
       "\n",
       "    .dataframe tbody tr th {\n",
       "        vertical-align: top;\n",
       "    }\n",
       "\n",
       "    .dataframe thead th {\n",
       "        text-align: right;\n",
       "    }\n",
       "</style>\n",
       "<table border=\"1\" class=\"dataframe\">\n",
       "  <thead>\n",
       "    <tr style=\"text-align: right;\">\n",
       "      <th></th>\n",
       "      <th>item_id</th>\n",
       "      <th>brand</th>\n",
       "      <th>brand_type</th>\n",
       "      <th>category</th>\n",
       "    </tr>\n",
       "  </thead>\n",
       "  <tbody>\n",
       "    <tr>\n",
       "      <th>0</th>\n",
       "      <td>1</td>\n",
       "      <td>1</td>\n",
       "      <td>Established</td>\n",
       "      <td>Grocery</td>\n",
       "    </tr>\n",
       "    <tr>\n",
       "      <th>1</th>\n",
       "      <td>2</td>\n",
       "      <td>1</td>\n",
       "      <td>Established</td>\n",
       "      <td>Miscellaneous</td>\n",
       "    </tr>\n",
       "    <tr>\n",
       "      <th>2</th>\n",
       "      <td>3</td>\n",
       "      <td>56</td>\n",
       "      <td>Local</td>\n",
       "      <td>Bakery</td>\n",
       "    </tr>\n",
       "    <tr>\n",
       "      <th>3</th>\n",
       "      <td>4</td>\n",
       "      <td>56</td>\n",
       "      <td>Local</td>\n",
       "      <td>Grocery</td>\n",
       "    </tr>\n",
       "    <tr>\n",
       "      <th>4</th>\n",
       "      <td>5</td>\n",
       "      <td>56</td>\n",
       "      <td>Local</td>\n",
       "      <td>Grocery</td>\n",
       "    </tr>\n",
       "  </tbody>\n",
       "</table>\n",
       "</div>"
      ],
      "text/plain": [
       "   item_id  brand   brand_type       category\n",
       "0        1      1  Established        Grocery\n",
       "1        2      1  Established  Miscellaneous\n",
       "2        3     56        Local         Bakery\n",
       "3        4     56        Local        Grocery\n",
       "4        5     56        Local        Grocery"
      ]
     },
     "execution_count": 254,
     "metadata": {},
     "output_type": "execute_result"
    }
   ],
   "source": [
    "item_data.head()"
   ]
  },
  {
   "cell_type": "code",
   "execution_count": 255,
   "metadata": {},
   "outputs": [
    {
     "name": "stdout",
     "output_type": "stream",
     "text": [
      "<class 'pandas.core.frame.DataFrame'>\n",
      "RangeIndex: 74066 entries, 0 to 74065\n",
      "Data columns (total 4 columns):\n",
      "item_id       74066 non-null int64\n",
      "brand         74066 non-null int64\n",
      "brand_type    74066 non-null object\n",
      "category      74066 non-null object\n",
      "dtypes: int64(2), object(2)\n",
      "memory usage: 2.3+ MB\n"
     ]
    }
   ],
   "source": [
    "item_data.info()"
   ]
  },
  {
   "cell_type": "code",
   "execution_count": 256,
   "metadata": {},
   "outputs": [
    {
     "data": {
      "text/plain": [
       "Established    62842\n",
       "Local          11224\n",
       "Name: brand_type, dtype: int64"
      ]
     },
     "execution_count": 256,
     "metadata": {},
     "output_type": "execute_result"
    }
   ],
   "source": [
    "item_data.brand_type.value_counts()"
   ]
  },
  {
   "cell_type": "code",
   "execution_count": 257,
   "metadata": {
    "scrolled": true
   },
   "outputs": [
    {
     "data": {
      "text/plain": [
       "Grocery                   32448\n",
       "Pharmaceutical            24471\n",
       "Natural Products           2533\n",
       "Dairy, Juices & Snacks     2425\n",
       "Skin & Hair Care           2244\n",
       "Meat                       2080\n",
       "Packaged Meat              1966\n",
       "Prepared Food              1880\n",
       "Bakery                     1679\n",
       "Seafood                     728\n",
       "Flowers & Plants            664\n",
       "Miscellaneous               385\n",
       "Alcohol                     303\n",
       "Garden                      102\n",
       "Restauarant                  78\n",
       "Salads                       40\n",
       "Travel                       19\n",
       "Fuel                         14\n",
       "Vegetables (cut)              7\n",
       "Name: category, dtype: int64"
      ]
     },
     "execution_count": 257,
     "metadata": {},
     "output_type": "execute_result"
    }
   ],
   "source": [
    "item_data.category.value_counts()"
   ]
  },
  {
   "cell_type": "code",
   "execution_count": 258,
   "metadata": {},
   "outputs": [],
   "source": [
    "item_data = pd.merge(item_data,customer_transaction_data[['item_id','item_ttl_discnt','item_best_dotw']],on='item_id',how='left')"
   ]
  },
  {
   "cell_type": "code",
   "execution_count": 259,
   "metadata": {},
   "outputs": [
    {
     "data": {
      "text/html": [
       "<div>\n",
       "<style scoped>\n",
       "    .dataframe tbody tr th:only-of-type {\n",
       "        vertical-align: middle;\n",
       "    }\n",
       "\n",
       "    .dataframe tbody tr th {\n",
       "        vertical-align: top;\n",
       "    }\n",
       "\n",
       "    .dataframe thead th {\n",
       "        text-align: right;\n",
       "    }\n",
       "</style>\n",
       "<table border=\"1\" class=\"dataframe\">\n",
       "  <thead>\n",
       "    <tr style=\"text-align: right;\">\n",
       "      <th></th>\n",
       "      <th>item_id</th>\n",
       "      <th>brand</th>\n",
       "      <th>brand_type</th>\n",
       "      <th>category</th>\n",
       "      <th>item_ttl_discnt</th>\n",
       "      <th>item_best_dotw</th>\n",
       "    </tr>\n",
       "  </thead>\n",
       "  <tbody>\n",
       "    <tr>\n",
       "      <th>0</th>\n",
       "      <td>1</td>\n",
       "      <td>1</td>\n",
       "      <td>Established</td>\n",
       "      <td>Grocery</td>\n",
       "      <td>0.0</td>\n",
       "      <td>Wednesday</td>\n",
       "    </tr>\n",
       "    <tr>\n",
       "      <th>1</th>\n",
       "      <td>1</td>\n",
       "      <td>1</td>\n",
       "      <td>Established</td>\n",
       "      <td>Grocery</td>\n",
       "      <td>0.0</td>\n",
       "      <td>Wednesday</td>\n",
       "    </tr>\n",
       "    <tr>\n",
       "      <th>2</th>\n",
       "      <td>2</td>\n",
       "      <td>1</td>\n",
       "      <td>Established</td>\n",
       "      <td>Miscellaneous</td>\n",
       "      <td>0.0</td>\n",
       "      <td>Friday</td>\n",
       "    </tr>\n",
       "    <tr>\n",
       "      <th>3</th>\n",
       "      <td>3</td>\n",
       "      <td>56</td>\n",
       "      <td>Local</td>\n",
       "      <td>Bakery</td>\n",
       "      <td>0.0</td>\n",
       "      <td>Wednesday</td>\n",
       "    </tr>\n",
       "    <tr>\n",
       "      <th>4</th>\n",
       "      <td>4</td>\n",
       "      <td>56</td>\n",
       "      <td>Local</td>\n",
       "      <td>Grocery</td>\n",
       "      <td>0.0</td>\n",
       "      <td>Sunday</td>\n",
       "    </tr>\n",
       "  </tbody>\n",
       "</table>\n",
       "</div>"
      ],
      "text/plain": [
       "   item_id  brand   brand_type       category  item_ttl_discnt item_best_dotw\n",
       "0        1      1  Established        Grocery              0.0      Wednesday\n",
       "1        1      1  Established        Grocery              0.0      Wednesday\n",
       "2        2      1  Established  Miscellaneous              0.0         Friday\n",
       "3        3     56        Local         Bakery              0.0      Wednesday\n",
       "4        4     56        Local        Grocery              0.0         Sunday"
      ]
     },
     "execution_count": 259,
     "metadata": {},
     "output_type": "execute_result"
    }
   ],
   "source": [
    "item_data.head()"
   ]
  },
  {
   "cell_type": "code",
   "execution_count": 260,
   "metadata": {},
   "outputs": [
    {
     "data": {
      "text/html": [
       "<div>\n",
       "<style scoped>\n",
       "    .dataframe tbody tr th:only-of-type {\n",
       "        vertical-align: middle;\n",
       "    }\n",
       "\n",
       "    .dataframe tbody tr th {\n",
       "        vertical-align: top;\n",
       "    }\n",
       "\n",
       "    .dataframe thead th {\n",
       "        text-align: right;\n",
       "    }\n",
       "</style>\n",
       "<table border=\"1\" class=\"dataframe\">\n",
       "  <thead>\n",
       "    <tr style=\"text-align: right;\">\n",
       "      <th></th>\n",
       "      <th>id</th>\n",
       "      <th>redemption_status</th>\n",
       "    </tr>\n",
       "  </thead>\n",
       "  <tbody>\n",
       "    <tr>\n",
       "      <th>0</th>\n",
       "      <td>3</td>\n",
       "      <td>0</td>\n",
       "    </tr>\n",
       "    <tr>\n",
       "      <th>1</th>\n",
       "      <td>4</td>\n",
       "      <td>0</td>\n",
       "    </tr>\n",
       "    <tr>\n",
       "      <th>2</th>\n",
       "      <td>5</td>\n",
       "      <td>0</td>\n",
       "    </tr>\n",
       "    <tr>\n",
       "      <th>3</th>\n",
       "      <td>8</td>\n",
       "      <td>0</td>\n",
       "    </tr>\n",
       "    <tr>\n",
       "      <th>4</th>\n",
       "      <td>10</td>\n",
       "      <td>0</td>\n",
       "    </tr>\n",
       "  </tbody>\n",
       "</table>\n",
       "</div>"
      ],
      "text/plain": [
       "   id  redemption_status\n",
       "0   3                  0\n",
       "1   4                  0\n",
       "2   5                  0\n",
       "3   8                  0\n",
       "4  10                  0"
      ]
     },
     "execution_count": 260,
     "metadata": {},
     "output_type": "execute_result"
    }
   ],
   "source": [
    "sample_submission.head()"
   ]
  },
  {
   "cell_type": "code",
   "execution_count": 261,
   "metadata": {},
   "outputs": [
    {
     "data": {
      "text/html": [
       "<div>\n",
       "<style scoped>\n",
       "    .dataframe tbody tr th:only-of-type {\n",
       "        vertical-align: middle;\n",
       "    }\n",
       "\n",
       "    .dataframe tbody tr th {\n",
       "        vertical-align: top;\n",
       "    }\n",
       "\n",
       "    .dataframe thead th {\n",
       "        text-align: right;\n",
       "    }\n",
       "</style>\n",
       "<table border=\"1\" class=\"dataframe\">\n",
       "  <thead>\n",
       "    <tr style=\"text-align: right;\">\n",
       "      <th></th>\n",
       "      <th>id</th>\n",
       "      <th>campaign_id</th>\n",
       "      <th>coupon_id</th>\n",
       "      <th>customer_id</th>\n",
       "      <th>redemption_status</th>\n",
       "    </tr>\n",
       "  </thead>\n",
       "  <tbody>\n",
       "    <tr>\n",
       "      <th>0</th>\n",
       "      <td>1</td>\n",
       "      <td>13</td>\n",
       "      <td>27</td>\n",
       "      <td>1053</td>\n",
       "      <td>0</td>\n",
       "    </tr>\n",
       "    <tr>\n",
       "      <th>1</th>\n",
       "      <td>2</td>\n",
       "      <td>13</td>\n",
       "      <td>116</td>\n",
       "      <td>48</td>\n",
       "      <td>0</td>\n",
       "    </tr>\n",
       "    <tr>\n",
       "      <th>2</th>\n",
       "      <td>6</td>\n",
       "      <td>9</td>\n",
       "      <td>635</td>\n",
       "      <td>205</td>\n",
       "      <td>0</td>\n",
       "    </tr>\n",
       "    <tr>\n",
       "      <th>3</th>\n",
       "      <td>7</td>\n",
       "      <td>13</td>\n",
       "      <td>644</td>\n",
       "      <td>1050</td>\n",
       "      <td>0</td>\n",
       "    </tr>\n",
       "    <tr>\n",
       "      <th>4</th>\n",
       "      <td>9</td>\n",
       "      <td>8</td>\n",
       "      <td>1017</td>\n",
       "      <td>1489</td>\n",
       "      <td>0</td>\n",
       "    </tr>\n",
       "  </tbody>\n",
       "</table>\n",
       "</div>"
      ],
      "text/plain": [
       "   id  campaign_id  coupon_id  customer_id  redemption_status\n",
       "0   1           13         27         1053                  0\n",
       "1   2           13        116           48                  0\n",
       "2   6            9        635          205                  0\n",
       "3   7           13        644         1050                  0\n",
       "4   9            8       1017         1489                  0"
      ]
     },
     "execution_count": 261,
     "metadata": {},
     "output_type": "execute_result"
    }
   ],
   "source": [
    "train.head()"
   ]
  },
  {
   "cell_type": "code",
   "execution_count": null,
   "metadata": {},
   "outputs": [],
   "source": []
  },
  {
   "cell_type": "code",
   "execution_count": 262,
   "metadata": {
    "scrolled": true
   },
   "outputs": [
    {
     "data": {
      "text/html": [
       "<div>\n",
       "<style scoped>\n",
       "    .dataframe tbody tr th:only-of-type {\n",
       "        vertical-align: middle;\n",
       "    }\n",
       "\n",
       "    .dataframe tbody tr th {\n",
       "        vertical-align: top;\n",
       "    }\n",
       "\n",
       "    .dataframe thead th {\n",
       "        text-align: right;\n",
       "    }\n",
       "</style>\n",
       "<table border=\"1\" class=\"dataframe\">\n",
       "  <thead>\n",
       "    <tr style=\"text-align: right;\">\n",
       "      <th></th>\n",
       "      <th>id</th>\n",
       "      <th>campaign_id</th>\n",
       "      <th>coupon_id</th>\n",
       "      <th>customer_id</th>\n",
       "    </tr>\n",
       "  </thead>\n",
       "  <tbody>\n",
       "    <tr>\n",
       "      <th>0</th>\n",
       "      <td>3</td>\n",
       "      <td>22</td>\n",
       "      <td>869</td>\n",
       "      <td>967</td>\n",
       "    </tr>\n",
       "    <tr>\n",
       "      <th>1</th>\n",
       "      <td>4</td>\n",
       "      <td>20</td>\n",
       "      <td>389</td>\n",
       "      <td>1566</td>\n",
       "    </tr>\n",
       "    <tr>\n",
       "      <th>2</th>\n",
       "      <td>5</td>\n",
       "      <td>22</td>\n",
       "      <td>981</td>\n",
       "      <td>510</td>\n",
       "    </tr>\n",
       "    <tr>\n",
       "      <th>3</th>\n",
       "      <td>8</td>\n",
       "      <td>25</td>\n",
       "      <td>1069</td>\n",
       "      <td>361</td>\n",
       "    </tr>\n",
       "    <tr>\n",
       "      <th>4</th>\n",
       "      <td>10</td>\n",
       "      <td>17</td>\n",
       "      <td>498</td>\n",
       "      <td>811</td>\n",
       "    </tr>\n",
       "  </tbody>\n",
       "</table>\n",
       "</div>"
      ],
      "text/plain": [
       "   id  campaign_id  coupon_id  customer_id\n",
       "0   3           22        869          967\n",
       "1   4           20        389         1566\n",
       "2   5           22        981          510\n",
       "3   8           25       1069          361\n",
       "4  10           17        498          811"
      ]
     },
     "execution_count": 262,
     "metadata": {},
     "output_type": "execute_result"
    }
   ],
   "source": [
    "test.head()"
   ]
  },
  {
   "cell_type": "code",
   "execution_count": 263,
   "metadata": {},
   "outputs": [
    {
     "data": {
      "text/plain": [
       "[16, 17, 18, 19, 20, 21, 22, 23, 24, 25]"
      ]
     },
     "execution_count": 263,
     "metadata": {},
     "output_type": "execute_result"
    }
   ],
   "source": [
    "sorted(test.campaign_id.unique())"
   ]
  },
  {
   "cell_type": "code",
   "execution_count": 264,
   "metadata": {},
   "outputs": [
    {
     "data": {
      "text/plain": [
       "[1, 2, 3, 4, 5, 6, 7, 8, 9, 10, 11, 12, 13, 26, 27, 28, 29, 30]"
      ]
     },
     "execution_count": 264,
     "metadata": {},
     "output_type": "execute_result"
    }
   ],
   "source": [
    "sorted(train.campaign_id.unique())"
   ]
  },
  {
   "cell_type": "markdown",
   "metadata": {},
   "source": [
    "### making the feature dataframe now "
   ]
  },
  {
   "cell_type": "code",
   "execution_count": 265,
   "metadata": {},
   "outputs": [
    {
     "name": "stdout",
     "output_type": "stream",
     "text": [
      "(78369, 5)\n",
      "(78369, 7)\n"
     ]
    }
   ],
   "source": [
    "# taking campaign data into account \n",
    "print(train.shape)\n",
    "train = pd.merge(train,campaign_data[['campaign_id','campaign_length','campaign_type']],on = 'campaign_id',how = 'inner')\n",
    "print(train.shape)"
   ]
  },
  {
   "cell_type": "code",
   "execution_count": 266,
   "metadata": {},
   "outputs": [
    {
     "name": "stdout",
     "output_type": "stream",
     "text": [
      "(78369, 8)\n"
     ]
    }
   ],
   "source": [
    "# taking coupon data into account\n",
    "train = pd.merge(train,pd.DataFrame(coupon_item_mapping['coupon_id'].value_counts()).reset_index().rename(columns = {'index':'coupon_id','coupon_id':'no_of_items_in_coupon'}),on = 'coupon_id',how='inner')\n",
    "print(train.shape)"
   ]
  },
  {
   "cell_type": "code",
   "execution_count": 267,
   "metadata": {},
   "outputs": [
    {
     "name": "stdout",
     "output_type": "stream",
     "text": [
      "(78369, 8)\n"
     ]
    }
   ],
   "source": [
    "print(train.shape)"
   ]
  },
  {
   "cell_type": "code",
   "execution_count": 268,
   "metadata": {},
   "outputs": [],
   "source": [
    "# taking customer's transaction data into account now\n",
    "customer_transaction_data.head()\n",
    "customer_transaction_data['recency'] =  pd.to_datetime('2013-09-03') - pd.to_datetime(customer_transaction_data['date'])\n",
    "customer_transaction_data.recency = customer_transaction_data.recency.dt.days"
   ]
  },
  {
   "cell_type": "code",
   "execution_count": 269,
   "metadata": {},
   "outputs": [],
   "source": [
    "train = pd.merge(train,customer_transaction_data[['customer_id','recency']].groupby('customer_id').min().reset_index(),on='customer_id',how = 'left')"
   ]
  },
  {
   "cell_type": "code",
   "execution_count": 270,
   "metadata": {},
   "outputs": [],
   "source": [
    "train = pd.merge(train,customer_transaction_data[['customer_id','coupon_discount']].groupby('customer_id').mean().reset_index(),how='left',on='customer_id')\n",
    "train.rename(columns = {'coupon_discount':'avg_coupon_discount'},inplace=True)"
   ]
  },
  {
   "cell_type": "code",
   "execution_count": 271,
   "metadata": {},
   "outputs": [],
   "source": [
    "train = pd.merge(train,customer_transaction_data[['customer_id','quantity']].groupby('customer_id').sum().reset_index(),how='left',on='customer_id').rename(columns = {'quantity':'ttl_quantity'})\n"
   ]
  },
  {
   "cell_type": "code",
   "execution_count": 272,
   "metadata": {},
   "outputs": [],
   "source": [
    "train['campaign_type_X'] = train['campaign_type'].map(lambda x :1 if x == 'X' else 0)\n",
    "train.drop('campaign_type',axis=1,inplace=True)"
   ]
  },
  {
   "cell_type": "code",
   "execution_count": 273,
   "metadata": {
    "scrolled": false
   },
   "outputs": [],
   "source": [
    "train = pd.merge(train,customer_demographics,how='left',on='customer_id')"
   ]
  },
  {
   "cell_type": "code",
   "execution_count": 274,
   "metadata": {},
   "outputs": [
    {
     "data": {
      "text/html": [
       "<div>\n",
       "<style scoped>\n",
       "    .dataframe tbody tr th:only-of-type {\n",
       "        vertical-align: middle;\n",
       "    }\n",
       "\n",
       "    .dataframe tbody tr th {\n",
       "        vertical-align: top;\n",
       "    }\n",
       "\n",
       "    .dataframe thead th {\n",
       "        text-align: right;\n",
       "    }\n",
       "</style>\n",
       "<table border=\"1\" class=\"dataframe\">\n",
       "  <thead>\n",
       "    <tr style=\"text-align: right;\">\n",
       "      <th></th>\n",
       "      <th>id</th>\n",
       "      <th>campaign_id</th>\n",
       "      <th>coupon_id</th>\n",
       "      <th>customer_id</th>\n",
       "      <th>redemption_status</th>\n",
       "      <th>campaign_length</th>\n",
       "      <th>no_of_items_in_coupon</th>\n",
       "      <th>recency</th>\n",
       "      <th>avg_coupon_discount</th>\n",
       "      <th>ttl_quantity</th>\n",
       "      <th>campaign_type_X</th>\n",
       "      <th>age_range</th>\n",
       "      <th>marital_status</th>\n",
       "      <th>rented</th>\n",
       "      <th>family_size</th>\n",
       "      <th>no_of_children</th>\n",
       "      <th>income_bracket</th>\n",
       "    </tr>\n",
       "  </thead>\n",
       "  <tbody>\n",
       "    <tr>\n",
       "      <th>0</th>\n",
       "      <td>1</td>\n",
       "      <td>13</td>\n",
       "      <td>27</td>\n",
       "      <td>1053</td>\n",
       "      <td>0</td>\n",
       "      <td>47</td>\n",
       "      <td>125</td>\n",
       "      <td>64</td>\n",
       "      <td>-0.287258</td>\n",
       "      <td>105551</td>\n",
       "      <td>1</td>\n",
       "      <td>3.0</td>\n",
       "      <td>3.0</td>\n",
       "      <td>0.0</td>\n",
       "      <td>1.0</td>\n",
       "      <td>0.0</td>\n",
       "      <td>5.0</td>\n",
       "    </tr>\n",
       "    <tr>\n",
       "      <th>1</th>\n",
       "      <td>370</td>\n",
       "      <td>13</td>\n",
       "      <td>27</td>\n",
       "      <td>1168</td>\n",
       "      <td>0</td>\n",
       "      <td>47</td>\n",
       "      <td>125</td>\n",
       "      <td>62</td>\n",
       "      <td>-1.447444</td>\n",
       "      <td>36727</td>\n",
       "      <td>1</td>\n",
       "      <td>0.0</td>\n",
       "      <td>1.0</td>\n",
       "      <td>1.0</td>\n",
       "      <td>2.0</td>\n",
       "      <td>0.0</td>\n",
       "      <td>4.0</td>\n",
       "    </tr>\n",
       "    <tr>\n",
       "      <th>2</th>\n",
       "      <td>554</td>\n",
       "      <td>13</td>\n",
       "      <td>27</td>\n",
       "      <td>1061</td>\n",
       "      <td>0</td>\n",
       "      <td>47</td>\n",
       "      <td>125</td>\n",
       "      <td>62</td>\n",
       "      <td>-0.976282</td>\n",
       "      <td>1960</td>\n",
       "      <td>1</td>\n",
       "      <td>2.0</td>\n",
       "      <td>2.0</td>\n",
       "      <td>0.0</td>\n",
       "      <td>1.0</td>\n",
       "      <td>0.0</td>\n",
       "      <td>3.0</td>\n",
       "    </tr>\n",
       "    <tr>\n",
       "      <th>3</th>\n",
       "      <td>1958</td>\n",
       "      <td>13</td>\n",
       "      <td>27</td>\n",
       "      <td>1240</td>\n",
       "      <td>0</td>\n",
       "      <td>47</td>\n",
       "      <td>125</td>\n",
       "      <td>67</td>\n",
       "      <td>-0.264591</td>\n",
       "      <td>1116</td>\n",
       "      <td>1</td>\n",
       "      <td>1.0</td>\n",
       "      <td>1.0</td>\n",
       "      <td>0.0</td>\n",
       "      <td>5.0</td>\n",
       "      <td>3.0</td>\n",
       "      <td>5.0</td>\n",
       "    </tr>\n",
       "    <tr>\n",
       "      <th>4</th>\n",
       "      <td>2075</td>\n",
       "      <td>13</td>\n",
       "      <td>27</td>\n",
       "      <td>351</td>\n",
       "      <td>0</td>\n",
       "      <td>47</td>\n",
       "      <td>125</td>\n",
       "      <td>83</td>\n",
       "      <td>-0.248629</td>\n",
       "      <td>15955</td>\n",
       "      <td>1</td>\n",
       "      <td>NaN</td>\n",
       "      <td>NaN</td>\n",
       "      <td>NaN</td>\n",
       "      <td>NaN</td>\n",
       "      <td>NaN</td>\n",
       "      <td>NaN</td>\n",
       "    </tr>\n",
       "  </tbody>\n",
       "</table>\n",
       "</div>"
      ],
      "text/plain": [
       "     id  campaign_id  coupon_id  customer_id  redemption_status  \\\n",
       "0     1           13         27         1053                  0   \n",
       "1   370           13         27         1168                  0   \n",
       "2   554           13         27         1061                  0   \n",
       "3  1958           13         27         1240                  0   \n",
       "4  2075           13         27          351                  0   \n",
       "\n",
       "   campaign_length  no_of_items_in_coupon  recency  avg_coupon_discount  \\\n",
       "0               47                    125       64            -0.287258   \n",
       "1               47                    125       62            -1.447444   \n",
       "2               47                    125       62            -0.976282   \n",
       "3               47                    125       67            -0.264591   \n",
       "4               47                    125       83            -0.248629   \n",
       "\n",
       "   ttl_quantity  campaign_type_X  age_range  marital_status  rented  \\\n",
       "0        105551                1        3.0             3.0     0.0   \n",
       "1         36727                1        0.0             1.0     1.0   \n",
       "2          1960                1        2.0             2.0     0.0   \n",
       "3          1116                1        1.0             1.0     0.0   \n",
       "4         15955                1        NaN             NaN     NaN   \n",
       "\n",
       "   family_size  no_of_children  income_bracket  \n",
       "0          1.0             0.0             5.0  \n",
       "1          2.0             0.0             4.0  \n",
       "2          1.0             0.0             3.0  \n",
       "3          5.0             3.0             5.0  \n",
       "4          NaN             NaN             NaN  "
      ]
     },
     "execution_count": 274,
     "metadata": {},
     "output_type": "execute_result"
    }
   ],
   "source": [
    "train.head()"
   ]
  },
  {
   "cell_type": "code",
   "execution_count": 275,
   "metadata": {},
   "outputs": [
    {
     "data": {
      "text/plain": [
       "(1324569, 6)"
      ]
     },
     "execution_count": 275,
     "metadata": {},
     "output_type": "execute_result"
    }
   ],
   "source": [
    "item_data.shape"
   ]
  },
  {
   "cell_type": "code",
   "execution_count": 276,
   "metadata": {},
   "outputs": [
    {
     "data": {
      "text/plain": [
       "(74066, 6)"
      ]
     },
     "execution_count": 276,
     "metadata": {},
     "output_type": "execute_result"
    }
   ],
   "source": [
    "item_data.drop_duplicates().shape"
   ]
  },
  {
   "cell_type": "code",
   "execution_count": 277,
   "metadata": {},
   "outputs": [
    {
     "data": {
      "text/plain": [
       "(74066,)"
      ]
     },
     "execution_count": 277,
     "metadata": {},
     "output_type": "execute_result"
    }
   ],
   "source": [
    "item_data.item_id.unique().shape"
   ]
  },
  {
   "cell_type": "code",
   "execution_count": 278,
   "metadata": {},
   "outputs": [],
   "source": [
    "train = pd.merge(train,coupon_item_mapping[['coupon_id','no_of_items']].drop_duplicates(),on='coupon_id',how='left')"
   ]
  },
  {
   "cell_type": "code",
   "execution_count": 279,
   "metadata": {},
   "outputs": [],
   "source": [
    "train = pd.merge(train,customer_transaction_data[['customer_id','most_purchased_item','customer_best_dotw']].drop_duplicates(),on='customer_id',how = 'left')"
   ]
  },
  {
   "cell_type": "code",
   "execution_count": 287,
   "metadata": {},
   "outputs": [],
   "source": [
    "train = pd.merge(train,customer_transaction_data[['item_id','item_best_dotw']].drop_duplicates(),left_on='most_purchased_item',right_on='item_id',how='left')"
   ]
  },
  {
   "cell_type": "code",
   "execution_count": 289,
   "metadata": {},
   "outputs": [
    {
     "data": {
      "text/html": [
       "<div>\n",
       "<style scoped>\n",
       "    .dataframe tbody tr th:only-of-type {\n",
       "        vertical-align: middle;\n",
       "    }\n",
       "\n",
       "    .dataframe tbody tr th {\n",
       "        vertical-align: top;\n",
       "    }\n",
       "\n",
       "    .dataframe thead th {\n",
       "        text-align: right;\n",
       "    }\n",
       "</style>\n",
       "<table border=\"1\" class=\"dataframe\">\n",
       "  <thead>\n",
       "    <tr style=\"text-align: right;\">\n",
       "      <th></th>\n",
       "      <th>id</th>\n",
       "      <th>campaign_id</th>\n",
       "      <th>coupon_id</th>\n",
       "      <th>customer_id</th>\n",
       "      <th>redemption_status</th>\n",
       "      <th>campaign_length</th>\n",
       "      <th>no_of_items_in_coupon</th>\n",
       "      <th>recency</th>\n",
       "      <th>avg_coupon_discount</th>\n",
       "      <th>ttl_quantity</th>\n",
       "      <th>campaign_type_X</th>\n",
       "      <th>age_range</th>\n",
       "      <th>marital_status</th>\n",
       "      <th>rented</th>\n",
       "      <th>family_size</th>\n",
       "      <th>no_of_children</th>\n",
       "      <th>income_bracket</th>\n",
       "      <th>no_of_items</th>\n",
       "      <th>most_purchased_item</th>\n",
       "      <th>customer_best_dotw</th>\n",
       "      <th>item_id</th>\n",
       "      <th>item_best_dotw</th>\n",
       "    </tr>\n",
       "  </thead>\n",
       "  <tbody>\n",
       "    <tr>\n",
       "      <th>0</th>\n",
       "      <td>1</td>\n",
       "      <td>13</td>\n",
       "      <td>27</td>\n",
       "      <td>1053</td>\n",
       "      <td>0</td>\n",
       "      <td>47</td>\n",
       "      <td>125</td>\n",
       "      <td>64</td>\n",
       "      <td>-0.287258</td>\n",
       "      <td>105551</td>\n",
       "      <td>1</td>\n",
       "      <td>3.0</td>\n",
       "      <td>3.0</td>\n",
       "      <td>0.0</td>\n",
       "      <td>1.0</td>\n",
       "      <td>0.0</td>\n",
       "      <td>5.0</td>\n",
       "      <td>125</td>\n",
       "      <td>14458</td>\n",
       "      <td>Wednesday</td>\n",
       "      <td>14458</td>\n",
       "      <td>Thursday</td>\n",
       "    </tr>\n",
       "    <tr>\n",
       "      <th>1</th>\n",
       "      <td>370</td>\n",
       "      <td>13</td>\n",
       "      <td>27</td>\n",
       "      <td>1168</td>\n",
       "      <td>0</td>\n",
       "      <td>47</td>\n",
       "      <td>125</td>\n",
       "      <td>62</td>\n",
       "      <td>-1.447444</td>\n",
       "      <td>36727</td>\n",
       "      <td>1</td>\n",
       "      <td>0.0</td>\n",
       "      <td>1.0</td>\n",
       "      <td>1.0</td>\n",
       "      <td>2.0</td>\n",
       "      <td>0.0</td>\n",
       "      <td>4.0</td>\n",
       "      <td>125</td>\n",
       "      <td>45069</td>\n",
       "      <td>Friday</td>\n",
       "      <td>45069</td>\n",
       "      <td>Friday</td>\n",
       "    </tr>\n",
       "    <tr>\n",
       "      <th>2</th>\n",
       "      <td>554</td>\n",
       "      <td>13</td>\n",
       "      <td>27</td>\n",
       "      <td>1061</td>\n",
       "      <td>0</td>\n",
       "      <td>47</td>\n",
       "      <td>125</td>\n",
       "      <td>62</td>\n",
       "      <td>-0.976282</td>\n",
       "      <td>1960</td>\n",
       "      <td>1</td>\n",
       "      <td>2.0</td>\n",
       "      <td>2.0</td>\n",
       "      <td>0.0</td>\n",
       "      <td>1.0</td>\n",
       "      <td>0.0</td>\n",
       "      <td>3.0</td>\n",
       "      <td>125</td>\n",
       "      <td>64193</td>\n",
       "      <td>Friday</td>\n",
       "      <td>64193</td>\n",
       "      <td>Friday</td>\n",
       "    </tr>\n",
       "    <tr>\n",
       "      <th>3</th>\n",
       "      <td>1958</td>\n",
       "      <td>13</td>\n",
       "      <td>27</td>\n",
       "      <td>1240</td>\n",
       "      <td>0</td>\n",
       "      <td>47</td>\n",
       "      <td>125</td>\n",
       "      <td>67</td>\n",
       "      <td>-0.264591</td>\n",
       "      <td>1116</td>\n",
       "      <td>1</td>\n",
       "      <td>1.0</td>\n",
       "      <td>1.0</td>\n",
       "      <td>0.0</td>\n",
       "      <td>5.0</td>\n",
       "      <td>3.0</td>\n",
       "      <td>5.0</td>\n",
       "      <td>125</td>\n",
       "      <td>31662</td>\n",
       "      <td>Thursday</td>\n",
       "      <td>31662</td>\n",
       "      <td>Thursday</td>\n",
       "    </tr>\n",
       "    <tr>\n",
       "      <th>4</th>\n",
       "      <td>2075</td>\n",
       "      <td>13</td>\n",
       "      <td>27</td>\n",
       "      <td>351</td>\n",
       "      <td>0</td>\n",
       "      <td>47</td>\n",
       "      <td>125</td>\n",
       "      <td>83</td>\n",
       "      <td>-0.248629</td>\n",
       "      <td>15955</td>\n",
       "      <td>1</td>\n",
       "      <td>NaN</td>\n",
       "      <td>NaN</td>\n",
       "      <td>NaN</td>\n",
       "      <td>NaN</td>\n",
       "      <td>NaN</td>\n",
       "      <td>NaN</td>\n",
       "      <td>125</td>\n",
       "      <td>7354</td>\n",
       "      <td>Thursday</td>\n",
       "      <td>7354</td>\n",
       "      <td>Sunday</td>\n",
       "    </tr>\n",
       "  </tbody>\n",
       "</table>\n",
       "</div>"
      ],
      "text/plain": [
       "     id  campaign_id  coupon_id  customer_id  redemption_status  \\\n",
       "0     1           13         27         1053                  0   \n",
       "1   370           13         27         1168                  0   \n",
       "2   554           13         27         1061                  0   \n",
       "3  1958           13         27         1240                  0   \n",
       "4  2075           13         27          351                  0   \n",
       "\n",
       "   campaign_length  no_of_items_in_coupon  recency  avg_coupon_discount  \\\n",
       "0               47                    125       64            -0.287258   \n",
       "1               47                    125       62            -1.447444   \n",
       "2               47                    125       62            -0.976282   \n",
       "3               47                    125       67            -0.264591   \n",
       "4               47                    125       83            -0.248629   \n",
       "\n",
       "   ttl_quantity  campaign_type_X  age_range  marital_status  rented  \\\n",
       "0        105551                1        3.0             3.0     0.0   \n",
       "1         36727                1        0.0             1.0     1.0   \n",
       "2          1960                1        2.0             2.0     0.0   \n",
       "3          1116                1        1.0             1.0     0.0   \n",
       "4         15955                1        NaN             NaN     NaN   \n",
       "\n",
       "   family_size  no_of_children  income_bracket  no_of_items  \\\n",
       "0          1.0             0.0             5.0          125   \n",
       "1          2.0             0.0             4.0          125   \n",
       "2          1.0             0.0             3.0          125   \n",
       "3          5.0             3.0             5.0          125   \n",
       "4          NaN             NaN             NaN          125   \n",
       "\n",
       "   most_purchased_item customer_best_dotw  item_id item_best_dotw  \n",
       "0                14458          Wednesday    14458       Thursday  \n",
       "1                45069             Friday    45069         Friday  \n",
       "2                64193             Friday    64193         Friday  \n",
       "3                31662           Thursday    31662       Thursday  \n",
       "4                 7354           Thursday     7354         Sunday  "
      ]
     },
     "execution_count": 289,
     "metadata": {},
     "output_type": "execute_result"
    }
   ],
   "source": [
    "train.head()"
   ]
  },
  {
   "cell_type": "code",
   "execution_count": 291,
   "metadata": {},
   "outputs": [],
   "source": [
    "train = pd.get_dummies(train,columns = {'item_best_dotw','customer_best_dotw'} )"
   ]
  },
  {
   "cell_type": "code",
   "execution_count": 363,
   "metadata": {},
   "outputs": [
    {
     "name": "stderr",
     "output_type": "stream",
     "text": [
      "C:\\Users\\ezchave\\AppData\\Local\\Continuum\\anaconda3\\lib\\site-packages\\sklearn\\utils\\deprecation.py:66: DeprecationWarning: Class Imputer is deprecated; Imputer was deprecated in version 0.20 and will be removed in 0.22. Import impute.SimpleImputer from sklearn instead.\n",
      "  warnings.warn(msg, category=DeprecationWarning)\n"
     ]
    }
   ],
   "source": [
    "my_imputer = Imputer()\n",
    "train_ = my_imputer.fit_transform(train.drop('redemption_status',axis=1))\n",
    "x = pd.DataFrame(train_)\n",
    "x.columns = train.drop('redemption_status',axis=1).columns\n",
    "x['redemption_status'] = train.redemption_status"
   ]
  },
  {
   "cell_type": "code",
   "execution_count": 364,
   "metadata": {},
   "outputs": [
    {
     "data": {
      "text/plain": [
       "(78369, 34)"
      ]
     },
     "execution_count": 364,
     "metadata": {},
     "output_type": "execute_result"
    }
   ],
   "source": [
    "train.shape"
   ]
  },
  {
   "cell_type": "code",
   "execution_count": 365,
   "metadata": {},
   "outputs": [
    {
     "data": {
      "text/html": [
       "<div>\n",
       "<style scoped>\n",
       "    .dataframe tbody tr th:only-of-type {\n",
       "        vertical-align: middle;\n",
       "    }\n",
       "\n",
       "    .dataframe tbody tr th {\n",
       "        vertical-align: top;\n",
       "    }\n",
       "\n",
       "    .dataframe thead th {\n",
       "        text-align: right;\n",
       "    }\n",
       "</style>\n",
       "<table border=\"1\" class=\"dataframe\">\n",
       "  <thead>\n",
       "    <tr style=\"text-align: right;\">\n",
       "      <th></th>\n",
       "      <th>id</th>\n",
       "      <th>campaign_id</th>\n",
       "      <th>coupon_id</th>\n",
       "      <th>customer_id</th>\n",
       "      <th>campaign_length</th>\n",
       "      <th>no_of_items_in_coupon</th>\n",
       "      <th>recency</th>\n",
       "      <th>avg_coupon_discount</th>\n",
       "      <th>ttl_quantity</th>\n",
       "      <th>campaign_type_X</th>\n",
       "      <th>age_range</th>\n",
       "      <th>marital_status</th>\n",
       "      <th>rented</th>\n",
       "      <th>family_size</th>\n",
       "      <th>no_of_children</th>\n",
       "      <th>income_bracket</th>\n",
       "      <th>no_of_items</th>\n",
       "      <th>most_purchased_item</th>\n",
       "      <th>item_id</th>\n",
       "      <th>customer_best_dotw_Friday</th>\n",
       "      <th>customer_best_dotw_Monday</th>\n",
       "      <th>customer_best_dotw_Saturday</th>\n",
       "      <th>customer_best_dotw_Sunday</th>\n",
       "      <th>customer_best_dotw_Thursday</th>\n",
       "      <th>customer_best_dotw_Tuesday</th>\n",
       "      <th>customer_best_dotw_Wednesday</th>\n",
       "      <th>item_best_dotw_Friday</th>\n",
       "      <th>item_best_dotw_Monday</th>\n",
       "      <th>item_best_dotw_Saturday</th>\n",
       "      <th>item_best_dotw_Sunday</th>\n",
       "      <th>item_best_dotw_Thursday</th>\n",
       "      <th>item_best_dotw_Tuesday</th>\n",
       "      <th>item_best_dotw_Wednesday</th>\n",
       "      <th>redemption_status</th>\n",
       "    </tr>\n",
       "  </thead>\n",
       "  <tbody>\n",
       "    <tr>\n",
       "      <th>0</th>\n",
       "      <td>1.0</td>\n",
       "      <td>13.0</td>\n",
       "      <td>27.0</td>\n",
       "      <td>1053.0</td>\n",
       "      <td>47.0</td>\n",
       "      <td>125.0</td>\n",
       "      <td>64.0</td>\n",
       "      <td>-0.287258</td>\n",
       "      <td>105551.0</td>\n",
       "      <td>1.0</td>\n",
       "      <td>3.000000</td>\n",
       "      <td>3.00000</td>\n",
       "      <td>0.000000</td>\n",
       "      <td>1.000000</td>\n",
       "      <td>0.000000</td>\n",
       "      <td>5.000000</td>\n",
       "      <td>125.0</td>\n",
       "      <td>14458.0</td>\n",
       "      <td>14458.0</td>\n",
       "      <td>0.0</td>\n",
       "      <td>0.0</td>\n",
       "      <td>0.0</td>\n",
       "      <td>0.0</td>\n",
       "      <td>0.0</td>\n",
       "      <td>0.0</td>\n",
       "      <td>1.0</td>\n",
       "      <td>0.0</td>\n",
       "      <td>0.0</td>\n",
       "      <td>0.0</td>\n",
       "      <td>0.0</td>\n",
       "      <td>1.0</td>\n",
       "      <td>0.0</td>\n",
       "      <td>0.0</td>\n",
       "      <td>0</td>\n",
       "    </tr>\n",
       "    <tr>\n",
       "      <th>1</th>\n",
       "      <td>370.0</td>\n",
       "      <td>13.0</td>\n",
       "      <td>27.0</td>\n",
       "      <td>1168.0</td>\n",
       "      <td>47.0</td>\n",
       "      <td>125.0</td>\n",
       "      <td>62.0</td>\n",
       "      <td>-1.447444</td>\n",
       "      <td>36727.0</td>\n",
       "      <td>1.0</td>\n",
       "      <td>0.000000</td>\n",
       "      <td>1.00000</td>\n",
       "      <td>1.000000</td>\n",
       "      <td>2.000000</td>\n",
       "      <td>0.000000</td>\n",
       "      <td>4.000000</td>\n",
       "      <td>125.0</td>\n",
       "      <td>45069.0</td>\n",
       "      <td>45069.0</td>\n",
       "      <td>1.0</td>\n",
       "      <td>0.0</td>\n",
       "      <td>0.0</td>\n",
       "      <td>0.0</td>\n",
       "      <td>0.0</td>\n",
       "      <td>0.0</td>\n",
       "      <td>0.0</td>\n",
       "      <td>1.0</td>\n",
       "      <td>0.0</td>\n",
       "      <td>0.0</td>\n",
       "      <td>0.0</td>\n",
       "      <td>0.0</td>\n",
       "      <td>0.0</td>\n",
       "      <td>0.0</td>\n",
       "      <td>0</td>\n",
       "    </tr>\n",
       "    <tr>\n",
       "      <th>2</th>\n",
       "      <td>554.0</td>\n",
       "      <td>13.0</td>\n",
       "      <td>27.0</td>\n",
       "      <td>1061.0</td>\n",
       "      <td>47.0</td>\n",
       "      <td>125.0</td>\n",
       "      <td>62.0</td>\n",
       "      <td>-0.976282</td>\n",
       "      <td>1960.0</td>\n",
       "      <td>1.0</td>\n",
       "      <td>2.000000</td>\n",
       "      <td>2.00000</td>\n",
       "      <td>0.000000</td>\n",
       "      <td>1.000000</td>\n",
       "      <td>0.000000</td>\n",
       "      <td>3.000000</td>\n",
       "      <td>125.0</td>\n",
       "      <td>64193.0</td>\n",
       "      <td>64193.0</td>\n",
       "      <td>1.0</td>\n",
       "      <td>0.0</td>\n",
       "      <td>0.0</td>\n",
       "      <td>0.0</td>\n",
       "      <td>0.0</td>\n",
       "      <td>0.0</td>\n",
       "      <td>0.0</td>\n",
       "      <td>1.0</td>\n",
       "      <td>0.0</td>\n",
       "      <td>0.0</td>\n",
       "      <td>0.0</td>\n",
       "      <td>0.0</td>\n",
       "      <td>0.0</td>\n",
       "      <td>0.0</td>\n",
       "      <td>0</td>\n",
       "    </tr>\n",
       "    <tr>\n",
       "      <th>3</th>\n",
       "      <td>1958.0</td>\n",
       "      <td>13.0</td>\n",
       "      <td>27.0</td>\n",
       "      <td>1240.0</td>\n",
       "      <td>47.0</td>\n",
       "      <td>125.0</td>\n",
       "      <td>67.0</td>\n",
       "      <td>-0.264591</td>\n",
       "      <td>1116.0</td>\n",
       "      <td>1.0</td>\n",
       "      <td>1.000000</td>\n",
       "      <td>1.00000</td>\n",
       "      <td>0.000000</td>\n",
       "      <td>5.000000</td>\n",
       "      <td>3.000000</td>\n",
       "      <td>5.000000</td>\n",
       "      <td>125.0</td>\n",
       "      <td>31662.0</td>\n",
       "      <td>31662.0</td>\n",
       "      <td>0.0</td>\n",
       "      <td>0.0</td>\n",
       "      <td>0.0</td>\n",
       "      <td>0.0</td>\n",
       "      <td>1.0</td>\n",
       "      <td>0.0</td>\n",
       "      <td>0.0</td>\n",
       "      <td>0.0</td>\n",
       "      <td>0.0</td>\n",
       "      <td>0.0</td>\n",
       "      <td>0.0</td>\n",
       "      <td>1.0</td>\n",
       "      <td>0.0</td>\n",
       "      <td>0.0</td>\n",
       "      <td>0</td>\n",
       "    </tr>\n",
       "    <tr>\n",
       "      <th>4</th>\n",
       "      <td>2075.0</td>\n",
       "      <td>13.0</td>\n",
       "      <td>27.0</td>\n",
       "      <td>351.0</td>\n",
       "      <td>47.0</td>\n",
       "      <td>125.0</td>\n",
       "      <td>83.0</td>\n",
       "      <td>-0.248629</td>\n",
       "      <td>15955.0</td>\n",
       "      <td>1.0</td>\n",
       "      <td>2.433934</td>\n",
       "      <td>1.98754</td>\n",
       "      <td>0.057374</td>\n",
       "      <td>2.233572</td>\n",
       "      <td>0.584984</td>\n",
       "      <td>4.802478</td>\n",
       "      <td>125.0</td>\n",
       "      <td>7354.0</td>\n",
       "      <td>7354.0</td>\n",
       "      <td>0.0</td>\n",
       "      <td>0.0</td>\n",
       "      <td>0.0</td>\n",
       "      <td>0.0</td>\n",
       "      <td>1.0</td>\n",
       "      <td>0.0</td>\n",
       "      <td>0.0</td>\n",
       "      <td>0.0</td>\n",
       "      <td>0.0</td>\n",
       "      <td>0.0</td>\n",
       "      <td>1.0</td>\n",
       "      <td>0.0</td>\n",
       "      <td>0.0</td>\n",
       "      <td>0.0</td>\n",
       "      <td>0</td>\n",
       "    </tr>\n",
       "  </tbody>\n",
       "</table>\n",
       "</div>"
      ],
      "text/plain": [
       "       id  campaign_id  coupon_id  customer_id  campaign_length  \\\n",
       "0     1.0         13.0       27.0       1053.0             47.0   \n",
       "1   370.0         13.0       27.0       1168.0             47.0   \n",
       "2   554.0         13.0       27.0       1061.0             47.0   \n",
       "3  1958.0         13.0       27.0       1240.0             47.0   \n",
       "4  2075.0         13.0       27.0        351.0             47.0   \n",
       "\n",
       "   no_of_items_in_coupon  recency  avg_coupon_discount  ttl_quantity  \\\n",
       "0                  125.0     64.0            -0.287258      105551.0   \n",
       "1                  125.0     62.0            -1.447444       36727.0   \n",
       "2                  125.0     62.0            -0.976282        1960.0   \n",
       "3                  125.0     67.0            -0.264591        1116.0   \n",
       "4                  125.0     83.0            -0.248629       15955.0   \n",
       "\n",
       "   campaign_type_X  age_range  marital_status    rented  family_size  \\\n",
       "0              1.0   3.000000         3.00000  0.000000     1.000000   \n",
       "1              1.0   0.000000         1.00000  1.000000     2.000000   \n",
       "2              1.0   2.000000         2.00000  0.000000     1.000000   \n",
       "3              1.0   1.000000         1.00000  0.000000     5.000000   \n",
       "4              1.0   2.433934         1.98754  0.057374     2.233572   \n",
       "\n",
       "   no_of_children  income_bracket  no_of_items  most_purchased_item  item_id  \\\n",
       "0        0.000000        5.000000        125.0              14458.0  14458.0   \n",
       "1        0.000000        4.000000        125.0              45069.0  45069.0   \n",
       "2        0.000000        3.000000        125.0              64193.0  64193.0   \n",
       "3        3.000000        5.000000        125.0              31662.0  31662.0   \n",
       "4        0.584984        4.802478        125.0               7354.0   7354.0   \n",
       "\n",
       "   customer_best_dotw_Friday  customer_best_dotw_Monday  \\\n",
       "0                        0.0                        0.0   \n",
       "1                        1.0                        0.0   \n",
       "2                        1.0                        0.0   \n",
       "3                        0.0                        0.0   \n",
       "4                        0.0                        0.0   \n",
       "\n",
       "   customer_best_dotw_Saturday  customer_best_dotw_Sunday  \\\n",
       "0                          0.0                        0.0   \n",
       "1                          0.0                        0.0   \n",
       "2                          0.0                        0.0   \n",
       "3                          0.0                        0.0   \n",
       "4                          0.0                        0.0   \n",
       "\n",
       "   customer_best_dotw_Thursday  customer_best_dotw_Tuesday  \\\n",
       "0                          0.0                         0.0   \n",
       "1                          0.0                         0.0   \n",
       "2                          0.0                         0.0   \n",
       "3                          1.0                         0.0   \n",
       "4                          1.0                         0.0   \n",
       "\n",
       "   customer_best_dotw_Wednesday  item_best_dotw_Friday  item_best_dotw_Monday  \\\n",
       "0                           1.0                    0.0                    0.0   \n",
       "1                           0.0                    1.0                    0.0   \n",
       "2                           0.0                    1.0                    0.0   \n",
       "3                           0.0                    0.0                    0.0   \n",
       "4                           0.0                    0.0                    0.0   \n",
       "\n",
       "   item_best_dotw_Saturday  item_best_dotw_Sunday  item_best_dotw_Thursday  \\\n",
       "0                      0.0                    0.0                      1.0   \n",
       "1                      0.0                    0.0                      0.0   \n",
       "2                      0.0                    0.0                      0.0   \n",
       "3                      0.0                    0.0                      1.0   \n",
       "4                      0.0                    1.0                      0.0   \n",
       "\n",
       "   item_best_dotw_Tuesday  item_best_dotw_Wednesday  redemption_status  \n",
       "0                     0.0                       0.0                  0  \n",
       "1                     0.0                       0.0                  0  \n",
       "2                     0.0                       0.0                  0  \n",
       "3                     0.0                       0.0                  0  \n",
       "4                     0.0                       0.0                  0  "
      ]
     },
     "execution_count": 365,
     "metadata": {},
     "output_type": "execute_result"
    }
   ],
   "source": [
    "x.head()"
   ]
  },
  {
   "cell_type": "code",
   "execution_count": 366,
   "metadata": {},
   "outputs": [],
   "source": [
    "x.age_range = x.age_range.round()\n",
    "x.marital_status = x.marital_status.round()\n",
    "x.rented = x.rented.round()\n",
    "x.family_size = x.family_size.round()\n",
    "x.no_of_children = x.no_of_children.round()\n",
    "x.income_bracket = x.income_bracket.round()\n",
    "x1 = pd.get_dummies(x,columns = {'age_range','marital_status','rented','family_size','no_of_children','income_bracket'})"
   ]
  },
  {
   "cell_type": "code",
   "execution_count": 367,
   "metadata": {},
   "outputs": [
    {
     "data": {
      "text/html": [
       "<div>\n",
       "<style scoped>\n",
       "    .dataframe tbody tr th:only-of-type {\n",
       "        vertical-align: middle;\n",
       "    }\n",
       "\n",
       "    .dataframe tbody tr th {\n",
       "        vertical-align: top;\n",
       "    }\n",
       "\n",
       "    .dataframe thead th {\n",
       "        text-align: right;\n",
       "    }\n",
       "</style>\n",
       "<table border=\"1\" class=\"dataframe\">\n",
       "  <thead>\n",
       "    <tr style=\"text-align: right;\">\n",
       "      <th></th>\n",
       "      <th>id</th>\n",
       "      <th>campaign_id</th>\n",
       "      <th>coupon_id</th>\n",
       "      <th>customer_id</th>\n",
       "      <th>campaign_length</th>\n",
       "      <th>no_of_items_in_coupon</th>\n",
       "      <th>recency</th>\n",
       "      <th>avg_coupon_discount</th>\n",
       "      <th>ttl_quantity</th>\n",
       "      <th>campaign_type_X</th>\n",
       "      <th>no_of_items</th>\n",
       "      <th>most_purchased_item</th>\n",
       "      <th>item_id</th>\n",
       "      <th>customer_best_dotw_Friday</th>\n",
       "      <th>customer_best_dotw_Monday</th>\n",
       "      <th>customer_best_dotw_Saturday</th>\n",
       "      <th>customer_best_dotw_Sunday</th>\n",
       "      <th>customer_best_dotw_Thursday</th>\n",
       "      <th>customer_best_dotw_Tuesday</th>\n",
       "      <th>customer_best_dotw_Wednesday</th>\n",
       "      <th>item_best_dotw_Friday</th>\n",
       "      <th>item_best_dotw_Monday</th>\n",
       "      <th>item_best_dotw_Saturday</th>\n",
       "      <th>item_best_dotw_Sunday</th>\n",
       "      <th>item_best_dotw_Thursday</th>\n",
       "      <th>item_best_dotw_Tuesday</th>\n",
       "      <th>item_best_dotw_Wednesday</th>\n",
       "      <th>redemption_status</th>\n",
       "      <th>marital_status_1.0</th>\n",
       "      <th>marital_status_2.0</th>\n",
       "      <th>marital_status_3.0</th>\n",
       "      <th>family_size_1.0</th>\n",
       "      <th>family_size_2.0</th>\n",
       "      <th>family_size_3.0</th>\n",
       "      <th>family_size_4.0</th>\n",
       "      <th>family_size_5.0</th>\n",
       "      <th>age_range_0.0</th>\n",
       "      <th>age_range_1.0</th>\n",
       "      <th>age_range_2.0</th>\n",
       "      <th>age_range_3.0</th>\n",
       "      <th>age_range_4.0</th>\n",
       "      <th>age_range_5.0</th>\n",
       "      <th>no_of_children_0.0</th>\n",
       "      <th>no_of_children_1.0</th>\n",
       "      <th>no_of_children_2.0</th>\n",
       "      <th>no_of_children_3.0</th>\n",
       "      <th>income_bracket_1.0</th>\n",
       "      <th>income_bracket_2.0</th>\n",
       "      <th>income_bracket_3.0</th>\n",
       "      <th>income_bracket_4.0</th>\n",
       "      <th>income_bracket_5.0</th>\n",
       "      <th>income_bracket_6.0</th>\n",
       "      <th>income_bracket_7.0</th>\n",
       "      <th>income_bracket_8.0</th>\n",
       "      <th>income_bracket_9.0</th>\n",
       "      <th>income_bracket_10.0</th>\n",
       "      <th>income_bracket_11.0</th>\n",
       "      <th>income_bracket_12.0</th>\n",
       "      <th>rented_0.0</th>\n",
       "      <th>rented_1.0</th>\n",
       "    </tr>\n",
       "  </thead>\n",
       "  <tbody>\n",
       "    <tr>\n",
       "      <th>0</th>\n",
       "      <td>1.0</td>\n",
       "      <td>13.0</td>\n",
       "      <td>27.0</td>\n",
       "      <td>1053.0</td>\n",
       "      <td>47.0</td>\n",
       "      <td>125.0</td>\n",
       "      <td>64.0</td>\n",
       "      <td>-0.287258</td>\n",
       "      <td>105551.0</td>\n",
       "      <td>1.0</td>\n",
       "      <td>125.0</td>\n",
       "      <td>14458.0</td>\n",
       "      <td>14458.0</td>\n",
       "      <td>0.0</td>\n",
       "      <td>0.0</td>\n",
       "      <td>0.0</td>\n",
       "      <td>0.0</td>\n",
       "      <td>0.0</td>\n",
       "      <td>0.0</td>\n",
       "      <td>1.0</td>\n",
       "      <td>0.0</td>\n",
       "      <td>0.0</td>\n",
       "      <td>0.0</td>\n",
       "      <td>0.0</td>\n",
       "      <td>1.0</td>\n",
       "      <td>0.0</td>\n",
       "      <td>0.0</td>\n",
       "      <td>0</td>\n",
       "      <td>0</td>\n",
       "      <td>0</td>\n",
       "      <td>1</td>\n",
       "      <td>1</td>\n",
       "      <td>0</td>\n",
       "      <td>0</td>\n",
       "      <td>0</td>\n",
       "      <td>0</td>\n",
       "      <td>0</td>\n",
       "      <td>0</td>\n",
       "      <td>0</td>\n",
       "      <td>1</td>\n",
       "      <td>0</td>\n",
       "      <td>0</td>\n",
       "      <td>1</td>\n",
       "      <td>0</td>\n",
       "      <td>0</td>\n",
       "      <td>0</td>\n",
       "      <td>0</td>\n",
       "      <td>0</td>\n",
       "      <td>0</td>\n",
       "      <td>0</td>\n",
       "      <td>1</td>\n",
       "      <td>0</td>\n",
       "      <td>0</td>\n",
       "      <td>0</td>\n",
       "      <td>0</td>\n",
       "      <td>0</td>\n",
       "      <td>0</td>\n",
       "      <td>0</td>\n",
       "      <td>1</td>\n",
       "      <td>0</td>\n",
       "    </tr>\n",
       "    <tr>\n",
       "      <th>1</th>\n",
       "      <td>370.0</td>\n",
       "      <td>13.0</td>\n",
       "      <td>27.0</td>\n",
       "      <td>1168.0</td>\n",
       "      <td>47.0</td>\n",
       "      <td>125.0</td>\n",
       "      <td>62.0</td>\n",
       "      <td>-1.447444</td>\n",
       "      <td>36727.0</td>\n",
       "      <td>1.0</td>\n",
       "      <td>125.0</td>\n",
       "      <td>45069.0</td>\n",
       "      <td>45069.0</td>\n",
       "      <td>1.0</td>\n",
       "      <td>0.0</td>\n",
       "      <td>0.0</td>\n",
       "      <td>0.0</td>\n",
       "      <td>0.0</td>\n",
       "      <td>0.0</td>\n",
       "      <td>0.0</td>\n",
       "      <td>1.0</td>\n",
       "      <td>0.0</td>\n",
       "      <td>0.0</td>\n",
       "      <td>0.0</td>\n",
       "      <td>0.0</td>\n",
       "      <td>0.0</td>\n",
       "      <td>0.0</td>\n",
       "      <td>0</td>\n",
       "      <td>1</td>\n",
       "      <td>0</td>\n",
       "      <td>0</td>\n",
       "      <td>0</td>\n",
       "      <td>1</td>\n",
       "      <td>0</td>\n",
       "      <td>0</td>\n",
       "      <td>0</td>\n",
       "      <td>1</td>\n",
       "      <td>0</td>\n",
       "      <td>0</td>\n",
       "      <td>0</td>\n",
       "      <td>0</td>\n",
       "      <td>0</td>\n",
       "      <td>1</td>\n",
       "      <td>0</td>\n",
       "      <td>0</td>\n",
       "      <td>0</td>\n",
       "      <td>0</td>\n",
       "      <td>0</td>\n",
       "      <td>0</td>\n",
       "      <td>1</td>\n",
       "      <td>0</td>\n",
       "      <td>0</td>\n",
       "      <td>0</td>\n",
       "      <td>0</td>\n",
       "      <td>0</td>\n",
       "      <td>0</td>\n",
       "      <td>0</td>\n",
       "      <td>0</td>\n",
       "      <td>0</td>\n",
       "      <td>1</td>\n",
       "    </tr>\n",
       "    <tr>\n",
       "      <th>2</th>\n",
       "      <td>554.0</td>\n",
       "      <td>13.0</td>\n",
       "      <td>27.0</td>\n",
       "      <td>1061.0</td>\n",
       "      <td>47.0</td>\n",
       "      <td>125.0</td>\n",
       "      <td>62.0</td>\n",
       "      <td>-0.976282</td>\n",
       "      <td>1960.0</td>\n",
       "      <td>1.0</td>\n",
       "      <td>125.0</td>\n",
       "      <td>64193.0</td>\n",
       "      <td>64193.0</td>\n",
       "      <td>1.0</td>\n",
       "      <td>0.0</td>\n",
       "      <td>0.0</td>\n",
       "      <td>0.0</td>\n",
       "      <td>0.0</td>\n",
       "      <td>0.0</td>\n",
       "      <td>0.0</td>\n",
       "      <td>1.0</td>\n",
       "      <td>0.0</td>\n",
       "      <td>0.0</td>\n",
       "      <td>0.0</td>\n",
       "      <td>0.0</td>\n",
       "      <td>0.0</td>\n",
       "      <td>0.0</td>\n",
       "      <td>0</td>\n",
       "      <td>0</td>\n",
       "      <td>1</td>\n",
       "      <td>0</td>\n",
       "      <td>1</td>\n",
       "      <td>0</td>\n",
       "      <td>0</td>\n",
       "      <td>0</td>\n",
       "      <td>0</td>\n",
       "      <td>0</td>\n",
       "      <td>0</td>\n",
       "      <td>1</td>\n",
       "      <td>0</td>\n",
       "      <td>0</td>\n",
       "      <td>0</td>\n",
       "      <td>1</td>\n",
       "      <td>0</td>\n",
       "      <td>0</td>\n",
       "      <td>0</td>\n",
       "      <td>0</td>\n",
       "      <td>0</td>\n",
       "      <td>1</td>\n",
       "      <td>0</td>\n",
       "      <td>0</td>\n",
       "      <td>0</td>\n",
       "      <td>0</td>\n",
       "      <td>0</td>\n",
       "      <td>0</td>\n",
       "      <td>0</td>\n",
       "      <td>0</td>\n",
       "      <td>0</td>\n",
       "      <td>1</td>\n",
       "      <td>0</td>\n",
       "    </tr>\n",
       "    <tr>\n",
       "      <th>3</th>\n",
       "      <td>1958.0</td>\n",
       "      <td>13.0</td>\n",
       "      <td>27.0</td>\n",
       "      <td>1240.0</td>\n",
       "      <td>47.0</td>\n",
       "      <td>125.0</td>\n",
       "      <td>67.0</td>\n",
       "      <td>-0.264591</td>\n",
       "      <td>1116.0</td>\n",
       "      <td>1.0</td>\n",
       "      <td>125.0</td>\n",
       "      <td>31662.0</td>\n",
       "      <td>31662.0</td>\n",
       "      <td>0.0</td>\n",
       "      <td>0.0</td>\n",
       "      <td>0.0</td>\n",
       "      <td>0.0</td>\n",
       "      <td>1.0</td>\n",
       "      <td>0.0</td>\n",
       "      <td>0.0</td>\n",
       "      <td>0.0</td>\n",
       "      <td>0.0</td>\n",
       "      <td>0.0</td>\n",
       "      <td>0.0</td>\n",
       "      <td>1.0</td>\n",
       "      <td>0.0</td>\n",
       "      <td>0.0</td>\n",
       "      <td>0</td>\n",
       "      <td>1</td>\n",
       "      <td>0</td>\n",
       "      <td>0</td>\n",
       "      <td>0</td>\n",
       "      <td>0</td>\n",
       "      <td>0</td>\n",
       "      <td>0</td>\n",
       "      <td>1</td>\n",
       "      <td>0</td>\n",
       "      <td>1</td>\n",
       "      <td>0</td>\n",
       "      <td>0</td>\n",
       "      <td>0</td>\n",
       "      <td>0</td>\n",
       "      <td>0</td>\n",
       "      <td>0</td>\n",
       "      <td>0</td>\n",
       "      <td>1</td>\n",
       "      <td>0</td>\n",
       "      <td>0</td>\n",
       "      <td>0</td>\n",
       "      <td>0</td>\n",
       "      <td>1</td>\n",
       "      <td>0</td>\n",
       "      <td>0</td>\n",
       "      <td>0</td>\n",
       "      <td>0</td>\n",
       "      <td>0</td>\n",
       "      <td>0</td>\n",
       "      <td>0</td>\n",
       "      <td>1</td>\n",
       "      <td>0</td>\n",
       "    </tr>\n",
       "    <tr>\n",
       "      <th>4</th>\n",
       "      <td>2075.0</td>\n",
       "      <td>13.0</td>\n",
       "      <td>27.0</td>\n",
       "      <td>351.0</td>\n",
       "      <td>47.0</td>\n",
       "      <td>125.0</td>\n",
       "      <td>83.0</td>\n",
       "      <td>-0.248629</td>\n",
       "      <td>15955.0</td>\n",
       "      <td>1.0</td>\n",
       "      <td>125.0</td>\n",
       "      <td>7354.0</td>\n",
       "      <td>7354.0</td>\n",
       "      <td>0.0</td>\n",
       "      <td>0.0</td>\n",
       "      <td>0.0</td>\n",
       "      <td>0.0</td>\n",
       "      <td>1.0</td>\n",
       "      <td>0.0</td>\n",
       "      <td>0.0</td>\n",
       "      <td>0.0</td>\n",
       "      <td>0.0</td>\n",
       "      <td>0.0</td>\n",
       "      <td>1.0</td>\n",
       "      <td>0.0</td>\n",
       "      <td>0.0</td>\n",
       "      <td>0.0</td>\n",
       "      <td>0</td>\n",
       "      <td>0</td>\n",
       "      <td>1</td>\n",
       "      <td>0</td>\n",
       "      <td>0</td>\n",
       "      <td>1</td>\n",
       "      <td>0</td>\n",
       "      <td>0</td>\n",
       "      <td>0</td>\n",
       "      <td>0</td>\n",
       "      <td>0</td>\n",
       "      <td>1</td>\n",
       "      <td>0</td>\n",
       "      <td>0</td>\n",
       "      <td>0</td>\n",
       "      <td>0</td>\n",
       "      <td>1</td>\n",
       "      <td>0</td>\n",
       "      <td>0</td>\n",
       "      <td>0</td>\n",
       "      <td>0</td>\n",
       "      <td>0</td>\n",
       "      <td>0</td>\n",
       "      <td>1</td>\n",
       "      <td>0</td>\n",
       "      <td>0</td>\n",
       "      <td>0</td>\n",
       "      <td>0</td>\n",
       "      <td>0</td>\n",
       "      <td>0</td>\n",
       "      <td>0</td>\n",
       "      <td>1</td>\n",
       "      <td>0</td>\n",
       "    </tr>\n",
       "  </tbody>\n",
       "</table>\n",
       "</div>"
      ],
      "text/plain": [
       "       id  campaign_id  coupon_id  customer_id  campaign_length  \\\n",
       "0     1.0         13.0       27.0       1053.0             47.0   \n",
       "1   370.0         13.0       27.0       1168.0             47.0   \n",
       "2   554.0         13.0       27.0       1061.0             47.0   \n",
       "3  1958.0         13.0       27.0       1240.0             47.0   \n",
       "4  2075.0         13.0       27.0        351.0             47.0   \n",
       "\n",
       "   no_of_items_in_coupon  recency  avg_coupon_discount  ttl_quantity  \\\n",
       "0                  125.0     64.0            -0.287258      105551.0   \n",
       "1                  125.0     62.0            -1.447444       36727.0   \n",
       "2                  125.0     62.0            -0.976282        1960.0   \n",
       "3                  125.0     67.0            -0.264591        1116.0   \n",
       "4                  125.0     83.0            -0.248629       15955.0   \n",
       "\n",
       "   campaign_type_X  no_of_items  most_purchased_item  item_id  \\\n",
       "0              1.0        125.0              14458.0  14458.0   \n",
       "1              1.0        125.0              45069.0  45069.0   \n",
       "2              1.0        125.0              64193.0  64193.0   \n",
       "3              1.0        125.0              31662.0  31662.0   \n",
       "4              1.0        125.0               7354.0   7354.0   \n",
       "\n",
       "   customer_best_dotw_Friday  customer_best_dotw_Monday  \\\n",
       "0                        0.0                        0.0   \n",
       "1                        1.0                        0.0   \n",
       "2                        1.0                        0.0   \n",
       "3                        0.0                        0.0   \n",
       "4                        0.0                        0.0   \n",
       "\n",
       "   customer_best_dotw_Saturday  customer_best_dotw_Sunday  \\\n",
       "0                          0.0                        0.0   \n",
       "1                          0.0                        0.0   \n",
       "2                          0.0                        0.0   \n",
       "3                          0.0                        0.0   \n",
       "4                          0.0                        0.0   \n",
       "\n",
       "   customer_best_dotw_Thursday  customer_best_dotw_Tuesday  \\\n",
       "0                          0.0                         0.0   \n",
       "1                          0.0                         0.0   \n",
       "2                          0.0                         0.0   \n",
       "3                          1.0                         0.0   \n",
       "4                          1.0                         0.0   \n",
       "\n",
       "   customer_best_dotw_Wednesday  item_best_dotw_Friday  item_best_dotw_Monday  \\\n",
       "0                           1.0                    0.0                    0.0   \n",
       "1                           0.0                    1.0                    0.0   \n",
       "2                           0.0                    1.0                    0.0   \n",
       "3                           0.0                    0.0                    0.0   \n",
       "4                           0.0                    0.0                    0.0   \n",
       "\n",
       "   item_best_dotw_Saturday  item_best_dotw_Sunday  item_best_dotw_Thursday  \\\n",
       "0                      0.0                    0.0                      1.0   \n",
       "1                      0.0                    0.0                      0.0   \n",
       "2                      0.0                    0.0                      0.0   \n",
       "3                      0.0                    0.0                      1.0   \n",
       "4                      0.0                    1.0                      0.0   \n",
       "\n",
       "   item_best_dotw_Tuesday  item_best_dotw_Wednesday  redemption_status  \\\n",
       "0                     0.0                       0.0                  0   \n",
       "1                     0.0                       0.0                  0   \n",
       "2                     0.0                       0.0                  0   \n",
       "3                     0.0                       0.0                  0   \n",
       "4                     0.0                       0.0                  0   \n",
       "\n",
       "   marital_status_1.0  marital_status_2.0  marital_status_3.0  \\\n",
       "0                   0                   0                   1   \n",
       "1                   1                   0                   0   \n",
       "2                   0                   1                   0   \n",
       "3                   1                   0                   0   \n",
       "4                   0                   1                   0   \n",
       "\n",
       "   family_size_1.0  family_size_2.0  family_size_3.0  family_size_4.0  \\\n",
       "0                1                0                0                0   \n",
       "1                0                1                0                0   \n",
       "2                1                0                0                0   \n",
       "3                0                0                0                0   \n",
       "4                0                1                0                0   \n",
       "\n",
       "   family_size_5.0  age_range_0.0  age_range_1.0  age_range_2.0  \\\n",
       "0                0              0              0              0   \n",
       "1                0              1              0              0   \n",
       "2                0              0              0              1   \n",
       "3                1              0              1              0   \n",
       "4                0              0              0              1   \n",
       "\n",
       "   age_range_3.0  age_range_4.0  age_range_5.0  no_of_children_0.0  \\\n",
       "0              1              0              0                   1   \n",
       "1              0              0              0                   1   \n",
       "2              0              0              0                   1   \n",
       "3              0              0              0                   0   \n",
       "4              0              0              0                   0   \n",
       "\n",
       "   no_of_children_1.0  no_of_children_2.0  no_of_children_3.0  \\\n",
       "0                   0                   0                   0   \n",
       "1                   0                   0                   0   \n",
       "2                   0                   0                   0   \n",
       "3                   0                   0                   1   \n",
       "4                   1                   0                   0   \n",
       "\n",
       "   income_bracket_1.0  income_bracket_2.0  income_bracket_3.0  \\\n",
       "0                   0                   0                   0   \n",
       "1                   0                   0                   0   \n",
       "2                   0                   0                   1   \n",
       "3                   0                   0                   0   \n",
       "4                   0                   0                   0   \n",
       "\n",
       "   income_bracket_4.0  income_bracket_5.0  income_bracket_6.0  \\\n",
       "0                   0                   1                   0   \n",
       "1                   1                   0                   0   \n",
       "2                   0                   0                   0   \n",
       "3                   0                   1                   0   \n",
       "4                   0                   1                   0   \n",
       "\n",
       "   income_bracket_7.0  income_bracket_8.0  income_bracket_9.0  \\\n",
       "0                   0                   0                   0   \n",
       "1                   0                   0                   0   \n",
       "2                   0                   0                   0   \n",
       "3                   0                   0                   0   \n",
       "4                   0                   0                   0   \n",
       "\n",
       "   income_bracket_10.0  income_bracket_11.0  income_bracket_12.0  rented_0.0  \\\n",
       "0                    0                    0                    0           1   \n",
       "1                    0                    0                    0           0   \n",
       "2                    0                    0                    0           1   \n",
       "3                    0                    0                    0           1   \n",
       "4                    0                    0                    0           1   \n",
       "\n",
       "   rented_1.0  \n",
       "0           0  \n",
       "1           1  \n",
       "2           0  \n",
       "3           0  \n",
       "4           0  "
      ]
     },
     "execution_count": 367,
     "metadata": {},
     "output_type": "execute_result"
    }
   ],
   "source": [
    "x1.head()"
   ]
  },
  {
   "cell_type": "code",
   "execution_count": 368,
   "metadata": {},
   "outputs": [],
   "source": [
    "train1 = x1"
   ]
  },
  {
   "cell_type": "markdown",
   "metadata": {},
   "source": [
    "### Start fitting the model"
   ]
  },
  {
   "cell_type": "code",
   "execution_count": 369,
   "metadata": {},
   "outputs": [
    {
     "name": "stdout",
     "output_type": "stream",
     "text": [
      "predictors in train set :  (58776, 58)\n",
      "target in train set :  (58776,)\n",
      "predictors in test set :  (19593, 58)\n",
      "target in  test set :  (19593,)\n"
     ]
    },
    {
     "name": "stderr",
     "output_type": "stream",
     "text": [
      "C:\\Users\\ezchave\\AppData\\Local\\Continuum\\anaconda3\\lib\\site-packages\\ipykernel_launcher.py:4: FutureWarning: Method .as_matrix will be removed in a future version. Use .values instead.\n",
      "  after removing the cwd from sys.path.\n"
     ]
    }
   ],
   "source": [
    "# Create train and test set \n",
    "y = train1.redemption_status\n",
    "X = train1.drop({'redemption_status','id'},axis=1)\n",
    "train_X, test_X, train_y, test_y = train_test_split(X.as_matrix(), y.as_matrix(), test_size=0.25)\n",
    "print(\"predictors in train set : \", train_X.shape)\n",
    "print(\"target in train set : \", train_y.shape)\n",
    "print(\"predictors in test set : \", test_X.shape)\n",
    "print(\"target in  test set : \", test_y.shape)\n",
    "\n"
   ]
  },
  {
   "cell_type": "code",
   "execution_count": 379,
   "metadata": {},
   "outputs": [
    {
     "data": {
      "text/plain": [
       "(78369, 58)"
      ]
     },
     "execution_count": 379,
     "metadata": {},
     "output_type": "execute_result"
    }
   ],
   "source": [
    "train1.drop({'redemption_status','id'},axis=1).shape"
   ]
  },
  {
   "cell_type": "code",
   "execution_count": null,
   "metadata": {},
   "outputs": [],
   "source": []
  },
  {
   "cell_type": "code",
   "execution_count": 370,
   "metadata": {},
   "outputs": [
    {
     "name": "stdout",
     "output_type": "stream",
     "text": [
      "Performance train :  0.9284336375957264\n",
      "Performance test :  0.8894945326728687\n"
     ]
    }
   ],
   "source": [
    "from xgboost import XGBRegressor\n",
    "my_model = XGBRegressor(base_score=0.5, booster='gbtree', colsample_bylevel=1,\n",
    "                        colsample_bytree=1, gamma=0,\n",
    "                        learning_rate=0.1, max_delta_step=0,\n",
    "                        max_depth=3, min_child_weight=1, \n",
    "                        missing=None, n_estimators=100,\n",
    "                        n_jobs=1, nthread=None, \n",
    "                        objective='reg:linear', random_state=0,\n",
    "                        reg_alpha=0, reg_lambda=1, \n",
    "                        scale_pos_weight=1, seed=None,\n",
    "                        silent=True, subsample=1)\n",
    "\n",
    "my_model.fit(train_X, train_y, verbose=False)\n",
    "\n",
    "\"\"\"\n",
    "XGBRegressor(base_score=0.5, booster='gbtree', colsample_bylevel=1,\n",
    "       colsample_bytree=1, gamma=0, learning_rate=0.1, max_delta_step=0,\n",
    "       max_depth=3, min_child_weight=1, missing=None, n_estimators=100,\n",
    "       n_jobs=1, nthread=None, objective='reg:linear', random_state=0,\n",
    "       reg_alpha=0, reg_lambda=1, scale_pos_weight=1, seed=None,\n",
    "       silent=True, subsample=1)\n",
    "\"\"\"\n",
    "\n",
    "# Performance sur le train\n",
    "train_y_pred = my_model.predict(train_X)\n",
    "auc = roc_auc_score(train_y, train_y_pred)\n",
    "print(\"Performance train : \", auc)\n",
    "\n",
    "# Performance sur le test\n",
    "test_y_pred = my_model.predict(test_X)\n",
    "auc = roc_auc_score(test_y, test_y_pred)\n",
    "print(\"Performance test : \", auc)\n"
   ]
  },
  {
   "cell_type": "code",
   "execution_count": 393,
   "metadata": {},
   "outputs": [
    {
     "data": {
      "text/plain": [
       "XGBClassifier(base_score=0.5, booster='gbtree', colsample_bylevel=1,\n",
       "              colsample_bynode=1, colsample_bytree=0.8, gamma=0,\n",
       "              learning_rate=0.1, max_delta_step=0, max_depth=5,\n",
       "              min_child_weight=1, missing=None, n_estimators=1000, n_jobs=1,\n",
       "              nthread=4, objective='binary:logistic', random_state=0,\n",
       "              reg_alpha=0, reg_lambda=1, scale_pos_weight=1, seed=27,\n",
       "              silent=None, subsample=0.8, verbosity=1)"
      ]
     },
     "execution_count": 393,
     "metadata": {},
     "output_type": "execute_result"
    }
   ],
   "source": [
    "########### Fix learning rate and number of estimators for tuning tree-based parameters\n",
    "\n",
    "xgb1 = XGBClassifier(\n",
    "    learning_rate =0.1, n_estimators=1000,\n",
    "    max_depth=5, min_child_weight=1, gamma=0,subsample=0.8,colsample_bytree=0.8,\n",
    "    objective= 'binary:logistic', nthread=4,scale_pos_weight=1,seed=27)\n",
    "# modelfit(xgb1, train, train_X)\n",
    "xgb1.fit(train_X, train_y)\n",
    "\n",
    "\n"
   ]
  },
  {
   "cell_type": "code",
   "execution_count": 395,
   "metadata": {},
   "outputs": [
    {
     "name": "stdout",
     "output_type": "stream",
     "text": [
      "Performance  train :  0.9999996583566476\n",
      "Performance  test :  0.9239436096297995\n"
     ]
    }
   ],
   "source": [
    "# Performance sur le train\n",
    "auc = roc_auc_score(train_y, xgb1.predict_proba(train_X)[:,1])\n",
    "print(\"Performance  train : \", auc)\n",
    "\n",
    "# Performance sur le test\n",
    "auc = roc_auc_score(test_y, xgb1.predict_proba(test_X)[:,1])\n",
    "print(\"Performance  test : \", auc)"
   ]
  },
  {
   "cell_type": "code",
   "execution_count": 398,
   "metadata": {},
   "outputs": [
    {
     "name": "stdout",
     "output_type": "stream",
     "text": [
      "AUC: 0.92\n"
     ]
    },
    {
     "data": {
      "image/png": "[encoded data removed]",
      "text/plain": [
       "<Figure size 432x288 with 1 Axes>"
      ]
     },
     "metadata": {
      "needs_background": "light"
     },
     "output_type": "display_data"
    }
   ],
   "source": [
    "from sklearn.metrics import roc_curve\n",
    "import matplotlib.pyplot as plt\n",
    "def plot_roc_curve(fpr, tpr):\n",
    "    plt.plot(fpr, tpr, color='orange', label='ROC')\n",
    "    plt.plot([0, 1], [0, 1], color='darkblue', linestyle='--')\n",
    "    plt.xlabel('False Positive Rate')\n",
    "    plt.ylabel('True Positive Rate')\n",
    "    plt.title('Receiver Operating Characteristic (ROC) Curve')\n",
    "    plt.legend()\n",
    "    plt.show()\n",
    "probs = xgb1.predict_proba(test_X)\n",
    "auc = roc_auc_score(test_y, probs[:,1])\n",
    "print('AUC: %.2f' % auc)\n",
    "fpr, tpr, thresholds = roc_curve(test_y, probs[:,1])\n",
    "plot_roc_curve(fpr, tpr)"
   ]
  },
  {
   "cell_type": "code",
   "execution_count": 402,
   "metadata": {
    "scrolled": true
   },
   "outputs": [
    {
     "name": "stdout",
     "output_type": "stream",
     "text": [
      "              precision    recall  f1-score   support\n",
      "\n",
      "           0       0.99      1.00      1.00     19417\n",
      "           1       0.40      0.13      0.20       176\n",
      "\n",
      "    accuracy                           0.99     19593\n",
      "   macro avg       0.70      0.56      0.60     19593\n",
      "weighted avg       0.99      0.99      0.99     19593\n",
      "\n"
     ]
    }
   ],
   "source": [
    "print(classification_report(test_y,xgb1.predict(test_X)))"
   ]
  },
  {
   "cell_type": "code",
   "execution_count": 631,
   "metadata": {
    "scrolled": true
   },
   "outputs": [
    {
     "data": {
      "text/plain": [
       "GridSearchCV(cv=5, error_score='raise-deprecating',\n",
       "             estimator=XGBRegressor(base_score=0.5, booster='gbtree',\n",
       "                                    colsample_bylevel=1, colsample_bynode=1,\n",
       "                                    colsample_bytree=1, gamma=0,\n",
       "                                    importance_type='gain', learning_rate=0.1,\n",
       "                                    max_delta_step=0, max_depth=3,\n",
       "                                    min_child_weight=1, missing=None,\n",
       "                                    n_estimators=100, n_jobs=1, nthread=None,\n",
       "                                    objective='reg:linear', random_state=0,\n",
       "                                    reg_alpha=0, reg_lambda=1,\n",
       "                                    scale_pos_weight=1, seed=None, silent=True,\n",
       "                                    subsample=1, verbosity=1),\n",
       "             iid=False, n_jobs=4,\n",
       "             param_grid={'max_depth': range(3, 10, 2),\n",
       "                         'min_child_weight': range(1, 6, 2)},\n",
       "             pre_dispatch='2*n_jobs', refit=True, return_train_score=False,\n",
       "             scoring='roc_auc', verbose=0)"
      ]
     },
     "execution_count": 631,
     "metadata": {},
     "output_type": "execute_result"
    }
   ],
   "source": [
    "##########Tune max_depth and min_child_weight\n",
    "param_test1 = {\n",
    "    'max_depth':range(3,10,2),\n",
    "    'min_child_weight':range(1,6,2)\n",
    "}\n",
    "gsearch1 = GridSearchCV(estimator =  XGBRegressor(base_score=0.5, booster='gbtree', colsample_bylevel=1,\n",
    "                        colsample_bytree=1, gamma=0,\n",
    "                        learning_rate=0.1, max_delta_step=0,\n",
    "                        max_depth=3, min_child_weight=1, \n",
    "                        missing=None, n_estimators=100,\n",
    "                        n_jobs=1, nthread=None, \n",
    "                        objective='reg:linear', random_state=0,\n",
    "                        reg_alpha=0, reg_lambda=1, \n",
    "                        scale_pos_weight=1, seed=None,\n",
    "                        silent=True, subsample=1)\n",
    "                , \n",
    "                param_grid = param_test1, \n",
    "                scoring='roc_auc',\n",
    "                n_jobs=4,\n",
    "                iid=False, \n",
    "                cv=5)\n",
    "\n",
    "gsearch1.fit(train_X,train_y)\n"
   ]
  },
  {
   "cell_type": "code",
   "execution_count": 632,
   "metadata": {},
   "outputs": [
    {
     "data": {
      "text/plain": [
       "{'max_depth': 5, 'min_child_weight': 1}"
      ]
     },
     "execution_count": 632,
     "metadata": {},
     "output_type": "execute_result"
    }
   ],
   "source": [
    "gsearch1.best_params_ "
   ]
  },
  {
   "cell_type": "code",
   "execution_count": 633,
   "metadata": {},
   "outputs": [
    {
     "data": {
      "text/plain": [
       "6.106208086013794"
      ]
     },
     "execution_count": 633,
     "metadata": {},
     "output_type": "execute_result"
    }
   ],
   "source": [
    "gsearch1.refit_time_"
   ]
  },
  {
   "cell_type": "code",
   "execution_count": 634,
   "metadata": {},
   "outputs": [
    {
     "name": "stdout",
     "output_type": "stream",
     "text": [
      "Performance train :  0.9301670272528655\n",
      "Performance test :  0.8880944248220662\n"
     ]
    }
   ],
   "source": [
    "my_model2 = XGBRegressor(base_score=0.5, booster='gbtree', colsample_bylevel=1,\n",
    "                        colsample_bytree=1, gamma=0,\n",
    "                        learning_rate=0.1, max_delta_step=0,\n",
    "                        max_depth=5, min_child_weight=1, \n",
    "                        missing=None, n_estimators=100,\n",
    "                        n_jobs=1, nthread=None, \n",
    "                        objective='reg:linear', random_state=0,\n",
    "                        reg_alpha=0, reg_lambda=1, \n",
    "                        scale_pos_weight=1, seed=None,\n",
    "                        silent=True, subsample=1)\n",
    "\n",
    "my_model2.fit(train_X, train_y, verbose=False)\n",
    "\n",
    "\"\"\"\n",
    "XGBRegressor(base_score=0.5, booster='gbtree', colsample_bylevel=1,\n",
    "       colsample_bytree=1, gamma=0, learning_rate=0.1, max_delta_step=0,\n",
    "       max_depth=3, min_child_weight=1, missing=None, n_estimators=100,\n",
    "       n_jobs=1, nthread=None, objective='reg:linear', random_state=0,\n",
    "       reg_alpha=0, reg_lambda=1, scale_pos_weight=1, seed=None,\n",
    "       silent=True, subsample=1)\n",
    "\"\"\"\n",
    "\n",
    "# Performance sur le train\n",
    "train_y_pred = my_model.predict(train_X)\n",
    "auc = roc_auc_score(train_y, train_y_pred)\n",
    "print(\"Performance train : \", auc)\n",
    "\n",
    "# Performance sur le test\n",
    "test_y_pred = my_model.predict(test_X)\n",
    "auc = roc_auc_score(test_y, test_y_pred)\n",
    "print(\"Performance test : \", auc)\n"
   ]
  },
  {
   "cell_type": "code",
   "execution_count": 637,
   "metadata": {},
   "outputs": [
    {
     "data": {
      "text/plain": [
       "GridSearchCV(cv=5, error_score='raise-deprecating',\n",
       "             estimator=XGBRegressor(base_score=0.5, booster='gbtree',\n",
       "                                    colsample_bylevel=1, colsample_bynode=1,\n",
       "                                    colsample_bytree=1, gamma=0,\n",
       "                                    importance_type='gain', learning_rate=0.1,\n",
       "                                    max_delta_step=0, max_depth=5,\n",
       "                                    min_child_weight=1, missing=None,\n",
       "                                    n_estimators=100, n_jobs=1, nthread=None,\n",
       "                                    objective='reg:linear', random_state=0,\n",
       "                                    reg_alpha=0, reg_lambda=1,\n",
       "                                    scale_pos_weight=1, seed=None, silent=True,\n",
       "                                    subsample=1, verbosity=1),\n",
       "             iid=False, n_jobs=4,\n",
       "             param_grid={'gamma': [0.0, 0.1, 0.2, 0.3, 0.4]},\n",
       "             pre_dispatch='2*n_jobs', refit=True, return_train_score=False,\n",
       "             scoring='roc_auc', verbose=0)"
      ]
     },
     "execution_count": 637,
     "metadata": {},
     "output_type": "execute_result"
    }
   ],
   "source": [
    "##########Tune max_depth and min_child_weight\n",
    "param_test2 = {\n",
    "    'gamma':[i/10.0 for i in range(0,5)] \n",
    "}\n",
    "gsearch2 = GridSearchCV(estimator =  XGBRegressor(base_score=0.5, booster='gbtree', colsample_bylevel=1,\n",
    "                        colsample_bytree=1, gamma=0,\n",
    "                        learning_rate=0.1, max_delta_step=0,\n",
    "                        max_depth=5, min_child_weight=1, \n",
    "                        missing=None, n_estimators=100,\n",
    "                        n_jobs=1, nthread=None, \n",
    "                        objective='reg:linear', random_state=0,\n",
    "                        reg_alpha=0, reg_lambda=1, \n",
    "                        scale_pos_weight=1, seed=None,\n",
    "                        silent=True, subsample=1)\n",
    "                , \n",
    "                param_grid = param_test2, \n",
    "                scoring='roc_auc',\n",
    "                n_jobs=4,\n",
    "                iid=False, \n",
    "                cv=5)\n",
    "\n",
    "gsearch2.fit(train_X,train_y)\n"
   ]
  },
  {
   "cell_type": "code",
   "execution_count": 638,
   "metadata": {},
   "outputs": [
    {
     "data": {
      "text/plain": [
       "{'gamma': 0.0}"
      ]
     },
     "execution_count": 638,
     "metadata": {},
     "output_type": "execute_result"
    }
   ],
   "source": [
    "gsearch2.best_params_ "
   ]
  },
  {
   "cell_type": "code",
   "execution_count": 639,
   "metadata": {},
   "outputs": [
    {
     "name": "stdout",
     "output_type": "stream",
     "text": [
      "Performance train :  0.9301670272528655\n",
      "Performance test :  0.8880944248220662\n"
     ]
    }
   ],
   "source": [
    "my_model2 = XGBRegressor(base_score=0.5, booster='gbtree', colsample_bylevel=1,\n",
    "                        colsample_bytree=1, gamma=0,\n",
    "                        learning_rate=0.1, max_delta_step=0,\n",
    "                        max_depth=5, min_child_weight=1, \n",
    "                        missing=None, n_estimators=100,\n",
    "                        n_jobs=1, nthread=None, \n",
    "                        objective='reg:linear', random_state=0,\n",
    "                        reg_alpha=0, reg_lambda=1, \n",
    "                        scale_pos_weight=1, seed=None,\n",
    "                        silent=True, subsample=1)\n",
    "\n",
    "my_model2.fit(train_X, train_y, verbose=False)\n",
    "\n",
    "\"\"\"\n",
    "XGBRegressor(base_score=0.5, booster='gbtree', colsample_bylevel=1,\n",
    "       colsample_bytree=1, gamma=0, learning_rate=0.1, max_delta_step=0,\n",
    "       max_depth=3, min_child_weight=1, missing=None, n_estimators=100,\n",
    "       n_jobs=1, nthread=None, objective='reg:linear', random_state=0,\n",
    "       reg_alpha=0, reg_lambda=1, scale_pos_weight=1, seed=None,\n",
    "       silent=True, subsample=1)\n",
    "\"\"\"\n",
    "\n",
    "# Performance sur le train\n",
    "train_y_pred = my_model.predict(train_X)\n",
    "auc = roc_auc_score(train_y, train_y_pred)\n",
    "print(\"Performance train : \", auc)\n",
    "\n",
    "# Performance sur le test\n",
    "test_y_pred = my_model.predict(test_X)\n",
    "auc = roc_auc_score(test_y, test_y_pred)\n",
    "print(\"Performance test : \", auc)\n"
   ]
  },
  {
   "cell_type": "code",
   "execution_count": 640,
   "metadata": {},
   "outputs": [
    {
     "data": {
      "text/plain": [
       "GridSearchCV(cv=5, error_score='raise-deprecating',\n",
       "             estimator=XGBRegressor(base_score=0.5, booster='gbtree',\n",
       "                                    colsample_bylevel=1, colsample_bynode=1,\n",
       "                                    colsample_bytree=1, gamma=0,\n",
       "                                    importance_type='gain', learning_rate=0.1,\n",
       "                                    max_delta_step=0, max_depth=5,\n",
       "                                    min_child_weight=1, missing=None,\n",
       "                                    n_estimators=100, n_jobs=1, nthread=None,\n",
       "                                    objective='reg:linear', random_state=0,\n",
       "                                    reg_alpha=0, reg_lambda=1,\n",
       "                                    scale_pos_weight=1, seed=None, silent=True,\n",
       "                                    subsample=1, verbosity=1),\n",
       "             iid=False, n_jobs=4,\n",
       "             param_grid={'colsample_bytree': [0.6, 0.7, 0.8, 0.9],\n",
       "                         'subsample': [0.6, 0.7, 0.8, 0.9]},\n",
       "             pre_dispatch='2*n_jobs', refit=True, return_train_score=False,\n",
       "             scoring='roc_auc', verbose=0)"
      ]
     },
     "execution_count": 640,
     "metadata": {},
     "output_type": "execute_result"
    }
   ],
   "source": [
    "##########Tune max_depth and min_child_weight\n",
    "param_test4 = {\n",
    "    'subsample':[i/10.0 for i in range(6,10)],\n",
    "    'colsample_bytree':[i/10.0 for i in range(6,10)]\n",
    "}\n",
    "gsearch4 = GridSearchCV(estimator =  XGBRegressor(base_score=0.5, booster='gbtree', colsample_bylevel=1,\n",
    "                        colsample_bytree=1, gamma=0,\n",
    "                        learning_rate=0.1, max_delta_step=0,\n",
    "                        max_depth=5, min_child_weight=1, \n",
    "                        missing=None, n_estimators=100,\n",
    "                        n_jobs=1, nthread=None, \n",
    "                        objective='reg:linear', random_state=0,\n",
    "                        reg_alpha=0, reg_lambda=1, \n",
    "                        scale_pos_weight=1, seed=None,\n",
    "                        silent=True, subsample=1)\n",
    "                , \n",
    "                param_grid = param_test4, \n",
    "                scoring='roc_auc',\n",
    "                n_jobs=4,\n",
    "                iid=False, \n",
    "                cv=5)\n",
    "\n",
    "gsearch4.fit(train_X,train_y)\n"
   ]
  },
  {
   "cell_type": "code",
   "execution_count": 642,
   "metadata": {},
   "outputs": [
    {
     "data": {
      "text/plain": [
       "{'colsample_bytree': 0.9, 'subsample': 0.9}"
      ]
     },
     "execution_count": 642,
     "metadata": {},
     "output_type": "execute_result"
    }
   ],
   "source": [
    "gsearch4.best_params_ "
   ]
  },
  {
   "cell_type": "code",
   "execution_count": 643,
   "metadata": {},
   "outputs": [
    {
     "name": "stdout",
     "output_type": "stream",
     "text": [
      "Performance train :  0.9301670272528655\n",
      "Performance test :  0.8880944248220662\n"
     ]
    }
   ],
   "source": [
    "my_model2 = XGBRegressor(base_score=0.5, booster='gbtree', colsample_bylevel=1,\n",
    "                        colsample_bytree=0.9, gamma=0,\n",
    "                        learning_rate=0.1, max_delta_step=0,\n",
    "                        max_depth=5, min_child_weight=1, \n",
    "                        missing=None, n_estimators=100,\n",
    "                        n_jobs=1, nthread=None, \n",
    "                        objective='reg:linear', random_state=0,\n",
    "                        reg_alpha=0, reg_lambda=1, \n",
    "                        scale_pos_weight=1, seed=None,\n",
    "                        silent=True, subsample=0.9)\n",
    "\n",
    "my_model2.fit(train_X, train_y, verbose=False)\n",
    "\n",
    "\"\"\"\n",
    "XGBRegressor(base_score=0.5, booster='gbtree', colsample_bylevel=1,\n",
    "       colsample_bytree=1, gamma=0, learning_rate=0.1, max_delta_step=0,\n",
    "       max_depth=3, min_child_weight=1, missing=None, n_estimators=100,\n",
    "       n_jobs=1, nthread=None, objective='reg:linear', random_state=0,\n",
    "       reg_alpha=0, reg_lambda=1, scale_pos_weight=1, seed=None,\n",
    "       silent=True, subsample=1)\n",
    "\"\"\"\n",
    "\n",
    "# Performance sur le train\n",
    "train_y_pred = my_model.predict(train_X)\n",
    "auc = roc_auc_score(train_y, train_y_pred)\n",
    "print(\"Performance train : \", auc)\n",
    "\n",
    "# Performance sur le test\n",
    "test_y_pred = my_model.predict(test_X)\n",
    "auc = roc_auc_score(test_y, test_y_pred)\n",
    "print(\"Performance test : \", auc)\n"
   ]
  },
  {
   "cell_type": "code",
   "execution_count": 644,
   "metadata": {},
   "outputs": [
    {
     "data": {
      "text/plain": [
       "GridSearchCV(cv=5, error_score='raise-deprecating',\n",
       "             estimator=XGBRegressor(base_score=0.5, booster='gbtree',\n",
       "                                    colsample_bylevel=1, colsample_bynode=1,\n",
       "                                    colsample_bytree=0.9, gamma=0,\n",
       "                                    importance_type='gain', learning_rate=0.1,\n",
       "                                    max_delta_step=0, max_depth=5,\n",
       "                                    min_child_weight=1, missing=None,\n",
       "                                    n_estimators=100, n_jobs=1, nthread=None,\n",
       "                                    objective='reg:linear', random_state=0,\n",
       "                                    reg_alpha=0, reg_lambda=1,\n",
       "                                    scale_pos_weight=1, seed=None, silent=True,\n",
       "                                    subsample=0.9, verbosity=1),\n",
       "             iid=False, n_jobs=4,\n",
       "             param_grid={'learning_rate': [0.005, 0.007, 0.009, 0.011, 0.013,\n",
       "                                           0.015, 0.017, 0.019]},\n",
       "             pre_dispatch='2*n_jobs', refit=True, return_train_score=False,\n",
       "             scoring='roc_auc', verbose=0)"
      ]
     },
     "execution_count": 644,
     "metadata": {},
     "output_type": "execute_result"
    }
   ],
   "source": [
    "##########Tune max_depth and min_child_weight\n",
    "param_test6 = {\n",
    " 'learning_rate':[i/1000.0 for i in range(5,20,2)]\n",
    "}\n",
    "gsearch6 = GridSearchCV(estimator =  XGBRegressor(base_score=0.5, booster='gbtree', colsample_bylevel=1,\n",
    "                        colsample_bytree=0.9, gamma=0,\n",
    "                        learning_rate=0.1, max_delta_step=0,\n",
    "                        max_depth=5, min_child_weight=1, \n",
    "                        missing=None, n_estimators=100,\n",
    "                        n_jobs=1, nthread=None, \n",
    "                        objective='reg:linear', random_state=0,\n",
    "                        reg_alpha=0, reg_lambda=1, \n",
    "                        scale_pos_weight=1, seed=None,\n",
    "                        silent=True, subsample=0.9)\n",
    "                , \n",
    "                param_grid = param_test6, \n",
    "                scoring='roc_auc',\n",
    "                n_jobs=4,\n",
    "                iid=False, \n",
    "                cv=5)\n",
    "\n",
    "gsearch6.fit(train_X,train_y)\n"
   ]
  },
  {
   "cell_type": "code",
   "execution_count": 645,
   "metadata": {},
   "outputs": [
    {
     "data": {
      "text/plain": [
       "{'learning_rate': 0.019}"
      ]
     },
     "execution_count": 645,
     "metadata": {},
     "output_type": "execute_result"
    }
   ],
   "source": [
    "gsearch6.best_params_ "
   ]
  },
  {
   "cell_type": "code",
   "execution_count": 646,
   "metadata": {},
   "outputs": [
    {
     "name": "stdout",
     "output_type": "stream",
     "text": [
      "Performance train :  0.9301670272528655\n",
      "Performance test :  0.8880944248220662\n"
     ]
    }
   ],
   "source": [
    "my_model2 = XGBRegressor(base_score=0.5, booster='gbtree', colsample_bylevel=1,\n",
    "                        colsample_bytree=0.9, gamma=0,\n",
    "                        learning_rate=0.019, max_delta_step=0,\n",
    "                        max_depth=5, min_child_weight=1, \n",
    "                        missing=None, n_estimators=100,\n",
    "                        n_jobs=1, nthread=None, \n",
    "                        objective='reg:linear', random_state=0,\n",
    "                        reg_alpha=0, reg_lambda=1, \n",
    "                        scale_pos_weight=1, seed=None,\n",
    "                        silent=True, subsample=0.9)\n",
    "\n",
    "my_model2.fit(train_X, train_y, verbose=False)\n",
    "\n",
    "\"\"\"\n",
    "XGBRegressor(base_score=0.5, booster='gbtree', colsample_bylevel=1,\n",
    "       colsample_bytree=1, gamma=0, learning_rate=0.1, max_delta_step=0,\n",
    "       max_depth=3, min_child_weight=1, missing=None, n_estimators=100,\n",
    "       n_jobs=1, nthread=None, objective='reg:linear', random_state=0,\n",
    "       reg_alpha=0, reg_lambda=1, scale_pos_weight=1, seed=None,\n",
    "       silent=True, subsample=1)\n",
    "\"\"\"\n",
    "\n",
    "# Performance sur le train\n",
    "train_y_pred = my_model.predict(train_X)\n",
    "auc = roc_auc_score(train_y, train_y_pred)\n",
    "print(\"Performance train : \", auc)\n",
    "\n",
    "# Performance sur le test\n",
    "test_y_pred = my_model.predict(test_X)\n",
    "auc = roc_auc_score(test_y, test_y_pred)\n",
    "print(\"Performance test : \", auc)\n"
   ]
  },
  {
   "cell_type": "code",
   "execution_count": null,
   "metadata": {},
   "outputs": [],
   "source": [
    "########### Fix learning rate and number of estimators for tuning tree-based parameters\n",
    "# max deplt 5 -> 56% / 54% accuracy\n",
    "#max depth 7 -> 62% / 54%  accrucacy\n",
    "xgb2 = XGBClassifier(\n",
    "    learning_rate =0.019, n_estimators=1000,\n",
    "    max_depth=3, min_child_weight=1, gamma=0.4,subsample=0.9,colsample_bytree=0.6,\n",
    "    objective= 'binary:logistic', nthread=4,scale_pos_weight=1,seed=27)\n",
    "# modelfit(xgb1, train, train_X)\n",
    "xgb2.fit(train_X, train_y)\n",
    "\n",
    "# Performance sur le train\n",
    "auc = roc_auc_score(train_y, xgb2.predict(train_X))\n",
    "print(\"Performance sur le train : \", auc)\n",
    "\n",
    "# Performance sur le test\n",
    "auc = roc_auc_score(test_y, xgb2.predict(test_X))\n",
    "print(\"Performance sur le test : \", auc)\n"
   ]
  },
  {
   "cell_type": "code",
   "execution_count": null,
   "metadata": {},
   "outputs": [],
   "source": [
    "from sklearn.metrics import roc_curve\n",
    "import matplotlib.pyplot as plt\n",
    "def plot_roc_curve(fpr, tpr):\n",
    "    plt.plot(fpr, tpr, color='orange', label='ROC')\n",
    "    plt.plot([0, 1], [0, 1], color='darkblue', linestyle='--')\n",
    "    plt.xlabel('False Positive Rate')\n",
    "    plt.ylabel('True Positive Rate')\n",
    "    plt.title('Receiver Operating Characteristic (ROC) Curve')\n",
    "    plt.legend()\n",
    "    plt.show()\n",
    "probs = xgb2.predict_proba(test_X)\n",
    "auc = roc_auc_score(test_y, probs[:,1])\n",
    "print('AUC: %.2f' % auc)\n",
    "fpr, tpr, thresholds = roc_curve(test_y, probs[:,1])\n",
    "plot_roc_curve(fpr, tpr)"
   ]
  },
  {
   "cell_type": "code",
   "execution_count": null,
   "metadata": {},
   "outputs": [],
   "source": []
  },
  {
   "cell_type": "code",
   "execution_count": null,
   "metadata": {},
   "outputs": [],
   "source": []
  },
  {
   "cell_type": "markdown",
   "metadata": {},
   "source": [
    "### doing for the test data now"
   ]
  },
  {
   "cell_type": "code",
   "execution_count": 727,
   "metadata": {},
   "outputs": [],
   "source": [
    "test = pd.merge(test,campaign_data[['campaign_id','campaign_type','campaign_length']],on='campaign_id',how ='inner')"
   ]
  },
  {
   "cell_type": "code",
   "execution_count": 728,
   "metadata": {},
   "outputs": [
    {
     "name": "stdout",
     "output_type": "stream",
     "text": [
      "(50226, 6)\n",
      "(50226, 6)\n"
     ]
    }
   ],
   "source": [
    "# taking campaign data into account \n",
    "print(test.shape)\n",
    "train = pd.merge(train,campaign_data[['campaign_id','campaign_length','campaign_type']],on = 'campaign_id',how = 'inner')\n",
    "print(test.shape)"
   ]
  },
  {
   "cell_type": "code",
   "execution_count": 729,
   "metadata": {},
   "outputs": [
    {
     "name": "stdout",
     "output_type": "stream",
     "text": [
      "(50226, 7)\n"
     ]
    }
   ],
   "source": [
    "# taking coupon data into account\n",
    "test = pd.merge(test,pd.DataFrame(coupon_item_mapping['coupon_id'].value_counts()).reset_index().rename(columns = {'index':'coupon_id','coupon_id':'no_of_items_in_coupon'}),on = 'coupon_id',how='inner')\n",
    "print(test.shape)"
   ]
  },
  {
   "cell_type": "code",
   "execution_count": 730,
   "metadata": {},
   "outputs": [
    {
     "name": "stdout",
     "output_type": "stream",
     "text": [
      "(50226, 7)\n"
     ]
    }
   ],
   "source": [
    "print(test.shape)"
   ]
  },
  {
   "cell_type": "code",
   "execution_count": 731,
   "metadata": {},
   "outputs": [],
   "source": [
    "# taking customer's transaction data into account now\n",
    "customer_transaction_data.head()\n",
    "customer_transaction_data['recency'] =  pd.to_datetime('2013-09-03') - pd.to_datetime(customer_transaction_data['date'])\n",
    "customer_transaction_data.recency = customer_transaction_data.recency.dt.days"
   ]
  },
  {
   "cell_type": "code",
   "execution_count": 732,
   "metadata": {},
   "outputs": [],
   "source": [
    "test = pd.merge(test,customer_transaction_data[['customer_id','recency']].groupby('customer_id').min().reset_index(),on='customer_id',how = 'left')"
   ]
  },
  {
   "cell_type": "code",
   "execution_count": 733,
   "metadata": {},
   "outputs": [],
   "source": [
    "test = pd.merge(test,customer_transaction_data[['customer_id','coupon_discount']].groupby('customer_id').mean().reset_index(),how='left',on='customer_id')\n",
    "test.rename(columns = {'coupon_discount':'avg_coupon_discount'},inplace=True)"
   ]
  },
  {
   "cell_type": "code",
   "execution_count": 734,
   "metadata": {},
   "outputs": [
    {
     "data": {
      "text/html": [
       "<div>\n",
       "<style scoped>\n",
       "    .dataframe tbody tr th:only-of-type {\n",
       "        vertical-align: middle;\n",
       "    }\n",
       "\n",
       "    .dataframe tbody tr th {\n",
       "        vertical-align: top;\n",
       "    }\n",
       "\n",
       "    .dataframe thead th {\n",
       "        text-align: right;\n",
       "    }\n",
       "</style>\n",
       "<table border=\"1\" class=\"dataframe\">\n",
       "  <thead>\n",
       "    <tr style=\"text-align: right;\">\n",
       "      <th></th>\n",
       "      <th>id</th>\n",
       "      <th>campaign_id</th>\n",
       "      <th>coupon_id</th>\n",
       "      <th>customer_id</th>\n",
       "      <th>campaign_type</th>\n",
       "      <th>campaign_length</th>\n",
       "      <th>no_of_items_in_coupon</th>\n",
       "      <th>recency</th>\n",
       "      <th>avg_coupon_discount</th>\n",
       "    </tr>\n",
       "  </thead>\n",
       "  <tbody>\n",
       "    <tr>\n",
       "      <th>0</th>\n",
       "      <td>3</td>\n",
       "      <td>22</td>\n",
       "      <td>869</td>\n",
       "      <td>967</td>\n",
       "      <td>X</td>\n",
       "      <td>32</td>\n",
       "      <td>72</td>\n",
       "      <td>68</td>\n",
       "      <td>-1.550558</td>\n",
       "    </tr>\n",
       "    <tr>\n",
       "      <th>1</th>\n",
       "      <td>464</td>\n",
       "      <td>22</td>\n",
       "      <td>869</td>\n",
       "      <td>742</td>\n",
       "      <td>X</td>\n",
       "      <td>32</td>\n",
       "      <td>72</td>\n",
       "      <td>67</td>\n",
       "      <td>-0.318985</td>\n",
       "    </tr>\n",
       "    <tr>\n",
       "      <th>2</th>\n",
       "      <td>595</td>\n",
       "      <td>22</td>\n",
       "      <td>869</td>\n",
       "      <td>1103</td>\n",
       "      <td>X</td>\n",
       "      <td>32</td>\n",
       "      <td>72</td>\n",
       "      <td>63</td>\n",
       "      <td>-0.163571</td>\n",
       "    </tr>\n",
       "    <tr>\n",
       "      <th>3</th>\n",
       "      <td>939</td>\n",
       "      <td>22</td>\n",
       "      <td>869</td>\n",
       "      <td>963</td>\n",
       "      <td>X</td>\n",
       "      <td>32</td>\n",
       "      <td>72</td>\n",
       "      <td>64</td>\n",
       "      <td>-0.034740</td>\n",
       "    </tr>\n",
       "    <tr>\n",
       "      <th>4</th>\n",
       "      <td>1495</td>\n",
       "      <td>22</td>\n",
       "      <td>869</td>\n",
       "      <td>433</td>\n",
       "      <td>X</td>\n",
       "      <td>32</td>\n",
       "      <td>72</td>\n",
       "      <td>63</td>\n",
       "      <td>-1.646791</td>\n",
       "    </tr>\n",
       "  </tbody>\n",
       "</table>\n",
       "</div>"
      ],
      "text/plain": [
       "     id  campaign_id  coupon_id  customer_id campaign_type  campaign_length  \\\n",
       "0     3           22        869          967             X               32   \n",
       "1   464           22        869          742             X               32   \n",
       "2   595           22        869         1103             X               32   \n",
       "3   939           22        869          963             X               32   \n",
       "4  1495           22        869          433             X               32   \n",
       "\n",
       "   no_of_items_in_coupon  recency  avg_coupon_discount  \n",
       "0                     72       68            -1.550558  \n",
       "1                     72       67            -0.318985  \n",
       "2                     72       63            -0.163571  \n",
       "3                     72       64            -0.034740  \n",
       "4                     72       63            -1.646791  "
      ]
     },
     "execution_count": 734,
     "metadata": {},
     "output_type": "execute_result"
    }
   ],
   "source": [
    "test.head()"
   ]
  },
  {
   "cell_type": "code",
   "execution_count": 735,
   "metadata": {},
   "outputs": [],
   "source": [
    "test = pd.merge(test,customer_transaction_data[['customer_id','quantity']].groupby('customer_id').sum().reset_index(),how='left',on='customer_id').rename(columns = {'quantity':'ttl_quantity'})\n"
   ]
  },
  {
   "cell_type": "code",
   "execution_count": 736,
   "metadata": {
    "scrolled": true
   },
   "outputs": [
    {
     "data": {
      "text/html": [
       "<div>\n",
       "<style scoped>\n",
       "    .dataframe tbody tr th:only-of-type {\n",
       "        vertical-align: middle;\n",
       "    }\n",
       "\n",
       "    .dataframe tbody tr th {\n",
       "        vertical-align: top;\n",
       "    }\n",
       "\n",
       "    .dataframe thead th {\n",
       "        text-align: right;\n",
       "    }\n",
       "</style>\n",
       "<table border=\"1\" class=\"dataframe\">\n",
       "  <thead>\n",
       "    <tr style=\"text-align: right;\">\n",
       "      <th></th>\n",
       "      <th>id</th>\n",
       "      <th>campaign_id</th>\n",
       "      <th>coupon_id</th>\n",
       "      <th>customer_id</th>\n",
       "      <th>campaign_type</th>\n",
       "      <th>campaign_length</th>\n",
       "      <th>no_of_items_in_coupon</th>\n",
       "      <th>recency</th>\n",
       "      <th>avg_coupon_discount</th>\n",
       "      <th>ttl_quantity</th>\n",
       "    </tr>\n",
       "  </thead>\n",
       "  <tbody>\n",
       "    <tr>\n",
       "      <th>0</th>\n",
       "      <td>3</td>\n",
       "      <td>22</td>\n",
       "      <td>869</td>\n",
       "      <td>967</td>\n",
       "      <td>X</td>\n",
       "      <td>32</td>\n",
       "      <td>72</td>\n",
       "      <td>68</td>\n",
       "      <td>-1.550558</td>\n",
       "      <td>16644</td>\n",
       "    </tr>\n",
       "    <tr>\n",
       "      <th>1</th>\n",
       "      <td>464</td>\n",
       "      <td>22</td>\n",
       "      <td>869</td>\n",
       "      <td>742</td>\n",
       "      <td>X</td>\n",
       "      <td>32</td>\n",
       "      <td>72</td>\n",
       "      <td>67</td>\n",
       "      <td>-0.318985</td>\n",
       "      <td>58177</td>\n",
       "    </tr>\n",
       "    <tr>\n",
       "      <th>2</th>\n",
       "      <td>595</td>\n",
       "      <td>22</td>\n",
       "      <td>869</td>\n",
       "      <td>1103</td>\n",
       "      <td>X</td>\n",
       "      <td>32</td>\n",
       "      <td>72</td>\n",
       "      <td>63</td>\n",
       "      <td>-0.163571</td>\n",
       "      <td>1060691</td>\n",
       "    </tr>\n",
       "    <tr>\n",
       "      <th>3</th>\n",
       "      <td>939</td>\n",
       "      <td>22</td>\n",
       "      <td>869</td>\n",
       "      <td>963</td>\n",
       "      <td>X</td>\n",
       "      <td>32</td>\n",
       "      <td>72</td>\n",
       "      <td>64</td>\n",
       "      <td>-0.034740</td>\n",
       "      <td>39575</td>\n",
       "    </tr>\n",
       "    <tr>\n",
       "      <th>4</th>\n",
       "      <td>1495</td>\n",
       "      <td>22</td>\n",
       "      <td>869</td>\n",
       "      <td>433</td>\n",
       "      <td>X</td>\n",
       "      <td>32</td>\n",
       "      <td>72</td>\n",
       "      <td>63</td>\n",
       "      <td>-1.646791</td>\n",
       "      <td>1637</td>\n",
       "    </tr>\n",
       "  </tbody>\n",
       "</table>\n",
       "</div>"
      ],
      "text/plain": [
       "     id  campaign_id  coupon_id  customer_id campaign_type  campaign_length  \\\n",
       "0     3           22        869          967             X               32   \n",
       "1   464           22        869          742             X               32   \n",
       "2   595           22        869         1103             X               32   \n",
       "3   939           22        869          963             X               32   \n",
       "4  1495           22        869          433             X               32   \n",
       "\n",
       "   no_of_items_in_coupon  recency  avg_coupon_discount  ttl_quantity  \n",
       "0                     72       68            -1.550558         16644  \n",
       "1                     72       67            -0.318985         58177  \n",
       "2                     72       63            -0.163571       1060691  \n",
       "3                     72       64            -0.034740         39575  \n",
       "4                     72       63            -1.646791          1637  "
      ]
     },
     "execution_count": 736,
     "metadata": {},
     "output_type": "execute_result"
    }
   ],
   "source": [
    "test.head()"
   ]
  },
  {
   "cell_type": "code",
   "execution_count": null,
   "metadata": {},
   "outputs": [],
   "source": []
  },
  {
   "cell_type": "code",
   "execution_count": 737,
   "metadata": {},
   "outputs": [],
   "source": [
    "test['campaign_type_X'] = test['campaign_type'].map(lambda x :1 if x == 'X' else 0)\n",
    "test.drop('campaign_type',axis=1,inplace=True)"
   ]
  },
  {
   "cell_type": "code",
   "execution_count": 738,
   "metadata": {},
   "outputs": [],
   "source": [
    "test = pd.merge(test,customer_demographics,how='left',on='customer_id')\n"
   ]
  },
  {
   "cell_type": "code",
   "execution_count": 746,
   "metadata": {},
   "outputs": [
    {
     "data": {
      "text/html": [
       "<div>\n",
       "<style scoped>\n",
       "    .dataframe tbody tr th:only-of-type {\n",
       "        vertical-align: middle;\n",
       "    }\n",
       "\n",
       "    .dataframe tbody tr th {\n",
       "        vertical-align: top;\n",
       "    }\n",
       "\n",
       "    .dataframe thead th {\n",
       "        text-align: right;\n",
       "    }\n",
       "</style>\n",
       "<table border=\"1\" class=\"dataframe\">\n",
       "  <thead>\n",
       "    <tr style=\"text-align: right;\">\n",
       "      <th></th>\n",
       "      <th>id</th>\n",
       "      <th>campaign_id</th>\n",
       "      <th>coupon_id</th>\n",
       "      <th>customer_id</th>\n",
       "      <th>campaign_length</th>\n",
       "      <th>no_of_items_in_coupon</th>\n",
       "      <th>recency</th>\n",
       "      <th>avg_coupon_discount</th>\n",
       "      <th>ttl_quantity</th>\n",
       "      <th>campaign_type_X</th>\n",
       "      <th>age_range</th>\n",
       "      <th>marital_status</th>\n",
       "      <th>rented</th>\n",
       "      <th>family_size</th>\n",
       "      <th>no_of_children</th>\n",
       "      <th>income_bracket</th>\n",
       "      <th>redemption_status</th>\n",
       "    </tr>\n",
       "  </thead>\n",
       "  <tbody>\n",
       "    <tr>\n",
       "      <th>0</th>\n",
       "      <td>3</td>\n",
       "      <td>22</td>\n",
       "      <td>869</td>\n",
       "      <td>967</td>\n",
       "      <td>32</td>\n",
       "      <td>72</td>\n",
       "      <td>68</td>\n",
       "      <td>-1.550558</td>\n",
       "      <td>16644</td>\n",
       "      <td>1</td>\n",
       "      <td>2.0</td>\n",
       "      <td>3.0</td>\n",
       "      <td>0.0</td>\n",
       "      <td>1.0</td>\n",
       "      <td>0.0</td>\n",
       "      <td>5.0</td>\n",
       "      <td>0.089112</td>\n",
       "    </tr>\n",
       "    <tr>\n",
       "      <th>1</th>\n",
       "      <td>464</td>\n",
       "      <td>22</td>\n",
       "      <td>869</td>\n",
       "      <td>742</td>\n",
       "      <td>32</td>\n",
       "      <td>72</td>\n",
       "      <td>67</td>\n",
       "      <td>-0.318985</td>\n",
       "      <td>58177</td>\n",
       "      <td>1</td>\n",
       "      <td>3.0</td>\n",
       "      <td>3.0</td>\n",
       "      <td>0.0</td>\n",
       "      <td>2.0</td>\n",
       "      <td>0.0</td>\n",
       "      <td>2.0</td>\n",
       "      <td>0.014926</td>\n",
       "    </tr>\n",
       "    <tr>\n",
       "      <th>2</th>\n",
       "      <td>595</td>\n",
       "      <td>22</td>\n",
       "      <td>869</td>\n",
       "      <td>1103</td>\n",
       "      <td>32</td>\n",
       "      <td>72</td>\n",
       "      <td>63</td>\n",
       "      <td>-0.163571</td>\n",
       "      <td>1060691</td>\n",
       "      <td>1</td>\n",
       "      <td>1.0</td>\n",
       "      <td>1.0</td>\n",
       "      <td>0.0</td>\n",
       "      <td>2.0</td>\n",
       "      <td>0.0</td>\n",
       "      <td>4.0</td>\n",
       "      <td>0.032608</td>\n",
       "    </tr>\n",
       "    <tr>\n",
       "      <th>3</th>\n",
       "      <td>939</td>\n",
       "      <td>22</td>\n",
       "      <td>869</td>\n",
       "      <td>963</td>\n",
       "      <td>32</td>\n",
       "      <td>72</td>\n",
       "      <td>64</td>\n",
       "      <td>-0.034740</td>\n",
       "      <td>39575</td>\n",
       "      <td>1</td>\n",
       "      <td>NaN</td>\n",
       "      <td>NaN</td>\n",
       "      <td>NaN</td>\n",
       "      <td>NaN</td>\n",
       "      <td>NaN</td>\n",
       "      <td>NaN</td>\n",
       "      <td>0.002996</td>\n",
       "    </tr>\n",
       "    <tr>\n",
       "      <th>4</th>\n",
       "      <td>1495</td>\n",
       "      <td>22</td>\n",
       "      <td>869</td>\n",
       "      <td>433</td>\n",
       "      <td>32</td>\n",
       "      <td>72</td>\n",
       "      <td>63</td>\n",
       "      <td>-1.646791</td>\n",
       "      <td>1637</td>\n",
       "      <td>1</td>\n",
       "      <td>NaN</td>\n",
       "      <td>NaN</td>\n",
       "      <td>NaN</td>\n",
       "      <td>NaN</td>\n",
       "      <td>NaN</td>\n",
       "      <td>NaN</td>\n",
       "      <td>0.066538</td>\n",
       "    </tr>\n",
       "  </tbody>\n",
       "</table>\n",
       "</div>"
      ],
      "text/plain": [
       "     id  campaign_id  coupon_id  customer_id  campaign_length  \\\n",
       "0     3           22        869          967               32   \n",
       "1   464           22        869          742               32   \n",
       "2   595           22        869         1103               32   \n",
       "3   939           22        869          963               32   \n",
       "4  1495           22        869          433               32   \n",
       "\n",
       "   no_of_items_in_coupon  recency  avg_coupon_discount  ttl_quantity  \\\n",
       "0                     72       68            -1.550558         16644   \n",
       "1                     72       67            -0.318985         58177   \n",
       "2                     72       63            -0.163571       1060691   \n",
       "3                     72       64            -0.034740         39575   \n",
       "4                     72       63            -1.646791          1637   \n",
       "\n",
       "   campaign_type_X  age_range  marital_status  rented  family_size  \\\n",
       "0                1        2.0             3.0     0.0          1.0   \n",
       "1                1        3.0             3.0     0.0          2.0   \n",
       "2                1        1.0             1.0     0.0          2.0   \n",
       "3                1        NaN             NaN     NaN          NaN   \n",
       "4                1        NaN             NaN     NaN          NaN   \n",
       "\n",
       "   no_of_children  income_bracket  redemption_status  \n",
       "0             0.0             5.0           0.089112  \n",
       "1             0.0             2.0           0.014926  \n",
       "2             0.0             4.0           0.032608  \n",
       "3             NaN             NaN           0.002996  \n",
       "4             NaN             NaN           0.066538  "
      ]
     },
     "execution_count": 746,
     "metadata": {},
     "output_type": "execute_result"
    }
   ],
   "source": [
    "test.head()"
   ]
  },
  {
   "cell_type": "code",
   "execution_count": 740,
   "metadata": {},
   "outputs": [],
   "source": [
    "test_x = test.drop({'customer_id','coupon_id','campaign_id'},axis=1)"
   ]
  },
  {
   "cell_type": "code",
   "execution_count": 741,
   "metadata": {},
   "outputs": [],
   "source": [
    "test_x = my_imputer.transform(test_x)"
   ]
  },
  {
   "cell_type": "code",
   "execution_count": 748,
   "metadata": {},
   "outputs": [
    {
     "data": {
      "text/plain": [
       "array([ 1.49500000e+03,  3.20000000e+01,  7.20000000e+01,  6.30000000e+01,\n",
       "       -1.64679056e+00,  1.63700000e+03,  1.00000000e+00,  2.43522162e+00,\n",
       "        1.99008572e+00,  5.72892834e-02,  2.22845551e+00,  5.81312346e-01,\n",
       "        4.80805955e+00])"
      ]
     },
     "execution_count": 748,
     "metadata": {},
     "output_type": "execute_result"
    }
   ],
   "source": [
    "test_x[4]"
   ]
  },
  {
   "cell_type": "code",
   "execution_count": 750,
   "metadata": {},
   "outputs": [
    {
     "data": {
      "text/plain": [
       "1.99008572"
      ]
     },
     "execution_count": 750,
     "metadata": {},
     "output_type": "execute_result"
    }
   ],
   "source": [
    "1.99008572e+00"
   ]
  },
  {
   "cell_type": "code",
   "execution_count": 743,
   "metadata": {
    "scrolled": true
   },
   "outputs": [],
   "source": [
    "ouput = my_model.predict(test_x)"
   ]
  },
  {
   "cell_type": "code",
   "execution_count": 744,
   "metadata": {},
   "outputs": [],
   "source": [
    "test['redemption_status'] = ouput"
   ]
  },
  {
   "cell_type": "code",
   "execution_count": 745,
   "metadata": {
    "scrolled": true
   },
   "outputs": [],
   "source": [
    "test[['id','redemption_status']].sort_values('id').reset_index(drop=True).to_csv(r'C:\\Users\\ezchave\\Desktop\\Work\\Amex\\submission5.csv',index=False)"
   ]
  },
  {
   "cell_type": "code",
   "execution_count": null,
   "metadata": {},
   "outputs": [],
   "source": [
    "test_x"
   ]
  },
  {
   "cell_type": "code",
   "execution_count": null,
   "metadata": {},
   "outputs": [],
   "source": []
  },
  {
   "cell_type": "code",
   "execution_count": null,
   "metadata": {},
   "outputs": [],
   "source": []
  },
  {
   "cell_type": "code",
   "execution_count": null,
   "metadata": {},
   "outputs": [],
   "source": [
    "###################################################################"
   ]
  },
  {
   "cell_type": "code",
   "execution_count": null,
   "metadata": {},
   "outputs": [],
   "source": []
  },
  {
   "cell_type": "code",
   "execution_count": 354,
   "metadata": {
    "scrolled": true
   },
   "outputs": [
    {
     "name": "stdout",
     "output_type": "stream",
     "text": [
      "(50226, 4)\n",
      "(50226, 6)\n",
      "(50226, 7)\n",
      "(50226, 7)\n"
     ]
    }
   ],
   "source": [
    "# taking campaign data into account \n",
    "print(test.shape)\n",
    "test = pd.merge(test,campaign_data[['campaign_id','campaign_length','campaign_type']],on = 'campaign_id',how = 'inner')\n",
    "print(test.shape)\n",
    "\n",
    "# taking coupon data into account\n",
    "test = pd.merge(test,pd.DataFrame(coupon_item_mapping['coupon_id'].value_counts()).reset_index().rename(columns = {'index':'coupon_id','coupon_id':'no_of_items_in_coupon'}),on = 'coupon_id',how='inner')\n",
    "print(test.shape)\n",
    "\n",
    "print(test.shape)\n",
    "\n",
    "# taking customer's transaction data into account now\n",
    "customer_transaction_data.head()\n",
    "customer_transaction_data['recency'] =  pd.to_datetime('2013-09-03') - pd.to_datetime(customer_transaction_data['date'])\n",
    "customer_transaction_data.recency = customer_transaction_data.recency.dt.days\n",
    "\n",
    "test = pd.merge(test,customer_transaction_data[['customer_id','recency']].groupby('customer_id').min().reset_index(),on='customer_id',how = 'left')\n",
    "\n",
    "test = pd.merge(test,customer_transaction_data[['customer_id','coupon_discount']].groupby('customer_id').mean().reset_index(),how='left',on='customer_id')\n",
    "test.rename(columns = {'coupon_discount':'avg_coupon_discount'},inplace=True)\n",
    "\n",
    "test = pd.merge(test,customer_transaction_data[['customer_id','quantity']].groupby('customer_id').sum().reset_index(),how='left',on='customer_id').rename(columns = {'quantity':'ttl_quantity'})\n",
    "\n",
    "\n",
    "test['campaign_type_X'] = test['campaign_type'].map(lambda x :1 if x == 'X' else 0)\n",
    "test.drop('campaign_type',axis=1,inplace=True)\n",
    "\n",
    "test = pd.merge(test,customer_demographics,how='left',on='customer_id')\n",
    "\n",
    "test.head()\n",
    "\n",
    "item_data.shape\n",
    "\n",
    "item_data.drop_duplicates().shape\n",
    "\n",
    "item_data.item_id.unique().shape\n",
    "\n",
    "test = pd.merge(test,coupon_item_mapping[['coupon_id','no_of_items']].drop_duplicates(),on='coupon_id',how='left')\n",
    "\n",
    "test = pd.merge(test,customer_transaction_data[['customer_id','most_purchased_item','customer_best_dotw']].drop_duplicates(),on='customer_id',how = 'left')\n",
    "\n",
    "test = pd.merge(test,customer_transaction_data[['item_id','item_best_dotw']].drop_duplicates(),left_on='most_purchased_item',right_on='item_id',how='left')\n",
    "\n",
    "test.head()\n",
    "\n",
    "test = pd.get_dummies(test,columns = {'item_best_dotw','customer_best_dotw'} )\n"
   ]
  },
  {
   "cell_type": "code",
   "execution_count": 383,
   "metadata": {},
   "outputs": [],
   "source": [
    "test_ = my_imputer.transform(test)\n",
    "x = pd.DataFrame(test_)\n",
    "x.columns = test.columns\n",
    "\n",
    "x.head()\n",
    "\n",
    "test1 = x"
   ]
  },
  {
   "cell_type": "code",
   "execution_count": 384,
   "metadata": {},
   "outputs": [],
   "source": [
    "x.age_range = x.age_range.round()\n",
    "x.marital_status = x.marital_status.round()\n",
    "x.rented = x.rented.round()\n",
    "x.family_size = x.family_size.round()\n",
    "x.no_of_children = x.no_of_children.round()\n",
    "x.income_bracket = x.income_bracket.round()\n",
    "x1 = pd.get_dummies(x,columns = {'age_range','marital_status','rented','family_size','no_of_children','income_bracket'})"
   ]
  },
  {
   "cell_type": "code",
   "execution_count": 385,
   "metadata": {},
   "outputs": [
    {
     "data": {
      "text/plain": [
       "Index(['id', 'campaign_id', 'coupon_id', 'customer_id', 'campaign_length',\n",
       "       'no_of_items_in_coupon', 'recency', 'avg_coupon_discount',\n",
       "       'ttl_quantity', 'campaign_type_X', 'no_of_items', 'most_purchased_item',\n",
       "       'item_id', 'customer_best_dotw_Friday', 'customer_best_dotw_Monday',\n",
       "       'customer_best_dotw_Saturday', 'customer_best_dotw_Sunday',\n",
       "       'customer_best_dotw_Thursday', 'customer_best_dotw_Tuesday',\n",
       "       'customer_best_dotw_Wednesday', 'item_best_dotw_Friday',\n",
       "       'item_best_dotw_Monday', 'item_best_dotw_Saturday',\n",
       "       'item_best_dotw_Sunday', 'item_best_dotw_Thursday',\n",
       "       'item_best_dotw_Tuesday', 'item_best_dotw_Wednesday',\n",
       "       'marital_status_1.0', 'marital_status_2.0', 'marital_status_3.0',\n",
       "       'family_size_1.0', 'family_size_2.0', 'family_size_3.0',\n",
       "       'family_size_4.0', 'family_size_5.0', 'age_range_0.0', 'age_range_1.0',\n",
       "       'age_range_2.0', 'age_range_3.0', 'age_range_4.0', 'age_range_5.0',\n",
       "       'no_of_children_0.0', 'no_of_children_1.0', 'no_of_children_2.0',\n",
       "       'no_of_children_3.0', 'income_bracket_1.0', 'income_bracket_2.0',\n",
       "       'income_bracket_3.0', 'income_bracket_4.0', 'income_bracket_5.0',\n",
       "       'income_bracket_6.0', 'income_bracket_7.0', 'income_bracket_8.0',\n",
       "       'income_bracket_9.0', 'income_bracket_10.0', 'income_bracket_11.0',\n",
       "       'income_bracket_12.0', 'rented_0.0', 'rented_1.0'],\n",
       "      dtype='object')"
      ]
     },
     "execution_count": 385,
     "metadata": {},
     "output_type": "execute_result"
    }
   ],
   "source": [
    "x1.columns\n"
   ]
  },
  {
   "cell_type": "code",
   "execution_count": 377,
   "metadata": {},
   "outputs": [
    {
     "data": {
      "text/plain": [
       "Index(['id', 'campaign_id', 'coupon_id', 'customer_id', 'campaign_length',\n",
       "       'no_of_items_in_coupon', 'recency', 'avg_coupon_discount',\n",
       "       'ttl_quantity', 'campaign_type_X', 'no_of_items', 'most_purchased_item',\n",
       "       'item_id', 'customer_best_dotw_Friday', 'customer_best_dotw_Monday',\n",
       "       'customer_best_dotw_Saturday', 'customer_best_dotw_Sunday',\n",
       "       'customer_best_dotw_Thursday', 'customer_best_dotw_Tuesday',\n",
       "       'customer_best_dotw_Wednesday', 'item_best_dotw_Friday',\n",
       "       'item_best_dotw_Monday', 'item_best_dotw_Saturday',\n",
       "       'item_best_dotw_Sunday', 'item_best_dotw_Thursday',\n",
       "       'item_best_dotw_Tuesday', 'item_best_dotw_Wednesday',\n",
       "       'redemption_status', 'marital_status_1.0', 'marital_status_2.0',\n",
       "       'marital_status_3.0', 'family_size_1.0', 'family_size_2.0',\n",
       "       'family_size_3.0', 'family_size_4.0', 'family_size_5.0',\n",
       "       'age_range_0.0', 'age_range_1.0', 'age_range_2.0', 'age_range_3.0',\n",
       "       'age_range_4.0', 'age_range_5.0', 'no_of_children_0.0',\n",
       "       'no_of_children_1.0', 'no_of_children_2.0', 'no_of_children_3.0',\n",
       "       'income_bracket_1.0', 'income_bracket_2.0', 'income_bracket_3.0',\n",
       "       'income_bracket_4.0', 'income_bracket_5.0', 'income_bracket_6.0',\n",
       "       'income_bracket_7.0', 'income_bracket_8.0', 'income_bracket_9.0',\n",
       "       'income_bracket_10.0', 'income_bracket_11.0', 'income_bracket_12.0',\n",
       "       'rented_0.0', 'rented_1.0'],\n",
       "      dtype='object')"
      ]
     },
     "execution_count": 377,
     "metadata": {},
     "output_type": "execute_result"
    }
   ],
   "source": [
    "train1.columns"
   ]
  },
  {
   "cell_type": "code",
   "execution_count": 403,
   "metadata": {},
   "outputs": [
    {
     "name": "stderr",
     "output_type": "stream",
     "text": [
      "C:\\Users\\ezchave\\AppData\\Local\\Continuum\\anaconda3\\lib\\site-packages\\ipykernel_launcher.py:1: FutureWarning: Method .as_matrix will be removed in a future version. Use .values instead.\n",
      "  \"\"\"Entry point for launching an IPython kernel.\n"
     ]
    }
   ],
   "source": [
    "ouput = xgb1.predict_proba(x1.drop('id',axis=1).as_matrix())"
   ]
  },
  {
   "cell_type": "code",
   "execution_count": 404,
   "metadata": {},
   "outputs": [],
   "source": [
    "test1['redemption_status'] = ouput\n",
    "test1['redemption_status']  = test1['redemption_status'].abs()\n",
    "test1[['id','redemption_status']].sort_values('id').reset_index(drop=True).to_csv(r'C:\\Users\\ezchave\\Desktop\\Work\\Amex\\submission9.csv',index=False)"
   ]
  }
 ],
 "metadata": {
  "kernelspec": {
   "display_name": "Python 3",
   "language": "python",
   "name": "python3"
  },
  "language_info": {
   "codemirror_mode": {
    "name": "ipython",
    "version": 3
   },
   "file_extension": ".py",
   "mimetype": "text/x-python",
   "name": "python",
   "nbconvert_exporter": "python",
   "pygments_lexer": "ipython3",
   "version": "3.7.3"
  }
 },
 "nbformat": 4,
 "nbformat_minor": 2
}
